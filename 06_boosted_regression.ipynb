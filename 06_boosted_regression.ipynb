{
 "cells": [
  {
   "cell_type": "code",
   "execution_count": 2,
   "metadata": {},
   "outputs": [
    {
     "name": "stdout",
     "output_type": "stream",
     "text": [
      "Error(mae=513.3032735081141, max=3058.7615961961474, total=4496536.675931095)\n"
     ]
    }
   ],
   "source": [
    "%load_ext autoreload\n",
    "%autoreload 2\n",
    "\n",
    "from datasets import Zone1\n",
    "ds = Zone1('data/zone1_prior_load.parquet')\n",
    "ds.data.head()\n",
    "\n",
    "from validation import walkforward, Error\n",
    "from sklearn.ensemble import GradientBoostingRegressor\n",
    "import numpy as np\n",
    "\n",
    "model = GradientBoostingRegressor(loss='huber', n_estimators=1000)\n",
    "(predictions, errors) = walkforward(model, ds.data, ds.data[ds.actual],\n",
    "                                    ds.validation_start, ds.validation_end, Zone1.next_hour,\n",
    "                                    ds.features)\n",
    "overall_error = Error(ds.validation_data[ds.actual], np.concatenate(predictions))\n",
    "print(overall_error)\n"
   ]
  },
  {
   "cell_type": "code",
   "execution_count": 4,
   "metadata": {},
   "outputs": [
    {
     "name": "stdout",
     "output_type": "stream",
     "text": [
      "The autoreload extension is already loaded. To reload it, use:\n",
      "  %reload_ext autoreload\n",
      "Error(mae=500.40109407709343, max=3050.5595988339883, total=4383513.584115361)\n"
     ]
    }
   ],
   "source": [
    "%load_ext autoreload\n",
    "%autoreload 2\n",
    "\n",
    "from datasets import Zone1\n",
    "ds = Zone1('data/zone1_prior_load.parquet')\n",
    "ds.data.head()\n",
    "\n",
    "from validation import walkforward, Error\n",
    "from sklearn.ensemble import GradientBoostingRegressor\n",
    "import numpy as np\n",
    "\n",
    "model = GradientBoostingRegressor(loss='huber', n_estimators=500)\n",
    "(predictions, errors) = walkforward(model, ds.data, ds.data[ds.actual],\n",
    "                                    ds.validation_start, ds.validation_end, Zone1.next_hour,\n",
    "                                    ds.features)\n",
    "overall_error = Error(ds.validation_data[ds.actual], np.concatenate(predictions))\n",
    "print(overall_error)\n"
   ]
  },
  {
   "cell_type": "code",
   "execution_count": 5,
   "metadata": {},
   "outputs": [
    {
     "name": "stdout",
     "output_type": "stream",
     "text": [
      "The autoreload extension is already loaded. To reload it, use:\n",
      "  %reload_ext autoreload\n",
      "Error(mae=494.440561448831, max=2980.4099274055106, total=4331299.318291764)\n"
     ]
    }
   ],
   "source": [
    "%load_ext autoreload\n",
    "%autoreload 2\n",
    "\n",
    "from datasets import Zone1\n",
    "ds = Zone1('data/zone1_prior_load.parquet')\n",
    "ds.data.head()\n",
    "\n",
    "from validation import walkforward, Error\n",
    "from sklearn.ensemble import GradientBoostingRegressor\n",
    "import numpy as np\n",
    "\n",
    "model = GradientBoostingRegressor(loss='huber', n_estimators=400)\n",
    "(predictions, errors) = walkforward(model, ds.data, ds.data[ds.actual],\n",
    "                                    ds.validation_start, ds.validation_end, Zone1.next_hour,\n",
    "                                    ds.features)\n",
    "overall_error = Error(ds.validation_data[ds.actual], np.concatenate(predictions))\n",
    "print(overall_error)\n"
   ]
  },
  {
   "cell_type": "code",
   "execution_count": null,
   "metadata": {},
   "outputs": [
    {
     "name": "stdout",
     "output_type": "stream",
     "text": [
      "The autoreload extension is already loaded. To reload it, use:\n",
      "  %reload_ext autoreload\n",
      "Error(mae=494.440561448831, max=2980.4099274055106, total=4331299.318291764)\n"
     ]
    }
   ],
   "source": [
    "%load_ext autoreload\n",
    "%autoreload 2\n",
    "\n",
    "from datasets import Zone1\n",
    "ds = Zone1('data/zone1_prior_load.parquet')\n",
    "ds.data.head()\n",
    "\n",
    "from validation import walkforward, Error\n",
    "from sklearn.ensemble import GradientBoostingRegressor\n",
    "import numpy as np\n",
    "\n",
    "model = GradientBoostingRegressor(loss='huber', n_estimators=400)\n",
    "(predictions, errors) = walkforward(model, ds.data, ds.data[ds.actual],\n",
    "                                    ds.validation_start, ds.validation_end, Zone1.next_hour,\n",
    "                                    ds.features)\n",
    "overall_error = Error(ds.validation_data[ds.actual], np.concatenate(predictions))\n",
    "print(overall_error)\n"
   ]
  },
  {
   "cell_type": "code",
   "execution_count": 7,
   "metadata": {},
   "outputs": [
    {
     "name": "stdout",
     "output_type": "stream",
     "text": [
      "The autoreload extension is already loaded. To reload it, use:\n",
      "  %reload_ext autoreload\n",
      "Error(mae=495.7999258799381, max=3075.1444301197, total=4343207.350708259)\n"
     ]
    }
   ],
   "source": [
    "%load_ext autoreload\n",
    "%autoreload 2\n",
    "\n",
    "from datasets import Zone1\n",
    "ds = Zone1('data/zone1_prior_load.parquet')\n",
    "ds.data.head()\n",
    "\n",
    "from validation import walkforward, Error\n",
    "from sklearn.ensemble import GradientBoostingRegressor\n",
    "import numpy as np\n",
    "\n",
    "model = GradientBoostingRegressor(loss='huber', n_estimators=350)\n",
    "(predictions, errors) = walkforward(model, ds.data, ds.data[ds.actual],\n",
    "                                    ds.validation_start, ds.validation_end, Zone1.next_hour,\n",
    "                                    ds.features)\n",
    "overall_error = Error(ds.validation_data[ds.actual], np.concatenate(predictions))\n",
    "print(overall_error)\n"
   ]
  },
  {
   "cell_type": "code",
   "execution_count": 6,
   "metadata": {},
   "outputs": [
    {
     "name": "stdout",
     "output_type": "stream",
     "text": [
      "The autoreload extension is already loaded. To reload it, use:\n",
      "  %reload_ext autoreload\n",
      "Error(mae=494.8207574077527, max=3148.7114061429847, total=4334629.834891905)\n"
     ]
    }
   ],
   "source": [
    "%load_ext autoreload\n",
    "%autoreload 2\n",
    "\n",
    "from datasets import Zone1\n",
    "ds = Zone1('data/zone1_prior_load.parquet')\n",
    "ds.data.head()\n",
    "\n",
    "from validation import walkforward, Error\n",
    "from sklearn.ensemble import GradientBoostingRegressor\n",
    "import numpy as np\n",
    "\n",
    "model = GradientBoostingRegressor(loss='huber', n_estimators=300)\n",
    "(predictions, errors) = walkforward(model, ds.data, ds.data[ds.actual],\n",
    "                                    ds.validation_start, ds.validation_end, Zone1.next_hour,\n",
    "                                    ds.features)\n",
    "overall_error = Error(ds.validation_data[ds.actual], np.concatenate(predictions))\n",
    "print(overall_error)\n"
   ]
  },
  {
   "cell_type": "code",
   "execution_count": 3,
   "metadata": {},
   "outputs": [
    {
     "name": "stdout",
     "output_type": "stream",
     "text": [
      "Error(mae=514.5101942231579, max=4058.5931972739018, total=4507109.30139486)\n"
     ]
    }
   ],
   "source": [
    "from datasets import Zone1\n",
    "ds = Zone1('data/zone1_prior_load.parquet')\n",
    "ds.data.head()\n",
    "\n",
    "from validation import walkforward, Error\n",
    "from sklearn.ensemble import GradientBoostingRegressor\n",
    "import numpy as np\n",
    "\n",
    "model = GradientBoostingRegressor(loss='huber', n_estimators=100)\n",
    "(predictions, errors) = walkforward(model, ds.data, ds.data[ds.actual],\n",
    "                                    ds.validation_start, ds.validation_end, Zone1.next_hour,\n",
    "                                    ds.features)\n",
    "overall_error = Error(ds.validation_data[ds.actual], np.concatenate(predictions))\n",
    "print(overall_error)\n"
   ]
  }
 ],
 "metadata": {
  "interpreter": {
   "hash": "ea54240020e07c96210ab594155946643681c2705be142acda2fae782468806d"
  },
  "kernelspec": {
   "display_name": "Python 3.9.12 ('mml-i7LNY0oE')",
   "language": "python",
   "name": "python3"
  },
  "language_info": {
   "codemirror_mode": {
    "name": "ipython",
    "version": 3
   },
   "file_extension": ".py",
   "mimetype": "text/x-python",
   "name": "python",
   "nbconvert_exporter": "python",
   "pygments_lexer": "ipython3",
   "version": "3.9.12"
  },
  "orig_nbformat": 4
 },
 "nbformat": 4,
 "nbformat_minor": 2
}
