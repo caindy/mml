{
  "cells": [
    {
      "cell_type": "markdown",
      "metadata": {
        "id": "view-in-github",
        "colab_type": "text"
      },
      "source": [
        "<a href=\"https://colab.research.google.com/github/caindy/mml/blob/main/07.1_recurrent_neural_network.ipynb\" target=\"_parent\"><img src=\"https://colab.research.google.com/assets/colab-badge.svg\" alt=\"Open In Colab\"/></a>"
      ]
    },
    {
      "cell_type": "markdown",
      "metadata": {
        "id": "LuLcY37guTu-"
      },
      "source": [
        "### Recurrent Neural Networks\n",
        "\n",
        "Here we return to our original sequence of historical load data without pivot\n",
        "the prior hours' data into features as was needed with the regression\n",
        "techniques.\n",
        "\n",
        "Moreover, we will not immediately employ the walkforward validation technique due to the time cost of daily retraining. Instead we will train the model to always predict 24 hours out. This simplifies our train/validation/test split as well.\n",
        "\n",
        "#### TODO predict 1 to 24 hours out\n",
        "\n",
        "We should train seperate models that predict each of the subsequent 24 hours. These 24 models can be trained independently of each other. This would allow us to train on data that is more recent in the sequence. The hour-ending 24 model will still be trained as above, but the other hours will have a smaller `delay`... but we need the hourly prediction for a particular hour... this approach would just give a \"good at `n` hours out\" model across the entire day. We could train 1-hour-out models, then do walk forward validation as before...feeding the hourly prediction into the sequence "
      ]
    },
    {
      "cell_type": "markdown",
      "metadata": {
        "id": "8Ru14AfFuTvC"
      },
      "source": [
        "Since we are predicting 24 hours out, it is acceptable to incorporate the temperature data again, but we will need to normalize. We also will drop our categoricals for now. Can an RNN learn a good model for predicting tomorrow's load from just prior load and temperature sequences? Should we incorporate more temperature sequences?"
      ]
    },
    {
      "cell_type": "code",
      "execution_count": 7,
      "metadata": {
        "id": "kZDNj6ODuTvC"
      },
      "outputs": [],
      "source": [
        "actual = 'LRZ1 ActualLoad (MWh)'\n",
        "features = ['MSP', 'DayOfYear', 'HourEnding', 'IsBusinessHour', actual]\n",
        "\n",
        "import pandas as pd\n",
        "df = pd.read_parquet('zone1.parquet')\n",
        "df[actual] = df[actual] / 100\n",
        "raw_data = df.to_numpy()\n",
        "load = df[actual].to_numpy()\n",
        "\n",
        "# 50/25/25 split. Probably need a different approach to validate over a year.\n",
        "num_train_samples = int(0.5 * len(raw_data))\n",
        "num_val_samples = int(0.25 * len(raw_data))\n",
        "num_test_samples = len(raw_data) - num_train_samples - num_val_samples\n",
        "\n",
        "mean = raw_data[:num_train_samples].mean(axis=0)\n",
        "raw_data -= mean\n",
        "std = raw_data[:num_train_samples].std(axis=0)\n",
        "#raw_data /= std"
      ]
    },
    {
      "cell_type": "code",
      "execution_count": 8,
      "metadata": {
        "id": "8GsWRfL-uTvD"
      },
      "outputs": [],
      "source": [
        "import numpy as np\n",
        "from tensorflow import keras\n",
        "\n",
        "# our input sequence will be seven days of hourly observations\n",
        "sampling_rate = 1\n",
        "sequence_length = 72 #24*7\n",
        "\n",
        "# delay to ensure our predictions don't use intraday information\n",
        "# we start with 24 hours out\n",
        "delay = sampling_rate * (sequence_length + 24 - 1) \n",
        "\n",
        "batch_size = 32 # hyperparameter\n",
        "should_shuffle = True\n",
        "\n",
        "train_dataset = keras.utils.timeseries_dataset_from_array(\n",
        "    raw_data[:-delay],\n",
        "    targets=load[delay:],\n",
        "    sampling_rate=sampling_rate,\n",
        "    sequence_length=sequence_length,\n",
        "    shuffle=should_shuffle,\n",
        "    batch_size=batch_size,\n",
        "    start_index=0,\n",
        "    end_index=num_train_samples\n",
        ")\n",
        "\n",
        "val_dataset = keras.utils.timeseries_dataset_from_array(\n",
        "    raw_data[:-delay],\n",
        "    targets=load[delay:],\n",
        "    sampling_rate=sampling_rate,\n",
        "    sequence_length=sequence_length,\n",
        "    shuffle=should_shuffle,\n",
        "    batch_size=batch_size,\n",
        "    start_index=num_train_samples,\n",
        "    end_index=num_train_samples + num_val_samples\n",
        ")\n",
        "\n",
        "test_dataset = keras.utils.timeseries_dataset_from_array(\n",
        "    raw_data[:-delay],\n",
        "    targets=load[delay:],\n",
        "    sampling_rate=sampling_rate,\n",
        "    sequence_length=sequence_length,\n",
        "    shuffle=should_shuffle,\n",
        "    batch_size=batch_size,\n",
        "    start_index=num_train_samples + num_val_samples\n",
        ")"
      ]
    },
    {
      "cell_type": "code",
      "execution_count": 9,
      "metadata": {
        "id": "jvG-GHzbuTvE"
      },
      "outputs": [],
      "source": [
        "def evaluate(model, epochs=10):\n",
        "    callbacks = [keras.callbacks.ModelCheckpoint(\"naive_lstm.keras\", save_best_only=True)]\n",
        "    model.compile(optimizer=\"adam\", loss=\"mse\", metrics=[\"mae\"])\n",
        "    history = model.fit(train_dataset, epochs=epochs, validation_data=val_dataset, callbacks=callbacks)\n",
        "    model = keras.models.load_model(\"naive_lstm.keras\")\n",
        "    print(f\"Test MAE: {model.evaluate(test_dataset)[1]:2f}\")\n",
        "    return history\n",
        "\n",
        "from tensorflow.keras import layers\n",
        "inputs = keras.Input(shape=(sequence_length, raw_data.shape[-1]))"
      ]
    },
    {
      "cell_type": "code",
      "execution_count": 13,
      "metadata": {
        "id": "n98nQslzuTvE",
        "outputId": "dbed2304-6883-4fe3-9848-d4c146a4d013",
        "colab": {
          "base_uri": "https://localhost:8080/"
        }
      },
      "outputs": [
        {
          "output_type": "stream",
          "name": "stdout",
          "text": [
            "Epoch 1/10\n",
            "979/979 [==============================] - 89s 44ms/step - loss: 5742.3052 - mae: 72.0905 - val_loss: 2224.5205 - val_mae: 44.4380\n",
            "Epoch 2/10\n",
            "979/979 [==============================] - 43s 44ms/step - loss: 1163.8546 - mae: 29.0879 - val_loss: 401.3479 - val_mae: 16.2285\n",
            "Epoch 3/10\n",
            "979/979 [==============================] - 43s 43ms/step - loss: 298.4802 - mae: 13.2632 - val_loss: 131.6078 - val_mae: 8.5827\n",
            "Epoch 4/10\n",
            "979/979 [==============================] - 43s 43ms/step - loss: 126.3115 - mae: 8.1357 - val_loss: 78.9872 - val_mae: 6.6961\n",
            "Epoch 5/10\n",
            "979/979 [==============================] - 42s 43ms/step - loss: 83.4846 - mae: 6.6845 - val_loss: 64.6225 - val_mae: 6.0969\n",
            "Epoch 6/10\n",
            "979/979 [==============================] - 43s 43ms/step - loss: 70.6546 - mae: 6.2527 - val_loss: 58.6984 - val_mae: 5.9013\n",
            "Epoch 7/10\n",
            "979/979 [==============================] - 43s 44ms/step - loss: 63.1381 - mae: 5.9640 - val_loss: 66.2287 - val_mae: 6.3066\n",
            "Epoch 8/10\n",
            "979/979 [==============================] - 43s 44ms/step - loss: 62.5148 - mae: 5.9739 - val_loss: 58.9258 - val_mae: 5.9047\n",
            "Epoch 9/10\n",
            "979/979 [==============================] - 43s 43ms/step - loss: 57.9983 - mae: 5.7740 - val_loss: 60.2647 - val_mae: 5.9195\n",
            "Epoch 10/10\n",
            "979/979 [==============================] - 43s 44ms/step - loss: 54.7639 - mae: 5.6149 - val_loss: 57.5790 - val_mae: 5.8494\n",
            "486/486 [==============================] - 8s 15ms/step - loss: 68.1342 - mae: 6.3116\n",
            "Test MAE: 6.311604\n"
          ]
        }
      ],
      "source": [
        "x = layers.LSTM(64, return_sequences=True)(inputs)\n",
        "x = layers.LSTM(64)(x)\n",
        "outputs = layers.Dense(1)(x)\n",
        "model = keras.Model(inputs, outputs)\n",
        "history = evaluate(model, epochs=10)"
      ]
    },
    {
      "cell_type": "code",
      "execution_count": 14,
      "metadata": {
        "id": "OrEO6FWJuTvG",
        "outputId": "7ecebc65-cb14-4ec8-c0a6-5c96474090c1",
        "colab": {
          "base_uri": "https://localhost:8080/",
          "height": 281
        }
      },
      "outputs": [
        {
          "output_type": "display_data",
          "data": {
            "text/plain": [
              "<Figure size 432x288 with 1 Axes>"
            ],
            "image/png": "[encoded data removed]"
          },
          "metadata": {
            "needs_background": "light"
          }
        }
      ],
      "source": [
        "import matplotlib.pyplot as plt\n",
        "loss = history.history[\"mae\"]\n",
        "val_loss = history.history[\"val_mae\"]\n",
        "epochs = range(1, len(loss) + 1)\n",
        "plt.figure()\n",
        "plt.plot(epochs, loss, \"bo\", label=\"Training MAE\")\n",
        "plt.plot(epochs, val_loss, \"b\", label=\"Validation MAE\")\n",
        "plt.title(\"Training and validation MAE\")\n",
        "plt.legend()\n",
        "plt.show()"
      ]
    },
    {
      "cell_type": "markdown",
      "source": [
        "Let's evaluate our trained model against recent data."
      ],
      "metadata": {
        "id": "EBSsZYc4_D7Z"
      }
    }
  ],
  "metadata": {
    "interpreter": {
      "hash": "ea54240020e07c96210ab594155946643681c2705be142acda2fae782468806d"
    },
    "kernelspec": {
      "display_name": "Python 3.9.12 ('mml-i7LNY0oE')",
      "language": "python",
      "name": "python3"
    },
    "language_info": {
      "codemirror_mode": {
        "name": "ipython",
        "version": 3
      },
      "file_extension": ".py",
      "mimetype": "text/x-python",
      "name": "python",
      "nbconvert_exporter": "python",
      "pygments_lexer": "ipython3",
      "version": "3.9.12"
    },
    "orig_nbformat": 4,
    "colab": {
      "name": "07_recurrent_neural_network.ipynb",
      "provenance": [],
      "include_colab_link": true
    },
    "accelerator": "GPU"
  },
  "nbformat": 4,
  "nbformat_minor": 0
}