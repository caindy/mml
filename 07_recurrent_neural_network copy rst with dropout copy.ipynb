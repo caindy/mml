{
 "cells": [
  {
   "cell_type": "markdown",
   "metadata": {},
   "source": [
    "### Recurrent Neural Networks\n",
    "\n",
    "Here we return to our original sequence of historical load data without pivot\n",
    "the prior hours' data into features as was needed with the regression\n",
    "techniques.\n",
    "\n",
    "Moreover, we will not immediately employ the walkforward validation technique due to the time cost of daily retraining. Instead we will train the model to always predict 24 hours out. This simplifies our train/validation/test split as well.\n",
    "\n",
    "#### TODO predict 1 to 24 hours out\n",
    "\n",
    "We should train seperate models that predict each of the subsequent 24 hours. These 24 models can be trained independently of each other. This would allow us to train on data that is more recent in the sequence. The hour-ending 24 model will still be trained as above, but the other hours will have a smaller `delay`... but we need the hourly prediction for a particular hour... this approach would just give a \"good at `n` hours out\" model across the entire day. We could train 1-hour-out models, then do walk forward validation as before...feeding the hourly prediction into the sequence "
   ]
  },
  {
   "cell_type": "code",
   "execution_count": 1,
   "metadata": {},
   "outputs": [
    {
     "data": {
      "text/html": [
       "<div>\n",
       "<style scoped>\n",
       "    .dataframe tbody tr th:only-of-type {\n",
       "        vertical-align: middle;\n",
       "    }\n",
       "\n",
       "    .dataframe tbody tr th {\n",
       "        vertical-align: top;\n",
       "    }\n",
       "\n",
       "    .dataframe thead th {\n",
       "        text-align: right;\n",
       "    }\n",
       "</style>\n",
       "<table border=\"1\" class=\"dataframe\">\n",
       "  <thead>\n",
       "    <tr style=\"text-align: right;\">\n",
       "      <th></th>\n",
       "      <th>MSP</th>\n",
       "      <th>RST</th>\n",
       "      <th>LRZ1 MTLF (MWh)</th>\n",
       "      <th>LRZ1 ActualLoad (MWh)</th>\n",
       "    </tr>\n",
       "    <tr>\n",
       "      <th>hour</th>\n",
       "      <th></th>\n",
       "      <th></th>\n",
       "      <th></th>\n",
       "      <th></th>\n",
       "    </tr>\n",
       "  </thead>\n",
       "  <tbody>\n",
       "    <tr>\n",
       "      <th>2015-02-01 00:00:00-05:00</th>\n",
       "      <td>23.00</td>\n",
       "      <td>24.08</td>\n",
       "      <td>11099</td>\n",
       "      <td>11337.89</td>\n",
       "    </tr>\n",
       "    <tr>\n",
       "      <th>2015-02-01 01:00:00-05:00</th>\n",
       "      <td>21.02</td>\n",
       "      <td>24.08</td>\n",
       "      <td>10829</td>\n",
       "      <td>11014.87</td>\n",
       "    </tr>\n",
       "    <tr>\n",
       "      <th>2015-02-01 02:00:00-05:00</th>\n",
       "      <td>19.04</td>\n",
       "      <td>23.00</td>\n",
       "      <td>10565</td>\n",
       "      <td>10795.37</td>\n",
       "    </tr>\n",
       "    <tr>\n",
       "      <th>2015-02-01 03:00:00-05:00</th>\n",
       "      <td>19.04</td>\n",
       "      <td>19.94</td>\n",
       "      <td>10468</td>\n",
       "      <td>10714.42</td>\n",
       "    </tr>\n",
       "    <tr>\n",
       "      <th>2015-02-01 04:00:00-05:00</th>\n",
       "      <td>17.06</td>\n",
       "      <td>19.04</td>\n",
       "      <td>10432</td>\n",
       "      <td>10700.09</td>\n",
       "    </tr>\n",
       "  </tbody>\n",
       "</table>\n",
       "</div>"
      ],
      "text/plain": [
       "                             MSP    RST  LRZ1 MTLF (MWh)  \\\n",
       "hour                                                       \n",
       "2015-02-01 00:00:00-05:00  23.00  24.08            11099   \n",
       "2015-02-01 01:00:00-05:00  21.02  24.08            10829   \n",
       "2015-02-01 02:00:00-05:00  19.04  23.00            10565   \n",
       "2015-02-01 03:00:00-05:00  19.04  19.94            10468   \n",
       "2015-02-01 04:00:00-05:00  17.06  19.04            10432   \n",
       "\n",
       "                           LRZ1 ActualLoad (MWh)  \n",
       "hour                                              \n",
       "2015-02-01 00:00:00-05:00               11337.89  \n",
       "2015-02-01 01:00:00-05:00               11014.87  \n",
       "2015-02-01 02:00:00-05:00               10795.37  \n",
       "2015-02-01 03:00:00-05:00               10714.42  \n",
       "2015-02-01 04:00:00-05:00               10700.09  "
      ]
     },
     "execution_count": 1,
     "metadata": {},
     "output_type": "execute_result"
    }
   ],
   "source": [
    "%load_ext autoreload\n",
    "%autoreload 2\n",
    "\n",
    "from datasets import DataSet\n",
    "\n",
    "ds = DataSet('data/zone1_rst.parquet', mtlf='LRZ1 MTLF (MWh)', actual='LRZ1 ActualLoad (MWh)')\n",
    "ds.data.head()"
   ]
  },
  {
   "cell_type": "markdown",
   "metadata": {},
   "source": [
    "Since we are predicting 24 hours out, it is acceptable to incorporate the temperature data again, but we will need to normalize. We also will drop our categoricals for now. Can an RNN learn a good model for predicting tomorrow's load from just prior load and temperature sequences? Should we incorporate more temperature sequences?"
   ]
  },
  {
   "cell_type": "code",
   "execution_count": 2,
   "metadata": {},
   "outputs": [],
   "source": [
    "features = ['MSP', 'RST', ds.actual]\n",
    "df = ds.data[features].copy()\n",
    "load = ds.data[ds.actual].copy().to_numpy()"
   ]
  },
  {
   "cell_type": "code",
   "execution_count": 3,
   "metadata": {},
   "outputs": [
    {
     "data": {
      "image/png": "[encoded data removed]",
      "text/plain": [
       "<Figure size 432x288 with 1 Axes>"
      ]
     },
     "metadata": {
      "needs_background": "light"
     },
     "output_type": "display_data"
    }
   ],
   "source": [
    "import tensorflow as tf\n",
    "import matplotlib.pyplot as plt\n",
    "import numpy as np\n",
    "\n",
    "fft = tf.signal.rfft(load)\n",
    "f_per_dataset = np.arange(0, len(fft))\n",
    "\n",
    "n_samples_h = len(load)\n",
    "hours_per_year = 24*365.2524\n",
    "years_per_dataset = n_samples_h/(hours_per_year)\n",
    "\n",
    "f_per_year = f_per_dataset/years_per_dataset\n",
    "plt.step(f_per_year, np.abs(fft))\n",
    "plt.xscale('log')\n",
    "plt.ylim(0, 40000000)\n",
    "plt.xlim([0.1, max(plt.xlim())])\n",
    "plt.xticks([1, 365.2524], labels=['1/Year', '1/day'])\n",
    "_ = plt.xlabel('Frequency (log scale)')"
   ]
  },
  {
   "cell_type": "code",
   "execution_count": 4,
   "metadata": {},
   "outputs": [
    {
     "data": {
      "text/plain": [
       "array([  0.        ,   1.95471468,   2.09433716,  52.21880642,\n",
       "       364.27504266, 365.2524    , 366.22975734, 730.5048    ])"
      ]
     },
     "execution_count": 4,
     "metadata": {},
     "output_type": "execute_result"
    }
   ],
   "source": [
    "f_per_year[np.argwhere(np.abs(fft) > 1e7).flatten()]"
   ]
  },
  {
   "cell_type": "markdown",
   "metadata": {},
   "source": [
    "Create yearly, weekly, and daily signals."
   ]
  },
  {
   "cell_type": "code",
   "execution_count": 4,
   "metadata": {},
   "outputs": [],
   "source": [
    "import pandas as pd\n",
    "day = 24*60*60\n",
    "year = (365.2425)*day\n",
    "timestamp_s = df.index.to_series().map(pd.Timestamp.timestamp)\n",
    "df['Daily sin'] = np.sin(timestamp_s * (2 * np.pi / day))\n",
    "df['Daily cos'] = np.cos(timestamp_s * (2 * np.pi / day))\n",
    "df['Weekly sin'] = np.sin(timestamp_s * (2 * np.pi / (7*day)))\n",
    "df['Weekly cos'] = np.cos(timestamp_s * (2 * np.pi / (7*day)))\n",
    "df['Yearly sin'] = np.sin(timestamp_s * (2 * np.pi / year))\n",
    "df['Yearly cos'] = np.cos(timestamp_s * (2 * np.pi / year))"
   ]
  },
  {
   "cell_type": "code",
   "execution_count": 6,
   "metadata": {},
   "outputs": [
    {
     "data": {
      "text/plain": [
       "Text(0.5, 1.0, 'Time of day signal')"
      ]
     },
     "execution_count": 6,
     "metadata": {},
     "output_type": "execute_result"
    },
    {
     "data": {
      "image/png": "[encoded data removed]",
      "text/plain": [
       "<Figure size 432x288 with 1 Axes>"
      ]
     },
     "metadata": {
      "needs_background": "light"
     },
     "output_type": "display_data"
    }
   ],
   "source": [
    "plt.plot(np.array(df['Daily sin'])[:25])\n",
    "plt.plot(np.array(df['Daily cos'])[:25])\n",
    "plt.xlabel('Time [h]')\n",
    "plt.title('Time of day signal')"
   ]
  },
  {
   "cell_type": "code",
   "execution_count": 5,
   "metadata": {},
   "outputs": [],
   "source": [
    "raw_data = df.to_numpy()\n",
    "num_test_samples = num_val_samples = 365 * 24\n",
    "num_train_samples = len(raw_data) - num_test_samples - num_val_samples\n",
    "\n",
    "mean = raw_data[:num_train_samples].mean(axis=0)\n",
    "raw_data -= mean\n",
    "std = raw_data[:num_train_samples].std(axis=0)\n",
    "raw_data /= std"
   ]
  },
  {
   "cell_type": "code",
   "execution_count": 10,
   "metadata": {},
   "outputs": [],
   "source": [
    "import numpy as np\n",
    "from tensorflow import keras\n",
    "\n",
    "sampling_rate = 1\n",
    "sequence_length = 24*8\n",
    "delay = sampling_rate * (sequence_length + 24 - 1) \n",
    "#delay = sampling_rate * sequence_length\n",
    "\n",
    "batch_size = 32 # hyperparameter\n",
    "should_shuffle = True\n",
    "\n",
    "train_dataset = keras.utils.timeseries_dataset_from_array(\n",
    "    raw_data[:-delay],\n",
    "    targets=load[delay:],\n",
    "    sampling_rate=sampling_rate,\n",
    "    sequence_length=sequence_length,\n",
    "    shuffle=should_shuffle,\n",
    "    batch_size=batch_size,\n",
    "    start_index=0,\n",
    "    end_index=num_train_samples\n",
    ")\n",
    "\n",
    "val_dataset = keras.utils.timeseries_dataset_from_array(\n",
    "    raw_data[:-delay],\n",
    "    targets=load[delay:],\n",
    "    sampling_rate=sampling_rate,\n",
    "    sequence_length=sequence_length,\n",
    "    shuffle=should_shuffle,\n",
    "    batch_size=batch_size,\n",
    "    start_index=num_train_samples,\n",
    "    end_index=num_train_samples + num_val_samples\n",
    ")\n",
    "\n",
    "test_dataset = keras.utils.timeseries_dataset_from_array(\n",
    "    raw_data[:-delay],\n",
    "    targets=load[delay:],\n",
    "    sampling_rate=sampling_rate,\n",
    "    sequence_length=sequence_length,\n",
    "    shuffle=should_shuffle,\n",
    "    batch_size=batch_size,\n",
    "    start_index=num_train_samples + num_val_samples\n",
    ")"
   ]
  },
  {
   "cell_type": "code",
   "execution_count": 22,
   "metadata": {},
   "outputs": [],
   "source": [
    "from datetime import datetime\n",
    "\n",
    "def evaluate(model, optimizer=\"adamax\", loss=\"mse\", epochs=10, checkpoint_file=None, patience=3):\n",
    "    ts = datetime.now().strftime (\"%Y%m%d_%H%M%S\")\n",
    "    checkpoint_file = checkpoint_file or f\"load_prediction_{optimizer}_{loss}_{ts}.keras\"\n",
    "    logdir = f\"logs/fit/{ts}\"\n",
    "    callbacks = [\n",
    "        keras.callbacks.ModelCheckpoint(checkpoint_file, monitor='val_mae', save_best_only=True),\n",
    "        keras.callbacks.EarlyStopping(monitor='val_mae', patience=patience),\n",
    "        keras.callbacks.TensorBoard(log_dir=logdir)]\n",
    "    model.compile(optimizer=optimizer, loss=loss, metrics=[\"mae\"])\n",
    "    history = model.fit(train_dataset, epochs=epochs, validation_data=val_dataset, callbacks=callbacks)\n",
    "    model = keras.models.load_model(checkpoint_file)\n",
    "    print(f\"Test MAE: {model.evaluate(test_dataset)[1]:2f}\")\n",
    "    return history, checkpoint_file\n"
   ]
  },
  {
   "cell_type": "code",
   "execution_count": 24,
   "metadata": {},
   "outputs": [
    {
     "name": "stdout",
     "output_type": "stream",
     "text": [
      "Epoch 1/15\n",
      "1409/1409 [==============================] - 943s 545ms/step - loss: 111678856.0000 - mae: 10428.8418 - val_loss: 76714696.0000 - val_mae: 8601.3271\n",
      "Epoch 2/15\n",
      "1409/1409 [==============================] - 741s 526ms/step - loss: 50108908.0000 - mae: 6710.3687 - val_loss: 13370600.0000 - val_mae: 3263.1567\n",
      "Epoch 3/15\n",
      "1409/1409 [==============================] - 771s 547ms/step - loss: 5961770.5000 - mae: 1941.8898 - val_loss: 2956412.2500 - val_mae: 1413.7096\n",
      "Epoch 4/15\n",
      "1409/1409 [==============================] - 846s 600ms/step - loss: 3190412.5000 - mae: 1429.7313 - val_loss: 2956038.7500 - val_mae: 1413.6057\n",
      "Epoch 5/15\n",
      "1409/1409 [==============================] - 835s 592ms/step - loss: 3178399.7500 - mae: 1429.9214 - val_loss: 2964267.0000 - val_mae: 1415.9105\n",
      "Epoch 6/15\n",
      "1409/1409 [==============================] - 844s 599ms/step - loss: 2006021.1250 - mae: 1105.8503 - val_loss: 844644.8750 - val_mae: 713.6856\n",
      "Epoch 7/15\n",
      "1409/1409 [==============================] - 839s 595ms/step - loss: 1215037.7500 - mae: 862.4155 - val_loss: 552466.8125 - val_mae: 559.6621\n",
      "Epoch 8/15\n",
      "1409/1409 [==============================] - 829s 589ms/step - loss: 1075709.2500 - mae: 811.5413 - val_loss: 546063.5625 - val_mae: 566.1982\n",
      "Epoch 9/15\n",
      "1409/1409 [==============================] - 849s 602ms/step - loss: 1010095.2500 - mae: 784.2811 - val_loss: 565900.7500 - val_mae: 576.1519\n",
      "Epoch 10/15\n",
      "1409/1409 [==============================] - 876s 622ms/step - loss: 978238.8125 - mae: 775.0527 - val_loss: 479025.6250 - val_mae: 522.1297\n",
      "Epoch 11/15\n",
      "1409/1409 [==============================] - 868s 616ms/step - loss: 940085.7500 - mae: 757.4053 - val_loss: 389057.5625 - val_mae: 452.3630\n",
      "Epoch 12/15\n",
      "1409/1409 [==============================] - 870s 618ms/step - loss: 921939.4375 - mae: 750.4817 - val_loss: 446058.4375 - val_mae: 504.3647\n",
      "Epoch 13/15\n",
      "1409/1409 [==============================] - 873s 619ms/step - loss: 918389.8750 - mae: 748.1976 - val_loss: 400111.9062 - val_mae: 466.8517\n",
      "Epoch 14/15\n",
      "1409/1409 [==============================] - 880s 625ms/step - loss: 907559.8125 - mae: 743.5385 - val_loss: 393120.4062 - val_mae: 456.5696\n",
      "262/262 [==============================] - 82s 212ms/step - loss: 461265.3438 - mae: 498.9019\n",
      "Test MAE: 498.901855\n"
     ]
    }
   ],
   "source": [
    "from keras import layers\n",
    "\n",
    "inputs = keras.Input(shape=(sequence_length, raw_data.shape[-1]))\n",
    "x = layers.Dense(32, activation='leaky_relu')(inputs)\n",
    "x = layers.LSTM(64, unroll=True, recurrent_dropout=0.25, return_sequences=True)(x)\n",
    "x = layers.LSTM(64, unroll=True, recurrent_dropout=0.25, return_sequences=True)(x)\n",
    "x = layers.LSTM(64, unroll=True, recurrent_dropout=0.25)(x)\n",
    "x = layers.Dropout(0.25)(x)\n",
    "x = layers.Dense(32, activation='leaky_relu')(x)\n",
    "outputs = layers.Dense(1)(x)\n",
    "\n",
    "model = keras.Model(inputs, outputs)\n",
    "\n",
    "history, checkpoint_file = evaluate(model, epochs=15)"
   ]
  },
  {
   "cell_type": "code",
   "execution_count": 13,
   "metadata": {},
   "outputs": [
    {
     "name": "stdout",
     "output_type": "stream",
     "text": [
      "load_prediction_adamax_mse_20220507_113813.keras\n"
     ]
    },
    {
     "data": {
      "image/png": "[encoded data removed]",
      "text/plain": [
       "<Figure size 432x288 with 1 Axes>"
      ]
     },
     "metadata": {
      "needs_background": "light"
     },
     "output_type": "display_data"
    }
   ],
   "source": [
    "print(checkpoint_file)\n",
    "import matplotlib.pyplot as plt\n",
    "loss = history.history[\"mae\"]\n",
    "val_loss = history.history[\"val_mae\"]\n",
    "epochs = range(1, len(loss) + 1)\n",
    "plt.figure()\n",
    "plt.plot(epochs, loss, \"bo\", label=\"Training MAE\")\n",
    "plt.plot(epochs, val_loss, \"b\", label=\"Validation MAE\")\n",
    "plt.title(\"Training and validation MAE\")\n",
    "plt.legend()\n",
    "plt.show()"
   ]
  },
  {
   "cell_type": "code",
   "execution_count": 14,
   "metadata": {},
   "outputs": [],
   "source": [
    "model = keras.models.load_model(checkpoint_file)"
   ]
  },
  {
   "cell_type": "code",
   "execution_count": 16,
   "metadata": {},
   "outputs": [
    {
     "name": "stdout",
     "output_type": "stream",
     "text": [
      "Epoch 1/250\n",
      "1409/1409 [==============================] - 1282s 783ms/step - loss: 957487.7500 - mae: 764.8640 - val_loss: 403189.8125 - val_mae: 461.2744\n",
      "Epoch 2/250\n",
      "1409/1409 [==============================] - 1018s 722ms/step - loss: 928819.0000 - mae: 752.3331 - val_loss: 380973.5625 - val_mae: 449.1143\n",
      "Epoch 3/250\n",
      "1409/1409 [==============================] - 1017s 722ms/step - loss: 915604.0625 - mae: 747.9287 - val_loss: 375641.7500 - val_mae: 442.5204\n",
      "Epoch 4/250\n",
      "1409/1409 [==============================] - 1016s 721ms/step - loss: 910189.6875 - mae: 745.4193 - val_loss: 376319.7500 - val_mae: 446.7002\n",
      "Epoch 5/250\n",
      "1409/1409 [==============================] - 1018s 723ms/step - loss: 893630.6250 - mae: 736.8245 - val_loss: 379139.9375 - val_mae: 455.1604\n",
      "Epoch 6/250\n",
      "1409/1409 [==============================] - 1017s 722ms/step - loss: 889592.0625 - mae: 737.6060 - val_loss: 401403.4375 - val_mae: 470.9376\n",
      "Epoch 7/250\n",
      "1409/1409 [==============================] - 1005s 713ms/step - loss: 889240.5625 - mae: 736.1488 - val_loss: 368850.4688 - val_mae: 440.5216\n",
      "Epoch 8/250\n",
      "1409/1409 [==============================] - 996s 707ms/step - loss: 865490.8750 - mae: 727.7507 - val_loss: 382230.0625 - val_mae: 452.1140\n",
      "Epoch 9/250\n",
      "1409/1409 [==============================] - 991s 704ms/step - loss: 876444.3750 - mae: 731.0081 - val_loss: 374015.1562 - val_mae: 441.5437\n",
      "Epoch 10/250\n",
      "1409/1409 [==============================] - 992s 704ms/step - loss: 864843.7500 - mae: 727.2003 - val_loss: 362222.0625 - val_mae: 432.0764\n",
      "Epoch 11/250\n",
      "1409/1409 [==============================] - 999s 709ms/step - loss: 855388.6250 - mae: 722.3655 - val_loss: 384202.6250 - val_mae: 454.1914\n",
      "Epoch 12/250\n",
      "1409/1409 [==============================] - 1017s 722ms/step - loss: 856408.1250 - mae: 726.7071 - val_loss: 349549.3438 - val_mae: 424.3287\n",
      "Epoch 13/250\n",
      "1409/1409 [==============================] - 1042s 740ms/step - loss: 856178.5625 - mae: 723.1790 - val_loss: 368116.0312 - val_mae: 443.6630\n",
      "Epoch 14/250\n",
      "1409/1409 [==============================] - 1020s 724ms/step - loss: 841236.2500 - mae: 717.3455 - val_loss: 377884.5625 - val_mae: 447.9713\n",
      "Epoch 15/250\n",
      "1409/1409 [==============================] - 1010s 717ms/step - loss: 846601.1875 - mae: 721.2655 - val_loss: 345343.1250 - val_mae: 422.6135\n",
      "Epoch 16/250\n",
      "1409/1409 [==============================] - 1016s 721ms/step - loss: 843583.6250 - mae: 717.6974 - val_loss: 367464.3438 - val_mae: 431.6538\n",
      "Epoch 17/250\n",
      "1409/1409 [==============================] - 1017s 722ms/step - loss: 824624.8750 - mae: 710.0053 - val_loss: 403586.9375 - val_mae: 461.6988\n",
      "Epoch 18/250\n",
      "1409/1409 [==============================] - 1017s 722ms/step - loss: 824525.4375 - mae: 711.5904 - val_loss: 429503.6562 - val_mae: 483.3717\n",
      "Epoch 19/250\n",
      "1409/1409 [==============================] - 1018s 723ms/step - loss: 828686.9375 - mae: 712.1649 - val_loss: 375137.1250 - val_mae: 441.2995\n",
      "Epoch 20/250\n",
      "1409/1409 [==============================] - 1043s 740ms/step - loss: 834947.3125 - mae: 714.3232 - val_loss: 370035.7188 - val_mae: 440.0276\n",
      "262/262 [==============================] - 75s 192ms/step - loss: 393389.7812 - mae: 450.5772\n",
      "Test MAE: 450.577209\n"
     ]
    }
   ],
   "source": [
    "history2, checkpoint_file2 = evaluate(model, epochs=250, patience=5)"
   ]
  },
  {
   "cell_type": "code",
   "execution_count": 18,
   "metadata": {},
   "outputs": [
    {
     "name": "stdout",
     "output_type": "stream",
     "text": [
      "load_prediction_adamax_mse_20220507_113813.keras\n"
     ]
    },
    {
     "data": {
      "image/png": "[encoded data removed]",
      "text/plain": [
       "<Figure size 432x288 with 1 Axes>"
      ]
     },
     "metadata": {
      "needs_background": "light"
     },
     "output_type": "display_data"
    }
   ],
   "source": [
    "print(checkpoint_file)\n",
    "import matplotlib.pyplot as plt\n",
    "loss = history2.history[\"mae\"]\n",
    "val_loss = history2.history[\"val_mae\"]\n",
    "epochs = range(1, len(loss) + 1)\n",
    "plt.figure()\n",
    "plt.plot(epochs, loss, \"bo\", label=\"Training MAE\")\n",
    "plt.plot(epochs, val_loss, \"b\", label=\"Validation MAE\")\n",
    "plt.title(\"Training and validation MAE\")\n",
    "plt.legend()\n",
    "plt.show()"
   ]
  },
  {
   "cell_type": "code",
   "execution_count": 19,
   "metadata": {},
   "outputs": [],
   "source": [
    "# Load the TensorBoard notebook extension.\n",
    "%load_ext tensorboard"
   ]
  },
  {
   "cell_type": "code",
   "execution_count": 20,
   "metadata": {},
   "outputs": [
    {
     "name": "stdout",
     "output_type": "stream",
     "text": [
      "TensorFlow version:  2.8.0\n"
     ]
    }
   ],
   "source": [
    "from datetime import datetime\n",
    "from packaging import version\n",
    "\n",
    "import tensorflow as tf\n",
    "from tensorflow import keras\n",
    "\n",
    "print(\"TensorFlow version: \", tf.__version__)\n",
    "assert version.parse(tf.__version__).release[0] >= 2, \\\n",
    "    \"This notebook requires TensorFlow 2.0 or above.\""
   ]
  },
  {
   "cell_type": "code",
   "execution_count": 21,
   "metadata": {},
   "outputs": [
    {
     "data": {
      "text/plain": [
       "'2.8.0'"
      ]
     },
     "execution_count": 21,
     "metadata": {},
     "output_type": "execute_result"
    }
   ],
   "source": [
    "import tensorboard\n",
    "tensorboard.__version__"
   ]
  }
 ],
 "metadata": {
  "interpreter": {
   "hash": "41ef4c49daf04e3233ba6b635c7f25b9198ce21d50a8d96d9f4bcf57386dfab9"
  },
  "kernelspec": {
   "display_name": "Python 3.9.12 ('mml-i7LNY0oE')",
   "language": "python",
   "name": "python3"
  },
  "language_info": {
   "codemirror_mode": {
    "name": "ipython",
    "version": 3
   },
   "file_extension": ".py",
   "mimetype": "text/x-python",
   "name": "python",
   "nbconvert_exporter": "python",
   "pygments_lexer": "ipython3",
   "version": "3.9.12"
  },
  "orig_nbformat": 4
 },
 "nbformat": 4,
 "nbformat_minor": 2
}
