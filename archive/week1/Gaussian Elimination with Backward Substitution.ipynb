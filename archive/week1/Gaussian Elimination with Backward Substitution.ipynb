{
 "cells": [
  {
   "cell_type": "code",
   "execution_count": 111,
   "metadata": {},
   "outputs": [],
   "source": [
    "function indexOf_min(x⃗, i)\n",
    "    n = size(x⃗)\n",
    "    m = typemax(typeof(x⃗[1]))\n",
    "    index_of_the_min = nothing\n",
    "    for (j,x) in enumerate(x⃗)\n",
    "        if j ≥ i && x ≠ 0 && x < m\n",
    "            m = x\n",
    "            index_of_the_min = j\n",
    "        end\n",
    "    end\n",
    "    return index_of_the_min\n",
    "end\n",
    "function gaussian_elimination!(A)\n",
    "    (n,m) = size(A)\n",
    "    @assert m == n+1 # require augmented matrix\n",
    "    for i in 1:n-1\n",
    "        p = indexOf_min(A[:,i],i)\n",
    "        if p == nothing\n",
    "            print(\"no unique solution exists\")\n",
    "            return nothing\n",
    "        end\n",
    "        if p ≠ i\n",
    "            A[p,:],A[i,:] = A[i,:], A[p,:]\n",
    "        end\n",
    "        @views for j = i+1:n\n",
    "            c = A[j,i]/A[i,i]\n",
    "            A[j, :] -= c*A[i,:]\n",
    "        end\n",
    "    end\n",
    "    if A[n,n] == 0\n",
    "        print(\"no unique solution exists\")\n",
    "        return nothing\n",
    "    end\n",
    "    x = zeros(n)\n",
    "    x[n] = A[n,m]/A[n,n]\n",
    "    @views for i in n-1:-1:1\n",
    "        x[i] = (A[i,m] - sum((A[i,j]*x[j] for j in i+1:n))) / A[i,i]\n",
    "    end\n",
    "    return x\n",
    "end\n",
    "function Ab(n)\n",
    "    A = zeros(n,n)\n",
    "    for i in 1:n\n",
    "        for j in 1:n\n",
    "            A[i,j] = i == j ? n : 1\n",
    "        end\n",
    "    end\n",
    "    [A [i for i in 1:n]]\n",
    "end;"
   ]
  },
  {
   "cell_type": "code",
   "execution_count": 112,
   "metadata": {},
   "outputs": [
    {
     "name": "stdout",
     "output_type": "stream",
     "text": [
      "  5.066792 seconds (1.20 M allocations: 9.961 GiB, 4.43% gc time)\n"
     ]
    },
    {
     "data": {
      "text/plain": [
       "1095-element Array{Float64,1}:\n",
       " -0.24965737779875452\n",
       " -0.24874330101562933\n",
       " -0.24782922423322976\n",
       " -0.24691514745072984\n",
       " -0.24600107066905624\n",
       " -0.24508699388583116\n",
       " -0.24417291710350722\n",
       " -0.24325884032093179\n",
       " -0.2423447635385118\n",
       " -0.2414306867560323\n",
       " -0.24051660997414512\n",
       " -0.2396025331911334\n",
       " -0.23868845640905037\n",
       "  ⋮\n",
       "  0.7402877775949702\n",
       "  0.7412018543768789\n",
       "  0.7421159311598698\n",
       "  0.7430300079423928\n",
       "  0.7439440847247691\n",
       "  0.7448581615070661\n",
       "  0.7457722382896683\n",
       "  0.7466863150719366\n",
       "  0.7476003918545677\n",
       "  0.748514468636764\n",
       "  0.749428545419467\n",
       "  0.7503426222019167"
      ]
     },
     "execution_count": 112,
     "metadata": {},
     "output_type": "execute_result"
    }
   ],
   "source": [
    "@time gaussian_elimination!(Ab(1095))"
   ]
  },
  {
   "cell_type": "code",
   "execution_count": 100,
   "metadata": {},
   "outputs": [
    {
     "data": {
      "text/plain": [
       "9.156227111816406"
      ]
     },
     "execution_count": 100,
     "metadata": {},
     "output_type": "execute_result"
    }
   ],
   "source": [
    "Base.summarysize(Ab(1095)) / 1024 / 1024"
   ]
  },
  {
   "cell_type": "code",
   "execution_count": 87,
   "metadata": {},
   "outputs": [
    {
     "ename": "LoadError",
     "evalue": "UndefVarError: varinfo not defined",
     "output_type": "error",
     "traceback": [
      "UndefVarError: varinfo not defined",
      "",
      "Stacktrace:",
      " [1] getproperty(::Module, ::Symbol) at ./Base.jl:26",
      " [2] top-level scope at In[87]:1",
      " [3] include_string(::Function, ::Module, ::String, ::String) at ./loading.jl:1091"
     ]
    }
   ],
   "source": [
    "Base.varinfo(r\"ab\")"
   ]
  },
  {
   "cell_type": "code",
   "execution_count": 88,
   "metadata": {},
   "outputs": [
    {
     "data": {
      "text/plain": [
       "14590800"
      ]
     },
     "execution_count": 88,
     "metadata": {},
     "output_type": "execute_result"
    }
   ],
   "source": [
    "sizeof(ab)"
   ]
  },
  {
   "cell_type": "code",
   "execution_count": null,
   "metadata": {},
   "outputs": [],
   "source": []
  }
 ],
 "metadata": {
  "@webio": {
   "lastCommId": null,
   "lastKernelId": null
  },
  "kernelspec": {
   "display_name": "Julia 1.5.3",
   "language": "julia",
   "name": "julia-1.5"
  },
  "language_info": {
   "file_extension": ".jl",
   "mimetype": "application/julia",
   "name": "julia",
   "version": "1.5.1"
  }
 },
 "nbformat": 4,
 "nbformat_minor": 4
}
