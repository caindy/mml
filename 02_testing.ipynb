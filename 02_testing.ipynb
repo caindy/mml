{
 "cells": [
  {
   "cell_type": "markdown",
   "metadata": {},
   "source": [
    "## Establish Validation and Testing\n",
    "\n",
    "### Naive Baseline Model and \n",
    "\n",
    "* Establish a similarity heuristic\n",
    "* Define a simple model that predicts the average load for similar hours\n",
    "\n",
    "### Model Validation\n",
    "* Compare to MTLF using walk-forward validation\n",
    "  * 24 hour windows\n",
    "  * MAE and maximum absolute error"
   ]
  },
  {
   "cell_type": "code",
   "execution_count": null,
   "metadata": {},
   "outputs": [],
   "source": [
    "test_data = "
   ]
  },
  {
   "cell_type": "markdown",
   "metadata": {},
   "source": [
    "### Similar Days Heuristic\n",
    "\n",
    "A similar hour is a (potentially lagged) historical hour from a similar day. A\n",
    "similar day is determined using similarity characteristics such as:\n",
    "* weather,\n",
    "* day of week,\n",
    "* date,\n",
    "* holidays,\n",
    "* etc.\n",
    "\n",
    "This practice follows the intuition that the shape of a load curve is unlikely\n",
    "to be highly dissimilar from any prior load curve. Using a regression procedure,\n",
    "a number of similar days can be used instead of a single day.\n",
    "\n",
    "### Naive Similarity\n",
    "In our naive baseline model, we will simply use `k`-nearest neighbors from preceding hours."
   ]
  },
  {
   "cell_type": "code",
   "execution_count": 38,
   "metadata": {},
   "outputs": [],
   "source": [
    "# load existing dataset\n",
    "from MISO_data import get_data, MISO_PREDICTION_COLUMN_NAME, TARGET_NAME\n",
    "\n",
    "data = get_data()\n",
    "data_train = data[data.index < '2021-12-1']\n",
    "data_test = data.drop(data_train.index)\n",
    "\n",
    "X = data_train.drop([MISO_PREDICTION_COLUMN_NAME, TARGET_NAME], axis=1)\n",
    "y = data_train[TARGET_NAME]\n",
    "Xtest = data_test.drop([MISO_PREDICTION_COLUMN_NAME, TARGET_NAME], axis=1)\n",
    "yTest = data_test[TARGET_NAME]"
   ]
  },
  {
   "cell_type": "code",
   "execution_count": 77,
   "metadata": {},
   "outputs": [],
   "source": [
    "from sklearn.neighbors import KNeighborsRegressor\n",
    "\n",
    "n_neighbors = 8\n",
    "knn = KNeighborsRegressor(n_neighbors, weights='distance')\n",
    "yhat = knn.fit(X, y).predict(Xtest)"
   ]
  },
  {
   "cell_type": "code",
   "execution_count": 82,
   "metadata": {},
   "outputs": [
    {
     "data": {
      "text/plain": [
       "'Mean Absolute Error = 2621.884609475655, Max Error = 12656.180143081277, Total Error = 1536424.3811527349'"
      ]
     },
     "execution_count": 82,
     "metadata": {},
     "output_type": "execute_result"
    }
   ],
   "source": [
    "from validation import show_error\n",
    "\n",
    "show_error(yTest, yhat)\n",
    "\n",
    "#TODO implement walk-forward validation. This should simulate doing knn.fit(X.append(last_hour), y_last_hour).fit(next_hour)"
   ]
  },
  {
   "cell_type": "code",
   "execution_count": 79,
   "metadata": {},
   "outputs": [
    {
     "data": {
      "text/plain": [
       "'MTLF Mean Absolute Error = 1055.5164505119458, Max Error = 4932.380000000005, Total Error = 618532.6400000001'"
      ]
     },
     "execution_count": 79,
     "metadata": {},
     "output_type": "execute_result"
    }
   ],
   "source": [
    "'MTLF ' + show_error(data_test[TARGET_NAME], data_test[MISO_PREDICTION_COLUMN_NAME])"
   ]
  },
  {
   "cell_type": "markdown",
   "metadata": {},
   "source": [
    "## Baseline\n",
    "\n",
    "The MAE of the naive approach is roughly 2.4 times larger than the MTLF and the maximum error is about 2.6 times larger."
   ]
  }
 ],
 "metadata": {
  "interpreter": {
   "hash": "656d9c9dcfe2faf48f2fd84a8eb7135158c7cca549d2b4648b451fb4e5e38b0f"
  },
  "kernelspec": {
   "display_name": "Python 3.9.7 ('mml-uJPEnftj')",
   "language": "python",
   "name": "python3"
  },
  "language_info": {
   "codemirror_mode": {
    "name": "ipython",
    "version": 3
   },
   "file_extension": ".py",
   "mimetype": "text/x-python",
   "name": "python",
   "nbconvert_exporter": "python",
   "pygments_lexer": "ipython3",
   "version": "3.9.7"
  },
  "orig_nbformat": 4
 },
 "nbformat": 4,
 "nbformat_minor": 2
}
