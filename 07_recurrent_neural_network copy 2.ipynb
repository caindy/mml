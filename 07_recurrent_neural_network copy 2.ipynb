{
 "cells": [
  {
   "cell_type": "markdown",
   "metadata": {},
   "source": [
    "### Recurrent Neural Networks\n",
    "\n",
    "Here we return to our original sequence of historical load data without pivot\n",
    "the prior hours' data into features as was needed with the regression\n",
    "techniques.\n",
    "\n",
    "Moreover, we will not immediately employ the walkforward validation technique due to the time cost of daily retraining. Instead we will train the model to always predict 24 hours out. This simplifies our train/validation/test split as well.\n",
    "\n",
    "#### TODO predict 1 to 24 hours out\n",
    "\n",
    "We should train seperate models that predict each of the subsequent 24 hours. These 24 models can be trained independently of each other. This would allow us to train on data that is more recent in the sequence. The hour-ending 24 model will still be trained as above, but the other hours will have a smaller `delay`... but we need the hourly prediction for a particular hour... this approach would just give a \"good at `n` hours out\" model across the entire day. We could train 1-hour-out models, then do walk forward validation as before...feeding the hourly prediction into the sequence "
   ]
  },
  {
   "cell_type": "code",
   "execution_count": 26,
   "metadata": {},
   "outputs": [
    {
     "name": "stdout",
     "output_type": "stream",
     "text": [
      "The autoreload extension is already loaded. To reload it, use:\n",
      "  %reload_ext autoreload\n"
     ]
    },
    {
     "data": {
      "text/html": [
       "<div>\n",
       "<style scoped>\n",
       "    .dataframe tbody tr th:only-of-type {\n",
       "        vertical-align: middle;\n",
       "    }\n",
       "\n",
       "    .dataframe tbody tr th {\n",
       "        vertical-align: top;\n",
       "    }\n",
       "\n",
       "    .dataframe thead th {\n",
       "        text-align: right;\n",
       "    }\n",
       "</style>\n",
       "<table border=\"1\" class=\"dataframe\">\n",
       "  <thead>\n",
       "    <tr style=\"text-align: right;\">\n",
       "      <th></th>\n",
       "      <th>MSP</th>\n",
       "      <th>RST</th>\n",
       "      <th>LRZ1 MTLF (MWh)</th>\n",
       "      <th>LRZ1 ActualLoad (MWh)</th>\n",
       "    </tr>\n",
       "    <tr>\n",
       "      <th>hour</th>\n",
       "      <th></th>\n",
       "      <th></th>\n",
       "      <th></th>\n",
       "      <th></th>\n",
       "    </tr>\n",
       "  </thead>\n",
       "  <tbody>\n",
       "    <tr>\n",
       "      <th>2015-02-01 00:00:00-05:00</th>\n",
       "      <td>23.00</td>\n",
       "      <td>24.08</td>\n",
       "      <td>11099</td>\n",
       "      <td>11337.89</td>\n",
       "    </tr>\n",
       "    <tr>\n",
       "      <th>2015-02-01 01:00:00-05:00</th>\n",
       "      <td>21.02</td>\n",
       "      <td>24.08</td>\n",
       "      <td>10829</td>\n",
       "      <td>11014.87</td>\n",
       "    </tr>\n",
       "    <tr>\n",
       "      <th>2015-02-01 02:00:00-05:00</th>\n",
       "      <td>19.04</td>\n",
       "      <td>23.00</td>\n",
       "      <td>10565</td>\n",
       "      <td>10795.37</td>\n",
       "    </tr>\n",
       "    <tr>\n",
       "      <th>2015-02-01 03:00:00-05:00</th>\n",
       "      <td>19.04</td>\n",
       "      <td>19.94</td>\n",
       "      <td>10468</td>\n",
       "      <td>10714.42</td>\n",
       "    </tr>\n",
       "    <tr>\n",
       "      <th>2015-02-01 04:00:00-05:00</th>\n",
       "      <td>17.06</td>\n",
       "      <td>19.04</td>\n",
       "      <td>10432</td>\n",
       "      <td>10700.09</td>\n",
       "    </tr>\n",
       "  </tbody>\n",
       "</table>\n",
       "</div>"
      ],
      "text/plain": [
       "                             MSP    RST  LRZ1 MTLF (MWh)  \\\n",
       "hour                                                       \n",
       "2015-02-01 00:00:00-05:00  23.00  24.08            11099   \n",
       "2015-02-01 01:00:00-05:00  21.02  24.08            10829   \n",
       "2015-02-01 02:00:00-05:00  19.04  23.00            10565   \n",
       "2015-02-01 03:00:00-05:00  19.04  19.94            10468   \n",
       "2015-02-01 04:00:00-05:00  17.06  19.04            10432   \n",
       "\n",
       "                           LRZ1 ActualLoad (MWh)  \n",
       "hour                                              \n",
       "2015-02-01 00:00:00-05:00               11337.89  \n",
       "2015-02-01 01:00:00-05:00               11014.87  \n",
       "2015-02-01 02:00:00-05:00               10795.37  \n",
       "2015-02-01 03:00:00-05:00               10714.42  \n",
       "2015-02-01 04:00:00-05:00               10700.09  "
      ]
     },
     "execution_count": 26,
     "metadata": {},
     "output_type": "execute_result"
    }
   ],
   "source": [
    "%load_ext autoreload\n",
    "%autoreload 2\n",
    "\n",
    "from datasets import DataSet\n",
    "\n",
    "ds = DataSet('data/zone1_rst.parquet', mtlf='LRZ1 MTLF (MWh)', actual='LRZ1 ActualLoad (MWh)')\n",
    "ds.data.head()"
   ]
  },
  {
   "cell_type": "markdown",
   "metadata": {},
   "source": [
    "Since we are predicting 24 hours out, it is acceptable to incorporate the temperature data again, but we will need to normalize. We also will drop our categoricals for now. Can an RNN learn a good model for predicting tomorrow's load from just prior load and temperature sequences? Should we incorporate more temperature sequences?"
   ]
  },
  {
   "cell_type": "code",
   "execution_count": 27,
   "metadata": {},
   "outputs": [],
   "source": [
    "features = ['MSP', 'RST', ds.actual]\n",
    "df = ds.data[features].copy()\n",
    "load = ds.data[ds.actual].copy().to_numpy()"
   ]
  },
  {
   "cell_type": "code",
   "execution_count": 28,
   "metadata": {},
   "outputs": [
    {
     "data": {
      "image/png": "[encoded data removed]",
      "text/plain": [
       "<Figure size 432x288 with 1 Axes>"
      ]
     },
     "metadata": {
      "needs_background": "light"
     },
     "output_type": "display_data"
    }
   ],
   "source": [
    "import tensorflow as tf\n",
    "import matplotlib.pyplot as plt\n",
    "import numpy as np\n",
    "\n",
    "fft = tf.signal.rfft(load)\n",
    "f_per_dataset = np.arange(0, len(fft))\n",
    "\n",
    "n_samples_h = len(load)\n",
    "hours_per_year = 24*365.2524\n",
    "years_per_dataset = n_samples_h/(hours_per_year)\n",
    "\n",
    "f_per_year = f_per_dataset/years_per_dataset\n",
    "plt.step(f_per_year, np.abs(fft))\n",
    "plt.xscale('log')\n",
    "plt.ylim(0, 40000000)\n",
    "plt.xlim([0.1, max(plt.xlim())])\n",
    "plt.xticks([1, 365.2524], labels=['1/Year', '1/day'])\n",
    "_ = plt.xlabel('Frequency (log scale)')"
   ]
  },
  {
   "cell_type": "code",
   "execution_count": 30,
   "metadata": {},
   "outputs": [
    {
     "data": {
      "text/plain": [
       "array([  0.        ,   1.95471468,   2.09433716,  52.21880642,\n",
       "       364.27504266, 365.2524    , 366.22975734, 730.5048    ])"
      ]
     },
     "execution_count": 30,
     "metadata": {},
     "output_type": "execute_result"
    }
   ],
   "source": [
    "f_per_year[np.argwhere(np.abs(fft) > 1e7).flatten()]"
   ]
  },
  {
   "cell_type": "markdown",
   "metadata": {},
   "source": [
    "Create twice-yearly, weekly, daily, and twice-daily signals."
   ]
  },
  {
   "cell_type": "code",
   "execution_count": 29,
   "metadata": {},
   "outputs": [],
   "source": [
    "import pandas as pd\n",
    "day = 24*60*60\n",
    "year = (365.2425)*day\n",
    "timestamp_s = df.index.to_series().map(pd.Timestamp.timestamp)\n",
    "df['Daily sin'] = np.sin(timestamp_s * (2 * np.pi / day))\n",
    "df['Daily cos'] = np.cos(timestamp_s * (2 * np.pi / day))\n",
    "df['Weekly sin'] = np.sin(timestamp_s * (2 * np.pi / (7*day)))\n",
    "df['Weekly cos'] = np.cos(timestamp_s * (2 * np.pi / (7*day)))\n",
    "df['Yearly sin'] = np.sin(timestamp_s * (2 * np.pi / year))\n",
    "df['Yearly cos'] = np.cos(timestamp_s * (2 * np.pi / year))"
   ]
  },
  {
   "cell_type": "code",
   "execution_count": 32,
   "metadata": {},
   "outputs": [
    {
     "data": {
      "text/plain": [
       "Text(0.5, 1.0, 'Time of day signal')"
      ]
     },
     "execution_count": 32,
     "metadata": {},
     "output_type": "execute_result"
    },
    {
     "data": {
      "image/png": "[encoded data removed]",
      "text/plain": [
       "<Figure size 432x288 with 1 Axes>"
      ]
     },
     "metadata": {
      "needs_background": "light"
     },
     "output_type": "display_data"
    }
   ],
   "source": [
    "plt.plot(np.array(df['Daily sin'])[:25])\n",
    "plt.plot(np.array(df['Daily cos'])[:25])\n",
    "plt.xlabel('Time [h]')\n",
    "plt.title('Time of day signal')"
   ]
  },
  {
   "cell_type": "code",
   "execution_count": 30,
   "metadata": {},
   "outputs": [],
   "source": [
    "raw_data = df.to_numpy()\n",
    "num_test_samples = num_val_samples = 365 * 24\n",
    "num_train_samples = len(raw_data) - num_test_samples - num_val_samples\n",
    "\n",
    "mean = raw_data[:num_train_samples].mean(axis=0)\n",
    "raw_data -= mean\n",
    "std = raw_data[:num_train_samples].std(axis=0)\n",
    "raw_data /= std"
   ]
  },
  {
   "cell_type": "code",
   "execution_count": 31,
   "metadata": {},
   "outputs": [],
   "source": [
    "import numpy as np\n",
    "from tensorflow import keras\n",
    "\n",
    "sampling_rate = 1\n",
    "sequence_length = 36\n",
    "delay = sampling_rate * (sequence_length + 24 - 1) \n",
    "\n",
    "batch_size = 32 # hyperparameter\n",
    "should_shuffle = True\n",
    "\n",
    "train_dataset = keras.utils.timeseries_dataset_from_array(\n",
    "    raw_data[:-delay],\n",
    "    targets=load[delay:],\n",
    "    sampling_rate=sampling_rate,\n",
    "    sequence_length=sequence_length,\n",
    "    shuffle=should_shuffle,\n",
    "    batch_size=batch_size,\n",
    "    start_index=0,\n",
    "    end_index=num_train_samples\n",
    ")\n",
    "\n",
    "val_dataset = keras.utils.timeseries_dataset_from_array(\n",
    "    raw_data[:-delay],\n",
    "    targets=load[delay:],\n",
    "    sampling_rate=sampling_rate,\n",
    "    sequence_length=sequence_length,\n",
    "    shuffle=should_shuffle,\n",
    "    batch_size=batch_size,\n",
    "    start_index=num_train_samples,\n",
    "    end_index=num_train_samples + num_val_samples\n",
    ")\n",
    "\n",
    "test_dataset = keras.utils.timeseries_dataset_from_array(\n",
    "    raw_data[:-delay],\n",
    "    targets=load[delay:],\n",
    "    sampling_rate=sampling_rate,\n",
    "    sequence_length=sequence_length,\n",
    "    shuffle=should_shuffle,\n",
    "    batch_size=batch_size,\n",
    "    start_index=num_train_samples + num_val_samples\n",
    ")"
   ]
  },
  {
   "cell_type": "code",
   "execution_count": 32,
   "metadata": {},
   "outputs": [],
   "source": [
    "from datetime import datetime\n",
    "def evaluate(model, optimizer=\"adam\", loss=\"mse\", epochs=10, checkpoint_file=None):\n",
    "    ts = datetime.now().strftime (\"%Y%m%d_%H%M%S\")\n",
    "    checkpoint_file = checkpoint_file or f\"load_prediction_{optimizer}_{loss}_{ts}.keras\"\n",
    "    callbacks = [\n",
    "        keras.callbacks.ModelCheckpoint(checkpoint_file, monitor='val_mae', save_best_only=True),\n",
    "        keras.callbacks.EarlyStopping(monitor='val_mae', patience=3)]\n",
    "    model.compile(optimizer=optimizer, loss=loss, metrics=[\"mae\"])\n",
    "    history = model.fit(train_dataset, epochs=epochs, validation_data=val_dataset, callbacks=callbacks)\n",
    "    model = keras.models.load_model(checkpoint_file)\n",
    "    print(f\"Test MAE: {model.evaluate(test_dataset)[1]:2f}\")\n",
    "    return history, checkpoint_file\n",
    "\n",
    "from keras import layers\n",
    "inputs = keras.Input(shape=(sequence_length, raw_data.shape[-1]))"
   ]
  },
  {
   "cell_type": "code",
   "execution_count": 33,
   "metadata": {},
   "outputs": [
    {
     "name": "stdout",
     "output_type": "stream",
     "text": [
      "Epoch 1/150\n",
      "1414/1414 [==============================] - 55s 38ms/step - loss: 125001488.0000 - mae: 11064.7109 - val_loss: 112138000.0000 - val_mae: 10460.6396\n",
      "Epoch 2/150\n",
      "1414/1414 [==============================] - 52s 37ms/step - loss: 122957888.0000 - mae: 10971.9609 - val_loss: 110226992.0000 - val_mae: 10368.8896\n",
      "Epoch 3/150\n",
      "1414/1414 [==============================] - 52s 36ms/step - loss: 120956760.0000 - mae: 10880.3965 - val_loss: 108338848.0000 - val_mae: 10277.4404\n",
      "Epoch 4/150\n",
      "1414/1414 [==============================] - 52s 37ms/step - loss: 118976096.0000 - mae: 10789.0020 - val_loss: 106469088.0000 - val_mae: 10186.0732\n",
      "Epoch 5/150\n",
      "1414/1414 [==============================] - 51s 36ms/step - loss: 117013344.0000 - mae: 10697.6523 - val_loss: 104616616.0000 - val_mae: 10094.7324\n",
      "Epoch 6/150\n",
      "1414/1414 [==============================] - 50s 36ms/step - loss: 115067576.0000 - mae: 10606.3105 - val_loss: 102781064.0000 - val_mae: 10003.4043\n",
      "Epoch 7/150\n",
      "1414/1414 [==============================] - 50s 35ms/step - loss: 113138672.0000 - mae: 10514.9854 - val_loss: 100962472.0000 - val_mae: 9912.0908\n",
      "Epoch 8/150\n",
      "1414/1414 [==============================] - 50s 35ms/step - loss: 111226424.0000 - mae: 10423.6758 - val_loss: 99160648.0000 - val_mae: 9820.7764\n",
      "Epoch 9/150\n",
      "1414/1414 [==============================] - 50s 35ms/step - loss: 109331256.0000 - mae: 10332.3574 - val_loss: 97375400.0000 - val_mae: 9729.4561\n",
      "Epoch 10/150\n",
      "1414/1414 [==============================] - 50s 35ms/step - loss: 107452800.0000 - mae: 10241.0518 - val_loss: 95607088.0000 - val_mae: 9638.1572\n",
      "Epoch 11/150\n",
      "1414/1414 [==============================] - 50s 35ms/step - loss: 105591088.0000 - mae: 10149.7461 - val_loss: 93855576.0000 - val_mae: 9546.8545\n",
      "Epoch 12/150\n",
      "1414/1414 [==============================] - 50s 35ms/step - loss: 103746152.0000 - mae: 10058.4492 - val_loss: 92120808.0000 - val_mae: 9455.5684\n",
      "Epoch 13/150\n",
      "1414/1414 [==============================] - 51s 36ms/step - loss: 101918192.0000 - mae: 9967.1758 - val_loss: 90402888.0000 - val_mae: 9364.2881\n",
      "Epoch 14/150\n",
      "1414/1414 [==============================] - 50s 35ms/step - loss: 100106792.0000 - mae: 9875.8809 - val_loss: 88701720.0000 - val_mae: 9273.0107\n",
      "Epoch 15/150\n",
      "1414/1414 [==============================] - 50s 35ms/step - loss: 98312400.0000 - mae: 9784.6084 - val_loss: 87017248.0000 - val_mae: 9181.7344\n",
      "Epoch 16/150\n",
      "1414/1414 [==============================] - 50s 35ms/step - loss: 96534488.0000 - mae: 9693.3359 - val_loss: 85349592.0000 - val_mae: 9090.4648\n",
      "Epoch 17/150\n",
      "1414/1414 [==============================] - 50s 35ms/step - loss: 94773496.0000 - mae: 9602.0723 - val_loss: 83698648.0000 - val_mae: 8999.1982\n",
      "Epoch 18/150\n",
      "1414/1414 [==============================] - 50s 36ms/step - loss: 93029368.0000 - mae: 9510.8115 - val_loss: 82064648.0000 - val_mae: 8907.9512\n",
      "Epoch 19/150\n",
      "1414/1414 [==============================] - 51s 36ms/step - loss: 91301904.0000 - mae: 9419.5732 - val_loss: 80447240.0000 - val_mae: 8816.7012\n",
      "Epoch 20/150\n",
      "1414/1414 [==============================] - 51s 36ms/step - loss: 89591280.0000 - mae: 9328.3232 - val_loss: 78846736.0000 - val_mae: 8725.4580\n",
      "Epoch 21/150\n",
      "1414/1414 [==============================] - 51s 36ms/step - loss: 87897400.0000 - mae: 9237.0762 - val_loss: 77262976.0000 - val_mae: 8634.2285\n",
      "Epoch 22/150\n",
      "1414/1414 [==============================] - 51s 36ms/step - loss: 86220328.0000 - mae: 9145.8506 - val_loss: 75695976.0000 - val_mae: 8543.0059\n",
      "Epoch 23/150\n",
      "1414/1414 [==============================] - 51s 36ms/step - loss: 84560000.0000 - mae: 9054.6270 - val_loss: 74145728.0000 - val_mae: 8451.7881\n",
      "Epoch 24/150\n",
      "1414/1414 [==============================] - 51s 36ms/step - loss: 82916552.0000 - mae: 8963.4170 - val_loss: 72612264.0000 - val_mae: 8360.5781\n",
      "Epoch 25/150\n",
      "1414/1414 [==============================] - 51s 36ms/step - loss: 81289872.0000 - mae: 8872.2100 - val_loss: 71095552.0000 - val_mae: 8269.3760\n",
      "Epoch 26/150\n",
      "1414/1414 [==============================] - 51s 36ms/step - loss: 79679840.0000 - mae: 8781.0107 - val_loss: 69595648.0000 - val_mae: 8178.1797\n",
      "Epoch 27/150\n",
      "1414/1414 [==============================] - 52s 37ms/step - loss: 78086632.0000 - mae: 8689.8125 - val_loss: 68112400.0000 - val_mae: 8086.9888\n",
      "Epoch 28/150\n",
      "1414/1414 [==============================] - 51s 36ms/step - loss: 76510120.0000 - mae: 8598.6328 - val_loss: 66645860.0000 - val_mae: 7995.8022\n",
      "Epoch 29/150\n",
      "1414/1414 [==============================] - 52s 37ms/step - loss: 74950440.0000 - mae: 8507.4492 - val_loss: 65196340.0000 - val_mae: 7904.6392\n",
      "Epoch 30/150\n",
      "1414/1414 [==============================] - 52s 37ms/step - loss: 73407552.0000 - mae: 8416.2891 - val_loss: 63763312.0000 - val_mae: 7813.4673\n",
      "Epoch 31/150\n",
      "1414/1414 [==============================] - 52s 37ms/step - loss: 71881408.0000 - mae: 8325.1230 - val_loss: 62347136.0000 - val_mae: 7722.3145\n",
      "Epoch 32/150\n",
      "1414/1414 [==============================] - 52s 37ms/step - loss: 70372040.0000 - mae: 8233.9756 - val_loss: 60947864.0000 - val_mae: 7631.1709\n",
      "Epoch 33/150\n",
      "1414/1414 [==============================] - 53s 37ms/step - loss: 68879312.0000 - mae: 8142.8320 - val_loss: 59565132.0000 - val_mae: 7540.0337\n",
      "Epoch 34/150\n",
      "1414/1414 [==============================] - 53s 37ms/step - loss: 67403648.0000 - mae: 8051.7036 - val_loss: 58199292.0000 - val_mae: 7448.9062\n",
      "Epoch 35/150\n",
      "1414/1414 [==============================] - 53s 37ms/step - loss: 65944400.0000 - mae: 7960.5752 - val_loss: 56850004.0000 - val_mae: 7357.7827\n",
      "Epoch 36/150\n",
      "1414/1414 [==============================] - 53s 38ms/step - loss: 64502128.0000 - mae: 7869.4658 - val_loss: 55517664.0000 - val_mae: 7266.6758\n",
      "Epoch 37/150\n",
      "1414/1414 [==============================] - 53s 38ms/step - loss: 63076540.0000 - mae: 7778.3579 - val_loss: 54201964.0000 - val_mae: 7175.5767\n",
      "Epoch 38/150\n",
      "1414/1414 [==============================] - 54s 38ms/step - loss: 61667692.0000 - mae: 7687.2642 - val_loss: 52903048.0000 - val_mae: 7084.4917\n",
      "Epoch 39/150\n",
      "1414/1414 [==============================] - 54s 38ms/step - loss: 60275612.0000 - mae: 7596.1777 - val_loss: 51620836.0000 - val_mae: 6993.4141\n",
      "Epoch 40/150\n",
      "1414/1414 [==============================] - 54s 38ms/step - loss: 58900372.0000 - mae: 7505.1104 - val_loss: 50355372.0000 - val_mae: 6902.3413\n",
      "Epoch 41/150\n",
      "1414/1414 [==============================] - 54s 38ms/step - loss: 57541696.0000 - mae: 7414.0425 - val_loss: 49106624.0000 - val_mae: 6811.2837\n",
      "Epoch 42/150\n",
      "1414/1414 [==============================] - 54s 38ms/step - loss: 56199792.0000 - mae: 7322.9907 - val_loss: 47874688.0000 - val_mae: 6720.2432\n",
      "Epoch 43/150\n",
      "1414/1414 [==============================] - 54s 38ms/step - loss: 54874780.0000 - mae: 7231.9385 - val_loss: 46659360.0000 - val_mae: 6629.2002\n",
      "Epoch 44/150\n",
      "1414/1414 [==============================] - 55s 39ms/step - loss: 53566460.0000 - mae: 7140.9233 - val_loss: 45460912.0000 - val_mae: 6538.1821\n",
      "Epoch 45/150\n",
      "1414/1414 [==============================] - 55s 39ms/step - loss: 52274924.0000 - mae: 7049.9136 - val_loss: 44279108.0000 - val_mae: 6447.1763\n",
      "Epoch 46/150\n",
      "1414/1414 [==============================] - 55s 39ms/step - loss: 51000016.0000 - mae: 6958.9053 - val_loss: 43114044.0000 - val_mae: 6356.1807\n",
      "Epoch 47/150\n",
      "1414/1414 [==============================] - 55s 39ms/step - loss: 49741844.0000 - mae: 6867.9004 - val_loss: 41965680.0000 - val_mae: 6265.1909\n",
      "Epoch 48/150\n",
      "1414/1414 [==============================] - 56s 39ms/step - loss: 48500452.0000 - mae: 6776.9248 - val_loss: 40834024.0000 - val_mae: 6174.2217\n",
      "Epoch 49/150\n",
      "1414/1414 [==============================] - 55s 39ms/step - loss: 47275800.0000 - mae: 6685.9629 - val_loss: 39719200.0000 - val_mae: 6083.2681\n",
      "Epoch 50/150\n",
      "1414/1414 [==============================] - 56s 39ms/step - loss: 46067848.0000 - mae: 6595.0146 - val_loss: 38620940.0000 - val_mae: 5992.3193\n",
      "Epoch 51/150\n",
      "1414/1414 [==============================] - 56s 39ms/step - loss: 44876704.0000 - mae: 6504.0825 - val_loss: 37539432.0000 - val_mae: 5901.3921\n",
      "Epoch 52/150\n",
      "1414/1414 [==============================] - 56s 40ms/step - loss: 43702176.0000 - mae: 6413.1519 - val_loss: 36474572.0000 - val_mae: 5810.4697\n",
      "Epoch 53/150\n",
      "1414/1414 [==============================] - 56s 40ms/step - loss: 42544368.0000 - mae: 6322.2451 - val_loss: 35426456.0000 - val_mae: 5719.5620\n",
      "Epoch 54/150\n",
      "1414/1414 [==============================] - 56s 40ms/step - loss: 41403304.0000 - mae: 6231.3394 - val_loss: 34395088.0000 - val_mae: 5628.6792\n",
      "Epoch 55/150\n",
      "1414/1414 [==============================] - 57s 40ms/step - loss: 40278964.0000 - mae: 6140.4673 - val_loss: 33380406.0000 - val_mae: 5537.8101\n",
      "Epoch 56/150\n",
      "1414/1414 [==============================] - 57s 40ms/step - loss: 39171328.0000 - mae: 6049.6030 - val_loss: 32382454.0000 - val_mae: 5446.9604\n",
      "Epoch 57/150\n",
      "1414/1414 [==============================] - 57s 40ms/step - loss: 38080592.0000 - mae: 5958.7710 - val_loss: 31401218.0000 - val_mae: 5356.1348\n",
      "Epoch 58/150\n",
      "1414/1414 [==============================] - 57s 41ms/step - loss: 37006332.0000 - mae: 5867.9341 - val_loss: 30436634.0000 - val_mae: 5265.3179\n",
      "Epoch 59/150\n",
      "1414/1414 [==============================] - 57s 40ms/step - loss: 35948968.0000 - mae: 5777.1382 - val_loss: 29488684.0000 - val_mae: 5174.5190\n",
      "Epoch 60/150\n",
      "1414/1414 [==============================] - 57s 41ms/step - loss: 34908356.0000 - mae: 5686.3647 - val_loss: 28557620.0000 - val_mae: 5083.7559\n",
      "Epoch 61/150\n",
      "1414/1414 [==============================] - 58s 41ms/step - loss: 33884308.0000 - mae: 5595.5952 - val_loss: 27643180.0000 - val_mae: 4993.0093\n",
      "Epoch 62/150\n",
      "1414/1414 [==============================] - 58s 41ms/step - loss: 32876996.0000 - mae: 5504.8516 - val_loss: 26745266.0000 - val_mae: 4902.2656\n",
      "Epoch 63/150\n",
      "1414/1414 [==============================] - 58s 41ms/step - loss: 31886384.0000 - mae: 5414.1294 - val_loss: 25864150.0000 - val_mae: 4811.5576\n",
      "Epoch 64/150\n",
      "1414/1414 [==============================] - 58s 41ms/step - loss: 30912524.0000 - mae: 5323.4204 - val_loss: 24999648.0000 - val_mae: 4720.8682\n",
      "Epoch 65/150\n",
      "1414/1414 [==============================] - 58s 41ms/step - loss: 29955202.0000 - mae: 5232.7456 - val_loss: 24151784.0000 - val_mae: 4630.1973\n",
      "Epoch 66/150\n",
      "1414/1414 [==============================] - 58s 41ms/step - loss: 29014636.0000 - mae: 5142.0796 - val_loss: 23320576.0000 - val_mae: 4539.5542\n",
      "Epoch 67/150\n",
      "1414/1414 [==============================] - 59s 42ms/step - loss: 28090768.0000 - mae: 5051.4492 - val_loss: 22506004.0000 - val_mae: 4448.9282\n",
      "Epoch 68/150\n",
      "1414/1414 [==============================] - 59s 42ms/step - loss: 27183528.0000 - mae: 4960.8330 - val_loss: 21708122.0000 - val_mae: 4358.3359\n",
      "Epoch 69/150\n",
      "1414/1414 [==============================] - 60s 42ms/step - loss: 26293056.0000 - mae: 4870.2563 - val_loss: 20926892.0000 - val_mae: 4267.7676\n",
      "Epoch 70/150\n",
      "1414/1414 [==============================] - 60s 42ms/step - loss: 25419266.0000 - mae: 4779.7051 - val_loss: 20162304.0000 - val_mae: 4177.2314\n",
      "Epoch 71/150\n",
      "1414/1414 [==============================] - 60s 42ms/step - loss: 24562112.0000 - mae: 4689.1831 - val_loss: 19414388.0000 - val_mae: 4086.7297\n",
      "Epoch 72/150\n",
      "1414/1414 [==============================] - 60s 42ms/step - loss: 23721484.0000 - mae: 4598.6772 - val_loss: 18683002.0000 - val_mae: 3996.2439\n",
      "Epoch 73/150\n",
      "1414/1414 [==============================] - 60s 42ms/step - loss: 22897622.0000 - mae: 4508.2119 - val_loss: 17968344.0000 - val_mae: 3905.8030\n",
      "Epoch 74/150\n",
      "1414/1414 [==============================] - 60s 43ms/step - loss: 22090358.0000 - mae: 4417.7754 - val_loss: 17270054.0000 - val_mae: 3815.3667\n",
      "Epoch 75/150\n",
      "1414/1414 [==============================] - 60s 43ms/step - loss: 21299840.0000 - mae: 4327.3770 - val_loss: 16588651.0000 - val_mae: 3724.9968\n",
      "Epoch 76/150\n",
      "1414/1414 [==============================] - 60s 43ms/step - loss: 20525920.0000 - mae: 4237.0127 - val_loss: 15923740.0000 - val_mae: 3634.6860\n",
      "Epoch 77/150\n",
      "1414/1414 [==============================] - 60s 43ms/step - loss: 19768696.0000 - mae: 4146.6919 - val_loss: 15275476.0000 - val_mae: 3544.4514\n",
      "Epoch 78/150\n",
      "1414/1414 [==============================] - 61s 43ms/step - loss: 19028094.0000 - mae: 4056.4092 - val_loss: 14643792.0000 - val_mae: 3454.3479\n",
      "Epoch 79/150\n",
      "1414/1414 [==============================] - 61s 43ms/step - loss: 18304054.0000 - mae: 3966.1587 - val_loss: 14028611.0000 - val_mae: 3364.4548\n",
      "Epoch 80/150\n",
      "1414/1414 [==============================] - 61s 43ms/step - loss: 17596542.0000 - mae: 3875.9421 - val_loss: 13429944.0000 - val_mae: 3274.8379\n",
      "Epoch 81/150\n",
      "1414/1414 [==============================] - 62s 44ms/step - loss: 16905670.0000 - mae: 3785.7703 - val_loss: 12847782.0000 - val_mae: 3185.5720\n",
      "Epoch 82/150\n",
      "1414/1414 [==============================] - 62s 44ms/step - loss: 16231444.0000 - mae: 3695.6582 - val_loss: 12282268.0000 - val_mae: 3096.9309\n",
      "Epoch 83/150\n",
      "1414/1414 [==============================] - 62s 44ms/step - loss: 15573760.0000 - mae: 3605.6235 - val_loss: 11733225.0000 - val_mae: 3008.9150\n",
      "Epoch 84/150\n",
      "1414/1414 [==============================] - 63s 44ms/step - loss: 14932627.0000 - mae: 3515.6775 - val_loss: 11200757.0000 - val_mae: 2921.9380\n",
      "Epoch 85/150\n",
      "1414/1414 [==============================] - 63s 44ms/step - loss: 14308102.0000 - mae: 3425.8801 - val_loss: 10684774.0000 - val_mae: 2835.9172\n",
      "Epoch 86/150\n",
      "1414/1414 [==============================] - 63s 44ms/step - loss: 13700180.0000 - mae: 3336.3071 - val_loss: 10185288.0000 - val_mae: 2750.7610\n",
      "Epoch 87/150\n",
      "1414/1414 [==============================] - 63s 45ms/step - loss: 13108866.0000 - mae: 3247.0728 - val_loss: 9702397.0000 - val_mae: 2666.8704\n",
      "Epoch 88/150\n",
      "1414/1414 [==============================] - 63s 44ms/step - loss: 12534104.0000 - mae: 3158.3025 - val_loss: 9235842.0000 - val_mae: 2584.4272\n",
      "Epoch 89/150\n",
      "1414/1414 [==============================] - 64s 45ms/step - loss: 11975808.0000 - mae: 3070.1809 - val_loss: 8785803.0000 - val_mae: 2503.5010\n",
      "Epoch 90/150\n",
      "1414/1414 [==============================] - 64s 45ms/step - loss: 11434078.0000 - mae: 2982.9185 - val_loss: 8352290.0000 - val_mae: 2424.5364\n",
      "Epoch 91/150\n",
      "1414/1414 [==============================] - 64s 45ms/step - loss: 10908934.0000 - mae: 2896.6763 - val_loss: 7935139.5000 - val_mae: 2347.5259\n",
      "Epoch 92/150\n",
      "1414/1414 [==============================] - 64s 45ms/step - loss: 10400243.0000 - mae: 2811.6133 - val_loss: 7534481.0000 - val_mae: 2272.4353\n",
      "Epoch 93/150\n",
      "1414/1414 [==============================] - 65s 46ms/step - loss: 9908173.0000 - mae: 2728.0112 - val_loss: 7150183.5000 - val_mae: 2199.3303\n",
      "Epoch 94/150\n",
      "1414/1414 [==============================] - 64s 45ms/step - loss: 9432556.0000 - mae: 2645.9907 - val_loss: 6782191.5000 - val_mae: 2127.8452\n",
      "Epoch 95/150\n",
      "1414/1414 [==============================] - 65s 46ms/step - loss: 8973421.0000 - mae: 2565.5688 - val_loss: 6430594.0000 - val_mae: 2058.3616\n",
      "Epoch 96/150\n",
      "1414/1414 [==============================] - 65s 46ms/step - loss: 8530549.0000 - mae: 2486.8010 - val_loss: 6095119.5000 - val_mae: 1991.1038\n",
      "Epoch 97/150\n",
      "1414/1414 [==============================] - 65s 46ms/step - loss: 8104170.5000 - mae: 2409.9004 - val_loss: 5776074.0000 - val_mae: 1926.3927\n",
      "Epoch 98/150\n",
      "1414/1414 [==============================] - 65s 46ms/step - loss: 7694305.0000 - mae: 2334.8340 - val_loss: 5473432.0000 - val_mae: 1864.6978\n",
      "Epoch 99/150\n",
      "1414/1414 [==============================] - 66s 47ms/step - loss: 7300788.5000 - mae: 2261.7019 - val_loss: 5186754.0000 - val_mae: 1806.0088\n",
      "Epoch 100/150\n",
      "1414/1414 [==============================] - 66s 46ms/step - loss: 6923735.0000 - mae: 2190.5898 - val_loss: 4916429.0000 - val_mae: 1750.5415\n",
      "Epoch 101/150\n",
      "1414/1414 [==============================] - 66s 47ms/step - loss: 6562859.5000 - mae: 2121.5515 - val_loss: 4662047.5000 - val_mae: 1698.3566\n",
      "Epoch 102/150\n",
      "1414/1414 [==============================] - 65s 46ms/step - loss: 6218323.0000 - mae: 2054.7495 - val_loss: 4423851.0000 - val_mae: 1649.2781\n",
      "Epoch 103/150\n",
      "1414/1414 [==============================] - 66s 47ms/step - loss: 5890016.5000 - mae: 1990.3521 - val_loss: 4201697.5000 - val_mae: 1603.2622\n",
      "Epoch 104/150\n",
      "1414/1414 [==============================] - 66s 47ms/step - loss: 5578130.5000 - mae: 1928.3401 - val_loss: 3995643.5000 - val_mae: 1560.7003\n",
      "Epoch 105/150\n",
      "1414/1414 [==============================] - 67s 47ms/step - loss: 5282367.5000 - mae: 1868.7750 - val_loss: 3805355.0000 - val_mae: 1521.6013\n",
      "Epoch 106/150\n",
      "1414/1414 [==============================] - 66s 47ms/step - loss: 5002831.0000 - mae: 1811.8110 - val_loss: 3630938.0000 - val_mae: 1485.9945\n",
      "Epoch 107/150\n",
      "1414/1414 [==============================] - 67s 47ms/step - loss: 4739534.0000 - mae: 1757.4885 - val_loss: 3472352.5000 - val_mae: 1453.9021\n",
      "Epoch 108/150\n",
      "1414/1414 [==============================] - 67s 47ms/step - loss: 4492373.5000 - mae: 1706.0852 - val_loss: 3329361.7500 - val_mae: 1425.3112\n",
      "Epoch 109/150\n",
      "1414/1414 [==============================] - 69s 49ms/step - loss: 4261258.0000 - mae: 1657.5824 - val_loss: 3201979.0000 - val_mae: 1400.0690\n",
      "Epoch 110/150\n",
      "1414/1414 [==============================] - 69s 49ms/step - loss: 4046090.5000 - mae: 1611.9794 - val_loss: 3089845.2500 - val_mae: 1378.4987\n",
      "Epoch 111/150\n",
      "1414/1414 [==============================] - 69s 48ms/step - loss: 3846873.2500 - mae: 1569.4001 - val_loss: 2993050.2500 - val_mae: 1360.4683\n",
      "Epoch 112/150\n",
      "1414/1414 [==============================] - 69s 49ms/step - loss: 3663330.0000 - mae: 1529.6537 - val_loss: 2911045.0000 - val_mae: 1346.2108\n",
      "Epoch 113/150\n",
      "1414/1414 [==============================] - 69s 49ms/step - loss: 3495374.2500 - mae: 1492.8469 - val_loss: 2843842.7500 - val_mae: 1335.6230\n",
      "Epoch 114/150\n",
      "1414/1414 [==============================] - 70s 50ms/step - loss: 3343275.2500 - mae: 1459.1486 - val_loss: 2791147.7500 - val_mae: 1328.7058\n",
      "Epoch 115/150\n",
      "1414/1414 [==============================] - 71s 50ms/step - loss: 3206728.7500 - mae: 1428.4467 - val_loss: 2752482.7500 - val_mae: 1325.2286\n",
      "Epoch 116/150\n",
      "1414/1414 [==============================] - 71s 50ms/step - loss: 3085280.5000 - mae: 1400.8796 - val_loss: 2727201.7500 - val_mae: 1324.6664\n",
      "Epoch 117/150\n",
      "1414/1414 [==============================] - 70s 50ms/step - loss: 2978749.7500 - mae: 1376.4171 - val_loss: 2714743.0000 - val_mae: 1327.0852\n",
      "Epoch 118/150\n",
      "1414/1414 [==============================] - 72s 51ms/step - loss: 2886721.2500 - mae: 1355.1035 - val_loss: 2714239.5000 - val_mae: 1332.3029\n",
      "Epoch 119/150\n",
      "1414/1414 [==============================] - 70s 49ms/step - loss: 2808710.0000 - mae: 1336.8958 - val_loss: 2724620.0000 - val_mae: 1339.8230\n",
      "271/271 [==============================] - 5s 17ms/step - loss: 3400791.2500 - mae: 1451.1774\n",
      "Test MAE: 1451.177368\n"
     ]
    }
   ],
   "source": [
    "x = layers.LSTM(64, return_sequences=True)(inputs)\n",
    "x = layers.LSTM(64)(x)\n",
    "outputs = layers.Dense(1)(x)\n",
    "model = keras.Model(inputs, outputs)\n",
    "history, checkpoint_file = evaluate(model, epochs=150)"
   ]
  },
  {
   "cell_type": "code",
   "execution_count": 34,
   "metadata": {},
   "outputs": [
    {
     "name": "stdout",
     "output_type": "stream",
     "text": [
      "load_prediction_adam_mse_20220505_151748.keras\n"
     ]
    },
    {
     "data": {
      "image/png": "[encoded data removed]",
      "text/plain": [
       "<Figure size 432x288 with 1 Axes>"
      ]
     },
     "metadata": {
      "needs_background": "light"
     },
     "output_type": "display_data"
    }
   ],
   "source": [
    "print(checkpoint_file)\n",
    "import matplotlib.pyplot as plt\n",
    "loss = history.history[\"mae\"]\n",
    "val_loss = history.history[\"val_mae\"]\n",
    "epochs = range(1, len(loss) + 1)\n",
    "plt.figure()\n",
    "plt.plot(epochs, loss, \"bo\", label=\"Training MAE\")\n",
    "plt.plot(epochs, val_loss, \"b\", label=\"Validation MAE\")\n",
    "plt.title(\"Training and validation MAE\")\n",
    "plt.legend()\n",
    "plt.show()"
   ]
  }
 ],
 "metadata": {
  "interpreter": {
   "hash": "ea54240020e07c96210ab594155946643681c2705be142acda2fae782468806d"
  },
  "kernelspec": {
   "display_name": "Python 3.9.12 ('mml-i7LNY0oE')",
   "language": "python",
   "name": "python3"
  },
  "language_info": {
   "codemirror_mode": {
    "name": "ipython",
    "version": 3
   },
   "file_extension": ".py",
   "mimetype": "text/x-python",
   "name": "python",
   "nbconvert_exporter": "python",
   "pygments_lexer": "ipython3",
   "version": "3.9.12"
  },
  "orig_nbformat": 4
 },
 "nbformat": 4,
 "nbformat_minor": 2
}
