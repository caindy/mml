{
 "cells": [
  {
   "cell_type": "code",
   "execution_count": 3,
   "metadata": {},
   "outputs": [
    {
     "name": "stdout",
     "output_type": "stream",
     "text": [
      "The autoreload extension is already loaded. To reload it, use:\n",
      "  %reload_ext autoreload\n",
      "Error(mae=521.3571310730592, max=3452.2881999999972, total=4567088.468199993)\n",
      "Error(mae=529.0425043150685, max=3630.9405999999963, total=4634412.337800025)\n",
      "Error(mae=533.5468552739725, max=3437.9390000000003, total=4673870.45220002)\n",
      "Error(mae=525.5292052054795, max=3574.656399999998, total=4603635.837599989)\n",
      "Error(mae=531.8591386757989, max=3597.7415999999994, total=4659086.054799996)\n"
     ]
    }
   ],
   "source": [
    "%load_ext autoreload\n",
    "%autoreload 2\n",
    "\n",
    "from datasets import Zone1\n",
    "ds = Zone1('data/zone1_prior_load.parquet')\n",
    "ds.data.head()\n",
    "\n",
    "from validation import walkforward, Error\n",
    "from sklearn.ensemble import RandomForestRegressor\n",
    "import numpy as np\n",
    "\n",
    "n = 50\n",
    "for s in [n*0.1 for n in range(1, 6)]:\n",
    "    model = RandomForestRegressor(n_estimators=n, max_samples=s, n_jobs=4)\n",
    "    (predictions, errors) = walkforward(model, ds.data, ds.data[ds.actual],\n",
    "                                        ds.validation_start, ds.validation_end, Zone1.next_hour,\n",
    "                                        ds.features)\n",
    "    overall_error = Error(ds.validation_data[ds.actual], np.concatenate(predictions))\n",
    "    print(overall_error)\n"
   ]
  },
  {
   "cell_type": "code",
   "execution_count": 2,
   "metadata": {},
   "outputs": [
    {
     "data": {
      "text/plain": [
       "Error(mae=525.7232836431832, max=3594.14957142857, total=4605335.9647143185)"
      ]
     },
     "execution_count": 2,
     "metadata": {},
     "output_type": "execute_result"
    }
   ],
   "source": [
    "overall_error"
   ]
  },
  {
   "cell_type": "code",
   "execution_count": 7,
   "metadata": {},
   "outputs": [
    {
     "name": "stdout",
     "output_type": "stream",
     "text": [
      "Error(mae=594.9278533105023, max=3995.833999999999, total=5211567.9949999945)\n",
      "Error(mae=577.7956147260273, max=3512.7947999999997, total=5061489.585000002)\n",
      "Error(mae=574.1588173744294, max=3618.3545999999988, total=5029631.240199989)\n"
     ]
    }
   ],
   "source": [
    "cols = ds.data.columns.to_series()\n",
    "cols = cols.drop([ds.actual, ds.mtlf])\n",
    "for n in [10, 50, 100]:\n",
    "    model = RandomForestRegressor(n_estimators=n, max_samples=0.1, n_jobs=4)\n",
    "    (predictions, errors) = walkforward(model, ds.data, ds.data[ds.actual],\n",
    "                                        ds.validation_start, ds.validation_end, Zone1.next_hour,\n",
    "                                        cols)\n",
    "    overall_error = Error(ds.validation_data[ds.actual], np.concatenate(predictions))\n",
    "    print(overall_error)"
   ]
  },
  {
   "cell_type": "code",
   "execution_count": 5,
   "metadata": {},
   "outputs": [
    {
     "name": "stdout",
     "output_type": "stream",
     "text": [
      "Error(mae=586.3442405936072, max=3470.216000000004, total=5136375.547599995)\n"
     ]
    }
   ],
   "source": [
    "overall_error = Error(ds.validation_data[ds.actual], np.concatenate(predictions))\n",
    "print(overall_error)"
   ]
  },
  {
   "cell_type": "markdown",
   "metadata": {},
   "source": [
    "### Conclusion\n",
    "\n",
    "Including all available features does not help the regressor, but smaller sampling does help generalization. However, we are still doing worse than the naive model and much worse than the baseline MTLF."
   ]
  }
 ],
 "metadata": {
  "interpreter": {
   "hash": "656d9c9dcfe2faf48f2fd84a8eb7135158c7cca549d2b4648b451fb4e5e38b0f"
  },
  "kernelspec": {
   "display_name": "Python 3.9.7 ('mml-uJPEnftj')",
   "language": "python",
   "name": "python3"
  },
  "language_info": {
   "codemirror_mode": {
    "name": "ipython",
    "version": 3
   },
   "file_extension": ".py",
   "mimetype": "text/x-python",
   "name": "python",
   "nbconvert_exporter": "python",
   "pygments_lexer": "ipython3",
   "version": "3.9.12"
  },
  "orig_nbformat": 4
 },
 "nbformat": 4,
 "nbformat_minor": 2
}
