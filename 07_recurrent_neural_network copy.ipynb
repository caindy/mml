{
 "cells": [
  {
   "cell_type": "markdown",
   "metadata": {},
   "source": [
    "### Recurrent Neural Networks\n",
    "\n",
    "Here we return to our original sequence of historical load data without pivot\n",
    "the prior hours' data into features as was needed with the regression\n",
    "techniques.\n",
    "\n",
    "Moreover, we will not immediately employ the walkforward validation technique due to the time cost of daily retraining. Instead we will train the model to always predict 24 hours out. This simplifies our train/validation/test split as well.\n",
    "\n",
    "#### TODO predict 1 to 24 hours out\n",
    "\n",
    "We should train seperate models that predict each of the subsequent 24 hours. These 24 models can be trained independently of each other. This would allow us to train on data that is more recent in the sequence. The hour-ending 24 model will still be trained as above, but the other hours will have a smaller `delay`... but we need the hourly prediction for a particular hour... this approach would just give a \"good at `n` hours out\" model across the entire day. We could train 1-hour-out models, then do walk forward validation as before...feeding the hourly prediction into the sequence "
   ]
  },
  {
   "cell_type": "code",
   "execution_count": 27,
   "metadata": {},
   "outputs": [
    {
     "name": "stdout",
     "output_type": "stream",
     "text": [
      "The autoreload extension is already loaded. To reload it, use:\n",
      "  %reload_ext autoreload\n"
     ]
    },
    {
     "data": {
      "text/html": [
       "<div>\n",
       "<style scoped>\n",
       "    .dataframe tbody tr th:only-of-type {\n",
       "        vertical-align: middle;\n",
       "    }\n",
       "\n",
       "    .dataframe tbody tr th {\n",
       "        vertical-align: top;\n",
       "    }\n",
       "\n",
       "    .dataframe thead th {\n",
       "        text-align: right;\n",
       "    }\n",
       "</style>\n",
       "<table border=\"1\" class=\"dataframe\">\n",
       "  <thead>\n",
       "    <tr style=\"text-align: right;\">\n",
       "      <th></th>\n",
       "      <th>MSP</th>\n",
       "      <th>RST</th>\n",
       "      <th>LRZ1 MTLF (MWh)</th>\n",
       "      <th>LRZ1 ActualLoad (MWh)</th>\n",
       "    </tr>\n",
       "    <tr>\n",
       "      <th>hour</th>\n",
       "      <th></th>\n",
       "      <th></th>\n",
       "      <th></th>\n",
       "      <th></th>\n",
       "    </tr>\n",
       "  </thead>\n",
       "  <tbody>\n",
       "    <tr>\n",
       "      <th>2015-02-01 00:00:00-05:00</th>\n",
       "      <td>23.00</td>\n",
       "      <td>24.08</td>\n",
       "      <td>11099</td>\n",
       "      <td>11337.89</td>\n",
       "    </tr>\n",
       "    <tr>\n",
       "      <th>2015-02-01 01:00:00-05:00</th>\n",
       "      <td>21.02</td>\n",
       "      <td>24.08</td>\n",
       "      <td>10829</td>\n",
       "      <td>11014.87</td>\n",
       "    </tr>\n",
       "    <tr>\n",
       "      <th>2015-02-01 02:00:00-05:00</th>\n",
       "      <td>19.04</td>\n",
       "      <td>23.00</td>\n",
       "      <td>10565</td>\n",
       "      <td>10795.37</td>\n",
       "    </tr>\n",
       "    <tr>\n",
       "      <th>2015-02-01 03:00:00-05:00</th>\n",
       "      <td>19.04</td>\n",
       "      <td>19.94</td>\n",
       "      <td>10468</td>\n",
       "      <td>10714.42</td>\n",
       "    </tr>\n",
       "    <tr>\n",
       "      <th>2015-02-01 04:00:00-05:00</th>\n",
       "      <td>17.06</td>\n",
       "      <td>19.04</td>\n",
       "      <td>10432</td>\n",
       "      <td>10700.09</td>\n",
       "    </tr>\n",
       "  </tbody>\n",
       "</table>\n",
       "</div>"
      ],
      "text/plain": [
       "                             MSP    RST  LRZ1 MTLF (MWh)  \\\n",
       "hour                                                       \n",
       "2015-02-01 00:00:00-05:00  23.00  24.08            11099   \n",
       "2015-02-01 01:00:00-05:00  21.02  24.08            10829   \n",
       "2015-02-01 02:00:00-05:00  19.04  23.00            10565   \n",
       "2015-02-01 03:00:00-05:00  19.04  19.94            10468   \n",
       "2015-02-01 04:00:00-05:00  17.06  19.04            10432   \n",
       "\n",
       "                           LRZ1 ActualLoad (MWh)  \n",
       "hour                                              \n",
       "2015-02-01 00:00:00-05:00               11337.89  \n",
       "2015-02-01 01:00:00-05:00               11014.87  \n",
       "2015-02-01 02:00:00-05:00               10795.37  \n",
       "2015-02-01 03:00:00-05:00               10714.42  \n",
       "2015-02-01 04:00:00-05:00               10700.09  "
      ]
     },
     "execution_count": 27,
     "metadata": {},
     "output_type": "execute_result"
    }
   ],
   "source": [
    "%load_ext autoreload\n",
    "%autoreload 2\n",
    "\n",
    "from datasets import DataSet\n",
    "\n",
    "ds = DataSet('data/zone1_rst.parquet', mtlf='LRZ1 MTLF (MWh)', actual='LRZ1 ActualLoad (MWh)')\n",
    "ds.data.head()"
   ]
  },
  {
   "cell_type": "markdown",
   "metadata": {},
   "source": [
    "Since we are predicting 24 hours out, it is acceptable to incorporate the temperature data again, but we will need to normalize. We also will drop our categoricals for now. Can an RNN learn a good model for predicting tomorrow's load from just prior load and temperature sequences? Should we incorporate more temperature sequences?"
   ]
  },
  {
   "cell_type": "code",
   "execution_count": 28,
   "metadata": {},
   "outputs": [],
   "source": [
    "features = ['MSP', 'RST', ds.actual]\n",
    "df = ds.data[features].copy()\n",
    "load = ds.data[ds.actual].copy().to_numpy()"
   ]
  },
  {
   "cell_type": "code",
   "execution_count": 29,
   "metadata": {},
   "outputs": [
    {
     "data": {
      "image/png": "[encoded data removed]",
      "text/plain": [
       "<Figure size 432x288 with 1 Axes>"
      ]
     },
     "metadata": {
      "needs_background": "light"
     },
     "output_type": "display_data"
    }
   ],
   "source": [
    "import tensorflow as tf\n",
    "import matplotlib.pyplot as plt\n",
    "import numpy as np\n",
    "\n",
    "fft = tf.signal.rfft(load)\n",
    "f_per_dataset = np.arange(0, len(fft))\n",
    "\n",
    "n_samples_h = len(load)\n",
    "hours_per_year = 24*365.2524\n",
    "years_per_dataset = n_samples_h/(hours_per_year)\n",
    "\n",
    "f_per_year = f_per_dataset/years_per_dataset\n",
    "plt.step(f_per_year, np.abs(fft))\n",
    "plt.xscale('log')\n",
    "plt.ylim(0, 40000000)\n",
    "plt.xlim([0.1, max(plt.xlim())])\n",
    "plt.xticks([1, 365.2524], labels=['1/Year', '1/day'])\n",
    "_ = plt.xlabel('Frequency (log scale)')"
   ]
  },
  {
   "cell_type": "code",
   "execution_count": 30,
   "metadata": {},
   "outputs": [
    {
     "data": {
      "text/plain": [
       "array([  0.        ,   1.95471468,   2.09433716,  52.21880642,\n",
       "       364.27504266, 365.2524    , 366.22975734, 730.5048    ])"
      ]
     },
     "execution_count": 30,
     "metadata": {},
     "output_type": "execute_result"
    }
   ],
   "source": [
    "f_per_year[np.argwhere(np.abs(fft) > 1e7).flatten()]"
   ]
  },
  {
   "cell_type": "markdown",
   "metadata": {},
   "source": [
    "Create twice-yearly, weekly, daily, and twice-daily signals."
   ]
  },
  {
   "cell_type": "code",
   "execution_count": 31,
   "metadata": {},
   "outputs": [],
   "source": [
    "import pandas as pd\n",
    "day = 24*60*60\n",
    "year = (365.2425)*day\n",
    "timestamp_s = df.index.to_series().map(pd.Timestamp.timestamp)\n",
    "df['Daily sin'] = np.sin(timestamp_s * (2 * np.pi / day))\n",
    "df['Daily cos'] = np.cos(timestamp_s * (2 * np.pi / day))\n",
    "df['Weekly sin'] = np.sin(timestamp_s * (2 * np.pi / (7*day)))\n",
    "df['Weekly cos'] = np.cos(timestamp_s * (2 * np.pi / (7*day)))\n",
    "df['Yearly sin'] = np.sin(timestamp_s * (2 * np.pi / year))\n",
    "df['Yearly cos'] = np.cos(timestamp_s * (2 * np.pi / year))"
   ]
  },
  {
   "cell_type": "code",
   "execution_count": 32,
   "metadata": {},
   "outputs": [
    {
     "data": {
      "text/plain": [
       "Text(0.5, 1.0, 'Time of day signal')"
      ]
     },
     "execution_count": 32,
     "metadata": {},
     "output_type": "execute_result"
    },
    {
     "data": {
      "image/png": "[encoded data removed]",
      "text/plain": [
       "<Figure size 432x288 with 1 Axes>"
      ]
     },
     "metadata": {
      "needs_background": "light"
     },
     "output_type": "display_data"
    }
   ],
   "source": [
    "plt.plot(np.array(df['Daily sin'])[:25])\n",
    "plt.plot(np.array(df['Daily cos'])[:25])\n",
    "plt.xlabel('Time [h]')\n",
    "plt.title('Time of day signal')"
   ]
  },
  {
   "cell_type": "code",
   "execution_count": 33,
   "metadata": {},
   "outputs": [],
   "source": [
    "raw_data = df.to_numpy()\n",
    "num_test_samples = num_val_samples = 365 * 24\n",
    "num_train_samples = len(raw_data) - num_test_samples - num_val_samples\n",
    "\n",
    "mean = raw_data[:num_train_samples].mean(axis=0)\n",
    "raw_data -= mean\n",
    "std = raw_data[:num_train_samples].std(axis=0)\n",
    "raw_data /= std"
   ]
  },
  {
   "cell_type": "code",
   "execution_count": 34,
   "metadata": {},
   "outputs": [],
   "source": [
    "import numpy as np\n",
    "from tensorflow import keras\n",
    "\n",
    "sampling_rate = 1\n",
    "sequence_length = 36\n",
    "delay = sampling_rate * (sequence_length + 24 - 1) \n",
    "\n",
    "batch_size = 32 # hyperparameter\n",
    "should_shuffle = True\n",
    "\n",
    "train_dataset = keras.utils.timeseries_dataset_from_array(\n",
    "    raw_data[:-delay],\n",
    "    targets=load[delay:],\n",
    "    sampling_rate=sampling_rate,\n",
    "    sequence_length=sequence_length,\n",
    "    shuffle=should_shuffle,\n",
    "    batch_size=batch_size,\n",
    "    start_index=0,\n",
    "    end_index=num_train_samples\n",
    ")\n",
    "\n",
    "val_dataset = keras.utils.timeseries_dataset_from_array(\n",
    "    raw_data[:-delay],\n",
    "    targets=load[delay:],\n",
    "    sampling_rate=sampling_rate,\n",
    "    sequence_length=sequence_length,\n",
    "    shuffle=should_shuffle,\n",
    "    batch_size=batch_size,\n",
    "    start_index=num_train_samples,\n",
    "    end_index=num_train_samples + num_val_samples\n",
    ")\n",
    "\n",
    "test_dataset = keras.utils.timeseries_dataset_from_array(\n",
    "    raw_data[:-delay],\n",
    "    targets=load[delay:],\n",
    "    sampling_rate=sampling_rate,\n",
    "    sequence_length=sequence_length,\n",
    "    shuffle=should_shuffle,\n",
    "    batch_size=batch_size,\n",
    "    start_index=num_train_samples + num_val_samples\n",
    ")"
   ]
  },
  {
   "cell_type": "code",
   "execution_count": 35,
   "metadata": {},
   "outputs": [],
   "source": [
    "from datetime import datetime\n",
    "def evaluate(model, optimizer=\"adam\", loss=\"mse\", epochs=10, checkpoint_file=None):\n",
    "    ts = datetime.now().strftime (\"%Y%m%d_%H%M%S\")\n",
    "    checkpoint_file = checkpoint_file or f\"load_prediction_{optimizer}_{loss}_{ts}.keras\"\n",
    "    callbacks = [\n",
    "        keras.callbacks.ModelCheckpoint(checkpoint_file, monitor='val_mae', save_best_only=True),\n",
    "        keras.callbacks.EarlyStopping(monitor='val_mae', patience=3)]\n",
    "    model.compile(optimizer=optimizer, loss=loss, metrics=[\"mae\"])\n",
    "    history = model.fit(train_dataset, epochs=epochs, validation_data=val_dataset, callbacks=callbacks)\n",
    "    model = keras.models.load_model(checkpoint_file)\n",
    "    print(f\"Test MAE: {model.evaluate(test_dataset)[1]:2f}\")\n",
    "    return history, checkpoint_file\n",
    "\n",
    "from keras import layers\n",
    "inputs = keras.Input(shape=(sequence_length, raw_data.shape[-1]))"
   ]
  },
  {
   "cell_type": "code",
   "execution_count": 36,
   "metadata": {},
   "outputs": [
    {
     "name": "stdout",
     "output_type": "stream",
     "text": [
      "Epoch 1/150\n",
      "1414/1414 [==============================] - 106s 72ms/step - loss: 125066400.0000 - mae: 11067.6699 - val_loss: 112249784.0000 - val_mae: 10465.9814\n",
      "Epoch 2/150\n",
      "1414/1414 [==============================] - 96s 68ms/step - loss: 123093616.0000 - mae: 10978.1924 - val_loss: 110379816.0000 - val_mae: 10376.2627\n",
      "Epoch 3/150\n",
      "1414/1414 [==============================] - 97s 68ms/step - loss: 121146424.0000 - mae: 10889.1396 - val_loss: 108546360.0000 - val_mae: 10287.5293\n",
      "Epoch 4/150\n",
      "1414/1414 [==============================] - 96s 68ms/step - loss: 119223776.0000 - mae: 10800.4902 - val_loss: 106731520.0000 - val_mae: 10198.9463\n",
      "Epoch 5/150\n",
      "1414/1414 [==============================] - 97s 68ms/step - loss: 117318544.0000 - mae: 10711.9355 - val_loss: 104933080.0000 - val_mae: 10110.3877\n",
      "Epoch 6/150\n",
      "1414/1414 [==============================] - 100s 70ms/step - loss: 115429544.0000 - mae: 10623.3887 - val_loss: 103150632.0000 - val_mae: 10021.8555\n",
      "Epoch 7/150\n",
      "1414/1414 [==============================] - 106s 75ms/step - loss: 113543296.0000 - mae: 10534.2471 - val_loss: 101347992.0000 - val_mae: 9931.5127\n",
      "Epoch 8/150\n",
      "1414/1414 [==============================] - 106s 75ms/step - loss: 111643336.0000 - mae: 10443.6797 - val_loss: 99565360.0000 - val_mae: 9841.3506\n",
      "Epoch 9/150\n",
      "1414/1414 [==============================] - 106s 75ms/step - loss: 109770784.0000 - mae: 10353.6387 - val_loss: 97802688.0000 - val_mae: 9751.3926\n",
      "Epoch 10/150\n",
      "1414/1414 [==============================] - 106s 75ms/step - loss: 107915336.0000 - mae: 10263.6406 - val_loss: 96041904.0000 - val_mae: 9660.6885\n",
      "Epoch 11/150\n",
      "1414/1414 [==============================] - 107s 75ms/step - loss: 106040400.0000 - mae: 10171.8975 - val_loss: 94274640.0000 - val_mae: 9568.7822\n",
      "Epoch 12/150\n",
      "1414/1414 [==============================] - 106s 75ms/step - loss: 104186800.0000 - mae: 10080.3633 - val_loss: 92534368.0000 - val_mae: 9477.4131\n",
      "Epoch 13/150\n",
      "1414/1414 [==============================] - 106s 75ms/step - loss: 102353640.0000 - mae: 9989.0244 - val_loss: 90811952.0000 - val_mae: 9386.0967\n",
      "Epoch 14/150\n",
      "1414/1414 [==============================] - 105s 75ms/step - loss: 100538096.0000 - mae: 9897.7285 - val_loss: 89106640.0000 - val_mae: 9294.8135\n",
      "Epoch 15/150\n",
      "1414/1414 [==============================] - 105s 74ms/step - loss: 98739352.0000 - mae: 9806.4355 - val_loss: 87418152.0000 - val_mae: 9203.5381\n",
      "Epoch 16/150\n",
      "1414/1414 [==============================] - 105s 75ms/step - loss: 96957504.0000 - mae: 9715.1641 - val_loss: 85746512.0000 - val_mae: 9112.2676\n",
      "Epoch 17/150\n",
      "1414/1414 [==============================] - 105s 74ms/step - loss: 95192624.0000 - mae: 9623.9023 - val_loss: 84091656.0000 - val_mae: 9021.0039\n",
      "Epoch 18/150\n",
      "1414/1414 [==============================] - 106s 75ms/step - loss: 93444400.0000 - mae: 9532.6562 - val_loss: 82453624.0000 - val_mae: 8929.7578\n",
      "Epoch 19/150\n",
      "1414/1414 [==============================] - 107s 76ms/step - loss: 91713112.0000 - mae: 9441.4033 - val_loss: 80832224.0000 - val_mae: 8838.5020\n",
      "Epoch 20/150\n",
      "1414/1414 [==============================] - 108s 76ms/step - loss: 89998440.0000 - mae: 9350.1533 - val_loss: 79227672.0000 - val_mae: 8747.2617\n",
      "Epoch 21/150\n",
      "1414/1414 [==============================] - 108s 77ms/step - loss: 88300504.0000 - mae: 9258.9072 - val_loss: 77639880.0000 - val_mae: 8656.0312\n",
      "Epoch 22/150\n",
      "1414/1414 [==============================] - 108s 77ms/step - loss: 86619328.0000 - mae: 9167.6777 - val_loss: 76068840.0000 - val_mae: 8564.8008\n",
      "Epoch 23/150\n",
      "1414/1414 [==============================] - 109s 77ms/step - loss: 84955144.0000 - mae: 9076.4619 - val_loss: 74514592.0000 - val_mae: 8473.5801\n",
      "Epoch 24/150\n",
      "1414/1414 [==============================] - 109s 77ms/step - loss: 83307528.0000 - mae: 8985.2363 - val_loss: 72977064.0000 - val_mae: 8382.3643\n",
      "Epoch 25/150\n",
      "1414/1414 [==============================] - 109s 77ms/step - loss: 81676760.0000 - mae: 8894.0254 - val_loss: 71456288.0000 - val_mae: 8291.1562\n",
      "Epoch 26/150\n",
      "1414/1414 [==============================] - 109s 77ms/step - loss: 80062712.0000 - mae: 8802.8164 - val_loss: 69952240.0000 - val_mae: 8199.9541\n",
      "Epoch 27/150\n",
      "1414/1414 [==============================] - 110s 78ms/step - loss: 78465424.0000 - mae: 8711.6240 - val_loss: 68464976.0000 - val_mae: 8108.7578\n",
      "Epoch 28/150\n",
      "1414/1414 [==============================] - 110s 78ms/step - loss: 76885024.0000 - mae: 8620.4326 - val_loss: 66994640.0000 - val_mae: 8017.5806\n",
      "Epoch 29/150\n",
      "1414/1414 [==============================] - 111s 78ms/step - loss: 75321320.0000 - mae: 8529.2559 - val_loss: 65540956.0000 - val_mae: 7926.4053\n",
      "Epoch 30/150\n",
      "1414/1414 [==============================] - 111s 78ms/step - loss: 73774384.0000 - mae: 8438.0889 - val_loss: 64104100.0000 - val_mae: 7835.2451\n",
      "Epoch 31/150\n",
      "1414/1414 [==============================] - 112s 79ms/step - loss: 72244376.0000 - mae: 8346.9287 - val_loss: 62683888.0000 - val_mae: 7744.0864\n",
      "Epoch 32/150\n",
      "1414/1414 [==============================] - 113s 80ms/step - loss: 70730952.0000 - mae: 8255.7832 - val_loss: 61280480.0000 - val_mae: 7652.9375\n",
      "Epoch 33/150\n",
      "1414/1414 [==============================] - 114s 80ms/step - loss: 69234168.0000 - mae: 8164.6333 - val_loss: 59893696.0000 - val_mae: 7561.7900\n",
      "Epoch 34/150\n",
      "1414/1414 [==============================] - 114s 81ms/step - loss: 67754360.0000 - mae: 8073.4927 - val_loss: 58523640.0000 - val_mae: 7470.6479\n",
      "Epoch 35/150\n",
      "1414/1414 [==============================] - 115s 81ms/step - loss: 66291152.0000 - mae: 7982.3608 - val_loss: 57170532.0000 - val_mae: 7379.5308\n",
      "Epoch 36/150\n",
      "1414/1414 [==============================] - 115s 81ms/step - loss: 64844576.0000 - mae: 7891.2480 - val_loss: 55834120.0000 - val_mae: 7288.4180\n",
      "Epoch 37/150\n",
      "1414/1414 [==============================] - 115s 81ms/step - loss: 63415156.0000 - mae: 7800.1387 - val_loss: 54514436.0000 - val_mae: 7197.3193\n",
      "Epoch 38/150\n",
      "1414/1414 [==============================] - 116s 82ms/step - loss: 62002280.0000 - mae: 7709.0371 - val_loss: 53211472.0000 - val_mae: 7106.2256\n",
      "Epoch 39/150\n",
      "1414/1414 [==============================] - 116s 82ms/step - loss: 60606256.0000 - mae: 7617.9541 - val_loss: 51925280.0000 - val_mae: 7015.1440\n",
      "Epoch 40/150\n",
      "1414/1414 [==============================] - 117s 82ms/step - loss: 59226848.0000 - mae: 7526.8750 - val_loss: 50655900.0000 - val_mae: 6924.0767\n",
      "Epoch 41/150\n",
      "1414/1414 [==============================] - 117s 83ms/step - loss: 57864196.0000 - mae: 7435.8086 - val_loss: 49403040.0000 - val_mae: 6833.0073\n",
      "Epoch 42/150\n",
      "1414/1414 [==============================] - 117s 83ms/step - loss: 56518364.0000 - mae: 7344.7417 - val_loss: 48166956.0000 - val_mae: 6741.9526\n",
      "Epoch 43/150\n",
      "1414/1414 [==============================] - 117s 83ms/step - loss: 55189152.0000 - mae: 7253.6943 - val_loss: 46947720.0000 - val_mae: 6650.9126\n",
      "Epoch 44/150\n",
      "1414/1414 [==============================] - 118s 84ms/step - loss: 53876836.0000 - mae: 7162.6655 - val_loss: 45745168.0000 - val_mae: 6559.8877\n",
      "Epoch 45/150\n",
      "1414/1414 [==============================] - 119s 84ms/step - loss: 52581296.0000 - mae: 7071.6602 - val_loss: 44559432.0000 - val_mae: 6468.8774\n",
      "Epoch 46/150\n",
      "1414/1414 [==============================] - 121s 85ms/step - loss: 51302488.0000 - mae: 6980.6411 - val_loss: 43390352.0000 - val_mae: 6377.8740\n",
      "Epoch 47/150\n",
      "1414/1414 [==============================] - 121s 86ms/step - loss: 50040424.0000 - mae: 6889.6548 - val_loss: 42238172.0000 - val_mae: 6286.9023\n",
      "Epoch 48/150\n",
      "1414/1414 [==============================] - 122s 87ms/step - loss: 48794984.0000 - mae: 6798.6792 - val_loss: 41102520.0000 - val_mae: 6195.9233\n",
      "Epoch 49/150\n",
      "1414/1414 [==============================] - 123s 87ms/step - loss: 47566360.0000 - mae: 6707.7061 - val_loss: 39983640.0000 - val_mae: 6104.9653\n",
      "Epoch 50/150\n",
      "1414/1414 [==============================] - 124s 88ms/step - loss: 46354492.0000 - mae: 6616.7549 - val_loss: 38881332.0000 - val_mae: 6014.0063\n",
      "Epoch 51/150\n",
      "1414/1414 [==============================] - 126s 89ms/step - loss: 45159248.0000 - mae: 6525.8193 - val_loss: 37795900.0000 - val_mae: 5923.0801\n",
      "Epoch 52/150\n",
      "1414/1414 [==============================] - 126s 89ms/step - loss: 43980876.0000 - mae: 6434.8867 - val_loss: 36727208.0000 - val_mae: 5832.1646\n",
      "Epoch 53/150\n",
      "1414/1414 [==============================] - 127s 90ms/step - loss: 42819120.0000 - mae: 6343.9751 - val_loss: 35675152.0000 - val_mae: 5741.2666\n",
      "Epoch 54/150\n",
      "1414/1414 [==============================] - 128s 91ms/step - loss: 41674120.0000 - mae: 6253.0835 - val_loss: 34639832.0000 - val_mae: 5650.3818\n",
      "Epoch 55/150\n",
      "1414/1414 [==============================] - 130s 92ms/step - loss: 40545832.0000 - mae: 6162.2104 - val_loss: 33621164.0000 - val_mae: 5559.5088\n",
      "Epoch 56/150\n",
      "1414/1414 [==============================] - 131s 92ms/step - loss: 39434240.0000 - mae: 6071.3359 - val_loss: 32619206.0000 - val_mae: 5468.6519\n",
      "Epoch 57/150\n",
      "1414/1414 [==============================] - 132s 93ms/step - loss: 38339348.0000 - mae: 5980.5000 - val_loss: 31633926.0000 - val_mae: 5377.8140\n",
      "Epoch 58/150\n",
      "1414/1414 [==============================] - 133s 94ms/step - loss: 37261172.0000 - mae: 5889.6611 - val_loss: 30665236.0000 - val_mae: 5286.9839\n",
      "Epoch 59/150\n",
      "1414/1414 [==============================] - 134s 94ms/step - loss: 36199752.0000 - mae: 5798.8477 - val_loss: 29713412.0000 - val_mae: 5196.1880\n",
      "Epoch 60/150\n",
      "1414/1414 [==============================] - 137s 97ms/step - loss: 35154924.0000 - mae: 5708.0562 - val_loss: 28778128.0000 - val_mae: 5105.3999\n",
      "Epoch 61/150\n",
      "1414/1414 [==============================] - 137s 97ms/step - loss: 34126832.0000 - mae: 5617.2803 - val_loss: 27859652.0000 - val_mae: 5014.6416\n",
      "Epoch 62/150\n",
      "1414/1414 [==============================] - 139s 98ms/step - loss: 33115468.0000 - mae: 5526.5137 - val_loss: 26957630.0000 - val_mae: 4923.8794\n",
      "Epoch 63/150\n",
      "1414/1414 [==============================] - 141s 99ms/step - loss: 32120734.0000 - mae: 5435.7778 - val_loss: 26072478.0000 - val_mae: 4833.1616\n",
      "Epoch 64/150\n",
      "1414/1414 [==============================] - 141s 100ms/step - loss: 31142802.0000 - mae: 5345.0713 - val_loss: 25204042.0000 - val_mae: 4742.4673\n",
      "Epoch 65/150\n",
      "1414/1414 [==============================] - 139s 98ms/step - loss: 30181632.0000 - mae: 5254.3931 - val_loss: 24352244.0000 - val_mae: 4651.7949\n",
      "Epoch 66/150\n",
      "1414/1414 [==============================] - 131s 92ms/step - loss: 29237152.0000 - mae: 5163.7300 - val_loss: 23517064.0000 - val_mae: 4561.1455\n",
      "Epoch 67/150\n",
      "1414/1414 [==============================] - 130s 92ms/step - loss: 28309228.0000 - mae: 5073.0879 - val_loss: 22698602.0000 - val_mae: 4470.5210\n",
      "Epoch 68/150\n",
      "1414/1414 [==============================] - 131s 92ms/step - loss: 27398148.0000 - mae: 4982.4810 - val_loss: 21896762.0000 - val_mae: 4379.9229\n",
      "Epoch 69/150\n",
      "1414/1414 [==============================] - 130s 92ms/step - loss: 26503590.0000 - mae: 4891.8975 - val_loss: 21111506.0000 - val_mae: 4289.3423\n",
      "Epoch 70/150\n",
      "1414/1414 [==============================] - 128s 90ms/step - loss: 25625756.0000 - mae: 4801.3232 - val_loss: 20342884.0000 - val_mae: 4198.7915\n",
      "Epoch 71/150\n",
      "1414/1414 [==============================] - 128s 91ms/step - loss: 24764570.0000 - mae: 4710.7905 - val_loss: 19590926.0000 - val_mae: 4108.2734\n",
      "Epoch 72/150\n",
      "1414/1414 [==============================] - 128s 91ms/step - loss: 23920000.0000 - mae: 4620.2817 - val_loss: 18855630.0000 - val_mae: 4017.7834\n",
      "Epoch 73/150\n",
      "1414/1414 [==============================] - 128s 91ms/step - loss: 23092166.0000 - mae: 4529.8076 - val_loss: 18136870.0000 - val_mae: 3927.3188\n",
      "Epoch 74/150\n",
      "1414/1414 [==============================] - 129s 91ms/step - loss: 22280934.0000 - mae: 4439.3564 - val_loss: 17434718.0000 - val_mae: 3836.8845\n",
      "Epoch 75/150\n",
      "1414/1414 [==============================] - 129s 91ms/step - loss: 21486370.0000 - mae: 4348.9512 - val_loss: 16749268.0000 - val_mae: 3746.4941\n",
      "Epoch 76/150\n",
      "1414/1414 [==============================] - 129s 91ms/step - loss: 20708564.0000 - mae: 4258.5791 - val_loss: 16080474.0000 - val_mae: 3656.1697\n",
      "Epoch 77/150\n",
      "1414/1414 [==============================] - 130s 92ms/step - loss: 19947334.0000 - mae: 4168.2456 - val_loss: 15428177.0000 - val_mae: 3565.9104\n",
      "Epoch 78/150\n",
      "1414/1414 [==============================] - 132s 94ms/step - loss: 19202576.0000 - mae: 4077.9333 - val_loss: 14792422.0000 - val_mae: 3475.7446\n",
      "Epoch 79/150\n",
      "1414/1414 [==============================] - 139s 98ms/step - loss: 18474454.0000 - mae: 3987.6567 - val_loss: 14173190.0000 - val_mae: 3385.7700\n",
      "Epoch 80/150\n",
      "1414/1414 [==============================] - 138s 97ms/step - loss: 17763100.0000 - mae: 3897.4507 - val_loss: 13570690.0000 - val_mae: 3296.1067\n",
      "Epoch 81/150\n",
      "1414/1414 [==============================] - 139s 99ms/step - loss: 17068304.0000 - mae: 3807.2703 - val_loss: 12984700.0000 - val_mae: 3206.7361\n",
      "Epoch 82/150\n",
      "1414/1414 [==============================] - 140s 99ms/step - loss: 16390154.0000 - mae: 3717.1570 - val_loss: 12415322.0000 - val_mae: 3117.9761\n",
      "Epoch 83/150\n",
      "1414/1414 [==============================] - 140s 99ms/step - loss: 15728530.0000 - mae: 3627.0979 - val_loss: 11862259.0000 - val_mae: 3029.7505\n",
      "Epoch 84/150\n",
      "1414/1414 [==============================] - 140s 99ms/step - loss: 15083458.0000 - mae: 3537.1384 - val_loss: 11325843.0000 - val_mae: 2942.5146\n",
      "Epoch 85/150\n",
      " 450/1414 [========>.....................] - ETA: 1:32 - loss: 14642746.0000 - mae: 3474.2131"
     ]
    },
    {
     "ename": "KeyboardInterrupt",
     "evalue": "",
     "output_type": "error",
     "traceback": [
      "\u001b[1;31m---------------------------------------------------------------------------\u001b[0m",
      "\u001b[1;31mKeyboardInterrupt\u001b[0m                         Traceback (most recent call last)",
      "\u001b[1;32mc:\\Users\\chris\\OneDrive\\Documents\\GitHub\\mml\\07_recurrent_neural_network copy.ipynb Cell 13'\u001b[0m in \u001b[0;36m<cell line: 7>\u001b[1;34m()\u001b[0m\n\u001b[0;32m      <a href='vscode-notebook-cell:/c%3A/Users/chris/OneDrive/Documents/GitHub/mml/07_recurrent_neural_network%20copy.ipynb#ch0000012?line=4'>5</a>\u001b[0m outputs \u001b[39m=\u001b[39m layers\u001b[39m.\u001b[39mDense(\u001b[39m1\u001b[39m)(x)\n\u001b[0;32m      <a href='vscode-notebook-cell:/c%3A/Users/chris/OneDrive/Documents/GitHub/mml/07_recurrent_neural_network%20copy.ipynb#ch0000012?line=5'>6</a>\u001b[0m model \u001b[39m=\u001b[39m keras\u001b[39m.\u001b[39mModel(inputs, outputs)\n\u001b[1;32m----> <a href='vscode-notebook-cell:/c%3A/Users/chris/OneDrive/Documents/GitHub/mml/07_recurrent_neural_network%20copy.ipynb#ch0000012?line=6'>7</a>\u001b[0m history, checkpoint_file \u001b[39m=\u001b[39m evaluate(model, epochs\u001b[39m=\u001b[39;49m\u001b[39m150\u001b[39;49m)\n",
      "\u001b[1;32mc:\\Users\\chris\\OneDrive\\Documents\\GitHub\\mml\\07_recurrent_neural_network copy.ipynb Cell 12'\u001b[0m in \u001b[0;36mevaluate\u001b[1;34m(model, optimizer, loss, epochs, checkpoint_file)\u001b[0m\n\u001b[0;32m      <a href='vscode-notebook-cell:/c%3A/Users/chris/OneDrive/Documents/GitHub/mml/07_recurrent_neural_network%20copy.ipynb#ch0000011?line=4'>5</a>\u001b[0m callbacks \u001b[39m=\u001b[39m [\n\u001b[0;32m      <a href='vscode-notebook-cell:/c%3A/Users/chris/OneDrive/Documents/GitHub/mml/07_recurrent_neural_network%20copy.ipynb#ch0000011?line=5'>6</a>\u001b[0m     keras\u001b[39m.\u001b[39mcallbacks\u001b[39m.\u001b[39mModelCheckpoint(checkpoint_file, monitor\u001b[39m=\u001b[39m\u001b[39m'\u001b[39m\u001b[39mval_mae\u001b[39m\u001b[39m'\u001b[39m, save_best_only\u001b[39m=\u001b[39m\u001b[39mTrue\u001b[39;00m),\n\u001b[0;32m      <a href='vscode-notebook-cell:/c%3A/Users/chris/OneDrive/Documents/GitHub/mml/07_recurrent_neural_network%20copy.ipynb#ch0000011?line=6'>7</a>\u001b[0m     keras\u001b[39m.\u001b[39mcallbacks\u001b[39m.\u001b[39mEarlyStopping(monitor\u001b[39m=\u001b[39m\u001b[39m'\u001b[39m\u001b[39mval_mae\u001b[39m\u001b[39m'\u001b[39m, patience\u001b[39m=\u001b[39m\u001b[39m3\u001b[39m)]\n\u001b[0;32m      <a href='vscode-notebook-cell:/c%3A/Users/chris/OneDrive/Documents/GitHub/mml/07_recurrent_neural_network%20copy.ipynb#ch0000011?line=7'>8</a>\u001b[0m model\u001b[39m.\u001b[39mcompile(optimizer\u001b[39m=\u001b[39moptimizer, loss\u001b[39m=\u001b[39mloss, metrics\u001b[39m=\u001b[39m[\u001b[39m\"\u001b[39m\u001b[39mmae\u001b[39m\u001b[39m\"\u001b[39m])\n\u001b[1;32m----> <a href='vscode-notebook-cell:/c%3A/Users/chris/OneDrive/Documents/GitHub/mml/07_recurrent_neural_network%20copy.ipynb#ch0000011?line=8'>9</a>\u001b[0m history \u001b[39m=\u001b[39m model\u001b[39m.\u001b[39;49mfit(train_dataset, epochs\u001b[39m=\u001b[39;49mepochs, validation_data\u001b[39m=\u001b[39;49mval_dataset, callbacks\u001b[39m=\u001b[39;49mcallbacks)\n\u001b[0;32m     <a href='vscode-notebook-cell:/c%3A/Users/chris/OneDrive/Documents/GitHub/mml/07_recurrent_neural_network%20copy.ipynb#ch0000011?line=9'>10</a>\u001b[0m model \u001b[39m=\u001b[39m keras\u001b[39m.\u001b[39mmodels\u001b[39m.\u001b[39mload_model(checkpoint_file)\n\u001b[0;32m     <a href='vscode-notebook-cell:/c%3A/Users/chris/OneDrive/Documents/GitHub/mml/07_recurrent_neural_network%20copy.ipynb#ch0000011?line=10'>11</a>\u001b[0m \u001b[39mprint\u001b[39m(\u001b[39mf\u001b[39m\u001b[39m\"\u001b[39m\u001b[39mTest MAE: \u001b[39m\u001b[39m{\u001b[39;00mmodel\u001b[39m.\u001b[39mevaluate(test_dataset)[\u001b[39m1\u001b[39m]\u001b[39m:\u001b[39;00m\u001b[39m2f\u001b[39m\u001b[39m}\u001b[39;00m\u001b[39m\"\u001b[39m)\n",
      "File \u001b[1;32m~\\.virtualenvs\\mml-i7LNY0oE\\lib\\site-packages\\keras\\utils\\traceback_utils.py:64\u001b[0m, in \u001b[0;36mfilter_traceback.<locals>.error_handler\u001b[1;34m(*args, **kwargs)\u001b[0m\n\u001b[0;32m     <a href='file:///c%3A/Users/chris/.virtualenvs/mml-i7LNY0oE/lib/site-packages/keras/utils/traceback_utils.py?line=61'>62</a>\u001b[0m filtered_tb \u001b[39m=\u001b[39m \u001b[39mNone\u001b[39;00m\n\u001b[0;32m     <a href='file:///c%3A/Users/chris/.virtualenvs/mml-i7LNY0oE/lib/site-packages/keras/utils/traceback_utils.py?line=62'>63</a>\u001b[0m \u001b[39mtry\u001b[39;00m:\n\u001b[1;32m---> <a href='file:///c%3A/Users/chris/.virtualenvs/mml-i7LNY0oE/lib/site-packages/keras/utils/traceback_utils.py?line=63'>64</a>\u001b[0m   \u001b[39mreturn\u001b[39;00m fn(\u001b[39m*\u001b[39margs, \u001b[39m*\u001b[39m\u001b[39m*\u001b[39mkwargs)\n\u001b[0;32m     <a href='file:///c%3A/Users/chris/.virtualenvs/mml-i7LNY0oE/lib/site-packages/keras/utils/traceback_utils.py?line=64'>65</a>\u001b[0m \u001b[39mexcept\u001b[39;00m \u001b[39mException\u001b[39;00m \u001b[39mas\u001b[39;00m e:  \u001b[39m# pylint: disable=broad-except\u001b[39;00m\n\u001b[0;32m     <a href='file:///c%3A/Users/chris/.virtualenvs/mml-i7LNY0oE/lib/site-packages/keras/utils/traceback_utils.py?line=65'>66</a>\u001b[0m   filtered_tb \u001b[39m=\u001b[39m _process_traceback_frames(e\u001b[39m.\u001b[39m__traceback__)\n",
      "File \u001b[1;32m~\\.virtualenvs\\mml-i7LNY0oE\\lib\\site-packages\\keras\\engine\\training.py:1384\u001b[0m, in \u001b[0;36mModel.fit\u001b[1;34m(self, x, y, batch_size, epochs, verbose, callbacks, validation_split, validation_data, shuffle, class_weight, sample_weight, initial_epoch, steps_per_epoch, validation_steps, validation_batch_size, validation_freq, max_queue_size, workers, use_multiprocessing)\u001b[0m\n\u001b[0;32m   <a href='file:///c%3A/Users/chris/.virtualenvs/mml-i7LNY0oE/lib/site-packages/keras/engine/training.py?line=1376'>1377</a>\u001b[0m \u001b[39mwith\u001b[39;00m tf\u001b[39m.\u001b[39mprofiler\u001b[39m.\u001b[39mexperimental\u001b[39m.\u001b[39mTrace(\n\u001b[0;32m   <a href='file:///c%3A/Users/chris/.virtualenvs/mml-i7LNY0oE/lib/site-packages/keras/engine/training.py?line=1377'>1378</a>\u001b[0m     \u001b[39m'\u001b[39m\u001b[39mtrain\u001b[39m\u001b[39m'\u001b[39m,\n\u001b[0;32m   <a href='file:///c%3A/Users/chris/.virtualenvs/mml-i7LNY0oE/lib/site-packages/keras/engine/training.py?line=1378'>1379</a>\u001b[0m     epoch_num\u001b[39m=\u001b[39mepoch,\n\u001b[0;32m   <a href='file:///c%3A/Users/chris/.virtualenvs/mml-i7LNY0oE/lib/site-packages/keras/engine/training.py?line=1379'>1380</a>\u001b[0m     step_num\u001b[39m=\u001b[39mstep,\n\u001b[0;32m   <a href='file:///c%3A/Users/chris/.virtualenvs/mml-i7LNY0oE/lib/site-packages/keras/engine/training.py?line=1380'>1381</a>\u001b[0m     batch_size\u001b[39m=\u001b[39mbatch_size,\n\u001b[0;32m   <a href='file:///c%3A/Users/chris/.virtualenvs/mml-i7LNY0oE/lib/site-packages/keras/engine/training.py?line=1381'>1382</a>\u001b[0m     _r\u001b[39m=\u001b[39m\u001b[39m1\u001b[39m):\n\u001b[0;32m   <a href='file:///c%3A/Users/chris/.virtualenvs/mml-i7LNY0oE/lib/site-packages/keras/engine/training.py?line=1382'>1383</a>\u001b[0m   callbacks\u001b[39m.\u001b[39mon_train_batch_begin(step)\n\u001b[1;32m-> <a href='file:///c%3A/Users/chris/.virtualenvs/mml-i7LNY0oE/lib/site-packages/keras/engine/training.py?line=1383'>1384</a>\u001b[0m   tmp_logs \u001b[39m=\u001b[39m \u001b[39mself\u001b[39;49m\u001b[39m.\u001b[39;49mtrain_function(iterator)\n\u001b[0;32m   <a href='file:///c%3A/Users/chris/.virtualenvs/mml-i7LNY0oE/lib/site-packages/keras/engine/training.py?line=1384'>1385</a>\u001b[0m   \u001b[39mif\u001b[39;00m data_handler\u001b[39m.\u001b[39mshould_sync:\n\u001b[0;32m   <a href='file:///c%3A/Users/chris/.virtualenvs/mml-i7LNY0oE/lib/site-packages/keras/engine/training.py?line=1385'>1386</a>\u001b[0m     context\u001b[39m.\u001b[39masync_wait()\n",
      "File \u001b[1;32m~\\.virtualenvs\\mml-i7LNY0oE\\lib\\site-packages\\tensorflow\\python\\util\\traceback_utils.py:150\u001b[0m, in \u001b[0;36mfilter_traceback.<locals>.error_handler\u001b[1;34m(*args, **kwargs)\u001b[0m\n\u001b[0;32m    <a href='file:///c%3A/Users/chris/.virtualenvs/mml-i7LNY0oE/lib/site-packages/tensorflow/python/util/traceback_utils.py?line=147'>148</a>\u001b[0m filtered_tb \u001b[39m=\u001b[39m \u001b[39mNone\u001b[39;00m\n\u001b[0;32m    <a href='file:///c%3A/Users/chris/.virtualenvs/mml-i7LNY0oE/lib/site-packages/tensorflow/python/util/traceback_utils.py?line=148'>149</a>\u001b[0m \u001b[39mtry\u001b[39;00m:\n\u001b[1;32m--> <a href='file:///c%3A/Users/chris/.virtualenvs/mml-i7LNY0oE/lib/site-packages/tensorflow/python/util/traceback_utils.py?line=149'>150</a>\u001b[0m   \u001b[39mreturn\u001b[39;00m fn(\u001b[39m*\u001b[39margs, \u001b[39m*\u001b[39m\u001b[39m*\u001b[39mkwargs)\n\u001b[0;32m    <a href='file:///c%3A/Users/chris/.virtualenvs/mml-i7LNY0oE/lib/site-packages/tensorflow/python/util/traceback_utils.py?line=150'>151</a>\u001b[0m \u001b[39mexcept\u001b[39;00m \u001b[39mException\u001b[39;00m \u001b[39mas\u001b[39;00m e:\n\u001b[0;32m    <a href='file:///c%3A/Users/chris/.virtualenvs/mml-i7LNY0oE/lib/site-packages/tensorflow/python/util/traceback_utils.py?line=151'>152</a>\u001b[0m   filtered_tb \u001b[39m=\u001b[39m _process_traceback_frames(e\u001b[39m.\u001b[39m__traceback__)\n",
      "File \u001b[1;32m~\\.virtualenvs\\mml-i7LNY0oE\\lib\\site-packages\\tensorflow\\python\\eager\\def_function.py:915\u001b[0m, in \u001b[0;36mFunction.__call__\u001b[1;34m(self, *args, **kwds)\u001b[0m\n\u001b[0;32m    <a href='file:///c%3A/Users/chris/.virtualenvs/mml-i7LNY0oE/lib/site-packages/tensorflow/python/eager/def_function.py?line=911'>912</a>\u001b[0m compiler \u001b[39m=\u001b[39m \u001b[39m\"\u001b[39m\u001b[39mxla\u001b[39m\u001b[39m\"\u001b[39m \u001b[39mif\u001b[39;00m \u001b[39mself\u001b[39m\u001b[39m.\u001b[39m_jit_compile \u001b[39melse\u001b[39;00m \u001b[39m\"\u001b[39m\u001b[39mnonXla\u001b[39m\u001b[39m\"\u001b[39m\n\u001b[0;32m    <a href='file:///c%3A/Users/chris/.virtualenvs/mml-i7LNY0oE/lib/site-packages/tensorflow/python/eager/def_function.py?line=913'>914</a>\u001b[0m \u001b[39mwith\u001b[39;00m OptionalXlaContext(\u001b[39mself\u001b[39m\u001b[39m.\u001b[39m_jit_compile):\n\u001b[1;32m--> <a href='file:///c%3A/Users/chris/.virtualenvs/mml-i7LNY0oE/lib/site-packages/tensorflow/python/eager/def_function.py?line=914'>915</a>\u001b[0m   result \u001b[39m=\u001b[39m \u001b[39mself\u001b[39m\u001b[39m.\u001b[39m_call(\u001b[39m*\u001b[39margs, \u001b[39m*\u001b[39m\u001b[39m*\u001b[39mkwds)\n\u001b[0;32m    <a href='file:///c%3A/Users/chris/.virtualenvs/mml-i7LNY0oE/lib/site-packages/tensorflow/python/eager/def_function.py?line=916'>917</a>\u001b[0m new_tracing_count \u001b[39m=\u001b[39m \u001b[39mself\u001b[39m\u001b[39m.\u001b[39mexperimental_get_tracing_count()\n\u001b[0;32m    <a href='file:///c%3A/Users/chris/.virtualenvs/mml-i7LNY0oE/lib/site-packages/tensorflow/python/eager/def_function.py?line=917'>918</a>\u001b[0m without_tracing \u001b[39m=\u001b[39m (tracing_count \u001b[39m==\u001b[39m new_tracing_count)\n",
      "File \u001b[1;32m~\\.virtualenvs\\mml-i7LNY0oE\\lib\\site-packages\\tensorflow\\python\\eager\\def_function.py:947\u001b[0m, in \u001b[0;36mFunction._call\u001b[1;34m(self, *args, **kwds)\u001b[0m\n\u001b[0;32m    <a href='file:///c%3A/Users/chris/.virtualenvs/mml-i7LNY0oE/lib/site-packages/tensorflow/python/eager/def_function.py?line=943'>944</a>\u001b[0m   \u001b[39mself\u001b[39m\u001b[39m.\u001b[39m_lock\u001b[39m.\u001b[39mrelease()\n\u001b[0;32m    <a href='file:///c%3A/Users/chris/.virtualenvs/mml-i7LNY0oE/lib/site-packages/tensorflow/python/eager/def_function.py?line=944'>945</a>\u001b[0m   \u001b[39m# In this case we have created variables on the first call, so we run the\u001b[39;00m\n\u001b[0;32m    <a href='file:///c%3A/Users/chris/.virtualenvs/mml-i7LNY0oE/lib/site-packages/tensorflow/python/eager/def_function.py?line=945'>946</a>\u001b[0m   \u001b[39m# defunned version which is guaranteed to never create variables.\u001b[39;00m\n\u001b[1;32m--> <a href='file:///c%3A/Users/chris/.virtualenvs/mml-i7LNY0oE/lib/site-packages/tensorflow/python/eager/def_function.py?line=946'>947</a>\u001b[0m   \u001b[39mreturn\u001b[39;00m \u001b[39mself\u001b[39m\u001b[39m.\u001b[39m_stateless_fn(\u001b[39m*\u001b[39margs, \u001b[39m*\u001b[39m\u001b[39m*\u001b[39mkwds)  \u001b[39m# pylint: disable=not-callable\u001b[39;00m\n\u001b[0;32m    <a href='file:///c%3A/Users/chris/.virtualenvs/mml-i7LNY0oE/lib/site-packages/tensorflow/python/eager/def_function.py?line=947'>948</a>\u001b[0m \u001b[39melif\u001b[39;00m \u001b[39mself\u001b[39m\u001b[39m.\u001b[39m_stateful_fn \u001b[39mis\u001b[39;00m \u001b[39mnot\u001b[39;00m \u001b[39mNone\u001b[39;00m:\n\u001b[0;32m    <a href='file:///c%3A/Users/chris/.virtualenvs/mml-i7LNY0oE/lib/site-packages/tensorflow/python/eager/def_function.py?line=948'>949</a>\u001b[0m   \u001b[39m# Release the lock early so that multiple threads can perform the call\u001b[39;00m\n\u001b[0;32m    <a href='file:///c%3A/Users/chris/.virtualenvs/mml-i7LNY0oE/lib/site-packages/tensorflow/python/eager/def_function.py?line=949'>950</a>\u001b[0m   \u001b[39m# in parallel.\u001b[39;00m\n\u001b[0;32m    <a href='file:///c%3A/Users/chris/.virtualenvs/mml-i7LNY0oE/lib/site-packages/tensorflow/python/eager/def_function.py?line=950'>951</a>\u001b[0m   \u001b[39mself\u001b[39m\u001b[39m.\u001b[39m_lock\u001b[39m.\u001b[39mrelease()\n",
      "File \u001b[1;32m~\\.virtualenvs\\mml-i7LNY0oE\\lib\\site-packages\\tensorflow\\python\\eager\\function.py:2956\u001b[0m, in \u001b[0;36mFunction.__call__\u001b[1;34m(self, *args, **kwargs)\u001b[0m\n\u001b[0;32m   <a href='file:///c%3A/Users/chris/.virtualenvs/mml-i7LNY0oE/lib/site-packages/tensorflow/python/eager/function.py?line=2952'>2953</a>\u001b[0m \u001b[39mwith\u001b[39;00m \u001b[39mself\u001b[39m\u001b[39m.\u001b[39m_lock:\n\u001b[0;32m   <a href='file:///c%3A/Users/chris/.virtualenvs/mml-i7LNY0oE/lib/site-packages/tensorflow/python/eager/function.py?line=2953'>2954</a>\u001b[0m   (graph_function,\n\u001b[0;32m   <a href='file:///c%3A/Users/chris/.virtualenvs/mml-i7LNY0oE/lib/site-packages/tensorflow/python/eager/function.py?line=2954'>2955</a>\u001b[0m    filtered_flat_args) \u001b[39m=\u001b[39m \u001b[39mself\u001b[39m\u001b[39m.\u001b[39m_maybe_define_function(args, kwargs)\n\u001b[1;32m-> <a href='file:///c%3A/Users/chris/.virtualenvs/mml-i7LNY0oE/lib/site-packages/tensorflow/python/eager/function.py?line=2955'>2956</a>\u001b[0m \u001b[39mreturn\u001b[39;00m graph_function\u001b[39m.\u001b[39;49m_call_flat(\n\u001b[0;32m   <a href='file:///c%3A/Users/chris/.virtualenvs/mml-i7LNY0oE/lib/site-packages/tensorflow/python/eager/function.py?line=2956'>2957</a>\u001b[0m     filtered_flat_args, captured_inputs\u001b[39m=\u001b[39;49mgraph_function\u001b[39m.\u001b[39;49mcaptured_inputs)\n",
      "File \u001b[1;32m~\\.virtualenvs\\mml-i7LNY0oE\\lib\\site-packages\\tensorflow\\python\\eager\\function.py:1853\u001b[0m, in \u001b[0;36mConcreteFunction._call_flat\u001b[1;34m(self, args, captured_inputs, cancellation_manager)\u001b[0m\n\u001b[0;32m   <a href='file:///c%3A/Users/chris/.virtualenvs/mml-i7LNY0oE/lib/site-packages/tensorflow/python/eager/function.py?line=1848'>1849</a>\u001b[0m possible_gradient_type \u001b[39m=\u001b[39m gradients_util\u001b[39m.\u001b[39mPossibleTapeGradientTypes(args)\n\u001b[0;32m   <a href='file:///c%3A/Users/chris/.virtualenvs/mml-i7LNY0oE/lib/site-packages/tensorflow/python/eager/function.py?line=1849'>1850</a>\u001b[0m \u001b[39mif\u001b[39;00m (possible_gradient_type \u001b[39m==\u001b[39m gradients_util\u001b[39m.\u001b[39mPOSSIBLE_GRADIENT_TYPES_NONE\n\u001b[0;32m   <a href='file:///c%3A/Users/chris/.virtualenvs/mml-i7LNY0oE/lib/site-packages/tensorflow/python/eager/function.py?line=1850'>1851</a>\u001b[0m     \u001b[39mand\u001b[39;00m executing_eagerly):\n\u001b[0;32m   <a href='file:///c%3A/Users/chris/.virtualenvs/mml-i7LNY0oE/lib/site-packages/tensorflow/python/eager/function.py?line=1851'>1852</a>\u001b[0m   \u001b[39m# No tape is watching; skip to running the function.\u001b[39;00m\n\u001b[1;32m-> <a href='file:///c%3A/Users/chris/.virtualenvs/mml-i7LNY0oE/lib/site-packages/tensorflow/python/eager/function.py?line=1852'>1853</a>\u001b[0m   \u001b[39mreturn\u001b[39;00m \u001b[39mself\u001b[39m\u001b[39m.\u001b[39m_build_call_outputs(\u001b[39mself\u001b[39;49m\u001b[39m.\u001b[39;49m_inference_function\u001b[39m.\u001b[39;49mcall(\n\u001b[0;32m   <a href='file:///c%3A/Users/chris/.virtualenvs/mml-i7LNY0oE/lib/site-packages/tensorflow/python/eager/function.py?line=1853'>1854</a>\u001b[0m       ctx, args, cancellation_manager\u001b[39m=\u001b[39;49mcancellation_manager))\n\u001b[0;32m   <a href='file:///c%3A/Users/chris/.virtualenvs/mml-i7LNY0oE/lib/site-packages/tensorflow/python/eager/function.py?line=1854'>1855</a>\u001b[0m forward_backward \u001b[39m=\u001b[39m \u001b[39mself\u001b[39m\u001b[39m.\u001b[39m_select_forward_and_backward_functions(\n\u001b[0;32m   <a href='file:///c%3A/Users/chris/.virtualenvs/mml-i7LNY0oE/lib/site-packages/tensorflow/python/eager/function.py?line=1855'>1856</a>\u001b[0m     args,\n\u001b[0;32m   <a href='file:///c%3A/Users/chris/.virtualenvs/mml-i7LNY0oE/lib/site-packages/tensorflow/python/eager/function.py?line=1856'>1857</a>\u001b[0m     possible_gradient_type,\n\u001b[0;32m   <a href='file:///c%3A/Users/chris/.virtualenvs/mml-i7LNY0oE/lib/site-packages/tensorflow/python/eager/function.py?line=1857'>1858</a>\u001b[0m     executing_eagerly)\n\u001b[0;32m   <a href='file:///c%3A/Users/chris/.virtualenvs/mml-i7LNY0oE/lib/site-packages/tensorflow/python/eager/function.py?line=1858'>1859</a>\u001b[0m forward_function, args_with_tangents \u001b[39m=\u001b[39m forward_backward\u001b[39m.\u001b[39mforward()\n",
      "File \u001b[1;32m~\\.virtualenvs\\mml-i7LNY0oE\\lib\\site-packages\\tensorflow\\python\\eager\\function.py:499\u001b[0m, in \u001b[0;36m_EagerDefinedFunction.call\u001b[1;34m(self, ctx, args, cancellation_manager)\u001b[0m\n\u001b[0;32m    <a href='file:///c%3A/Users/chris/.virtualenvs/mml-i7LNY0oE/lib/site-packages/tensorflow/python/eager/function.py?line=496'>497</a>\u001b[0m \u001b[39mwith\u001b[39;00m _InterpolateFunctionError(\u001b[39mself\u001b[39m):\n\u001b[0;32m    <a href='file:///c%3A/Users/chris/.virtualenvs/mml-i7LNY0oE/lib/site-packages/tensorflow/python/eager/function.py?line=497'>498</a>\u001b[0m   \u001b[39mif\u001b[39;00m cancellation_manager \u001b[39mis\u001b[39;00m \u001b[39mNone\u001b[39;00m:\n\u001b[1;32m--> <a href='file:///c%3A/Users/chris/.virtualenvs/mml-i7LNY0oE/lib/site-packages/tensorflow/python/eager/function.py?line=498'>499</a>\u001b[0m     outputs \u001b[39m=\u001b[39m execute\u001b[39m.\u001b[39;49mexecute(\n\u001b[0;32m    <a href='file:///c%3A/Users/chris/.virtualenvs/mml-i7LNY0oE/lib/site-packages/tensorflow/python/eager/function.py?line=499'>500</a>\u001b[0m         \u001b[39mstr\u001b[39;49m(\u001b[39mself\u001b[39;49m\u001b[39m.\u001b[39;49msignature\u001b[39m.\u001b[39;49mname),\n\u001b[0;32m    <a href='file:///c%3A/Users/chris/.virtualenvs/mml-i7LNY0oE/lib/site-packages/tensorflow/python/eager/function.py?line=500'>501</a>\u001b[0m         num_outputs\u001b[39m=\u001b[39;49m\u001b[39mself\u001b[39;49m\u001b[39m.\u001b[39;49m_num_outputs,\n\u001b[0;32m    <a href='file:///c%3A/Users/chris/.virtualenvs/mml-i7LNY0oE/lib/site-packages/tensorflow/python/eager/function.py?line=501'>502</a>\u001b[0m         inputs\u001b[39m=\u001b[39;49margs,\n\u001b[0;32m    <a href='file:///c%3A/Users/chris/.virtualenvs/mml-i7LNY0oE/lib/site-packages/tensorflow/python/eager/function.py?line=502'>503</a>\u001b[0m         attrs\u001b[39m=\u001b[39;49mattrs,\n\u001b[0;32m    <a href='file:///c%3A/Users/chris/.virtualenvs/mml-i7LNY0oE/lib/site-packages/tensorflow/python/eager/function.py?line=503'>504</a>\u001b[0m         ctx\u001b[39m=\u001b[39;49mctx)\n\u001b[0;32m    <a href='file:///c%3A/Users/chris/.virtualenvs/mml-i7LNY0oE/lib/site-packages/tensorflow/python/eager/function.py?line=504'>505</a>\u001b[0m   \u001b[39melse\u001b[39;00m:\n\u001b[0;32m    <a href='file:///c%3A/Users/chris/.virtualenvs/mml-i7LNY0oE/lib/site-packages/tensorflow/python/eager/function.py?line=505'>506</a>\u001b[0m     outputs \u001b[39m=\u001b[39m execute\u001b[39m.\u001b[39mexecute_with_cancellation(\n\u001b[0;32m    <a href='file:///c%3A/Users/chris/.virtualenvs/mml-i7LNY0oE/lib/site-packages/tensorflow/python/eager/function.py?line=506'>507</a>\u001b[0m         \u001b[39mstr\u001b[39m(\u001b[39mself\u001b[39m\u001b[39m.\u001b[39msignature\u001b[39m.\u001b[39mname),\n\u001b[0;32m    <a href='file:///c%3A/Users/chris/.virtualenvs/mml-i7LNY0oE/lib/site-packages/tensorflow/python/eager/function.py?line=507'>508</a>\u001b[0m         num_outputs\u001b[39m=\u001b[39m\u001b[39mself\u001b[39m\u001b[39m.\u001b[39m_num_outputs,\n\u001b[1;32m   (...)\u001b[0m\n\u001b[0;32m    <a href='file:///c%3A/Users/chris/.virtualenvs/mml-i7LNY0oE/lib/site-packages/tensorflow/python/eager/function.py?line=510'>511</a>\u001b[0m         ctx\u001b[39m=\u001b[39mctx,\n\u001b[0;32m    <a href='file:///c%3A/Users/chris/.virtualenvs/mml-i7LNY0oE/lib/site-packages/tensorflow/python/eager/function.py?line=511'>512</a>\u001b[0m         cancellation_manager\u001b[39m=\u001b[39mcancellation_manager)\n",
      "File \u001b[1;32m~\\.virtualenvs\\mml-i7LNY0oE\\lib\\site-packages\\tensorflow\\python\\eager\\execute.py:54\u001b[0m, in \u001b[0;36mquick_execute\u001b[1;34m(op_name, num_outputs, inputs, attrs, ctx, name)\u001b[0m\n\u001b[0;32m     <a href='file:///c%3A/Users/chris/.virtualenvs/mml-i7LNY0oE/lib/site-packages/tensorflow/python/eager/execute.py?line=51'>52</a>\u001b[0m \u001b[39mtry\u001b[39;00m:\n\u001b[0;32m     <a href='file:///c%3A/Users/chris/.virtualenvs/mml-i7LNY0oE/lib/site-packages/tensorflow/python/eager/execute.py?line=52'>53</a>\u001b[0m   ctx\u001b[39m.\u001b[39mensure_initialized()\n\u001b[1;32m---> <a href='file:///c%3A/Users/chris/.virtualenvs/mml-i7LNY0oE/lib/site-packages/tensorflow/python/eager/execute.py?line=53'>54</a>\u001b[0m   tensors \u001b[39m=\u001b[39m pywrap_tfe\u001b[39m.\u001b[39;49mTFE_Py_Execute(ctx\u001b[39m.\u001b[39;49m_handle, device_name, op_name,\n\u001b[0;32m     <a href='file:///c%3A/Users/chris/.virtualenvs/mml-i7LNY0oE/lib/site-packages/tensorflow/python/eager/execute.py?line=54'>55</a>\u001b[0m                                       inputs, attrs, num_outputs)\n\u001b[0;32m     <a href='file:///c%3A/Users/chris/.virtualenvs/mml-i7LNY0oE/lib/site-packages/tensorflow/python/eager/execute.py?line=55'>56</a>\u001b[0m \u001b[39mexcept\u001b[39;00m core\u001b[39m.\u001b[39m_NotOkStatusException \u001b[39mas\u001b[39;00m e:\n\u001b[0;32m     <a href='file:///c%3A/Users/chris/.virtualenvs/mml-i7LNY0oE/lib/site-packages/tensorflow/python/eager/execute.py?line=56'>57</a>\u001b[0m   \u001b[39mif\u001b[39;00m name \u001b[39mis\u001b[39;00m \u001b[39mnot\u001b[39;00m \u001b[39mNone\u001b[39;00m:\n",
      "\u001b[1;31mKeyboardInterrupt\u001b[0m: "
     ]
    }
   ],
   "source": [
    "x = layers.LSTM(64, return_sequences=True)(inputs)\n",
    "x = layers.LSTM(64, return_sequences=True)(x)\n",
    "x = layers.LSTM(64, return_sequences=True)(x)\n",
    "x = layers.LSTM(64)(x)\n",
    "outputs = layers.Dense(1)(x)\n",
    "model = keras.Model(inputs, outputs)\n",
    "history, checkpoint_file = evaluate(model, epochs=150)"
   ]
  },
  {
   "cell_type": "code",
   "execution_count": null,
   "metadata": {},
   "outputs": [
    {
     "data": {
      "image/png": "[encoded data removed]",
      "text/plain": [
       "<Figure size 432x288 with 1 Axes>"
      ]
     },
     "metadata": {
      "needs_background": "light"
     },
     "output_type": "display_data"
    }
   ],
   "source": [
    "import matplotlib.pyplot as plt\n",
    "loss = history.history[\"mae\"]\n",
    "val_loss = history.history[\"val_mae\"]\n",
    "epochs = range(1, len(loss) + 1)\n",
    "plt.figure()\n",
    "plt.plot(epochs, loss, \"bo\", label=\"Training MAE\")\n",
    "plt.plot(epochs, val_loss, \"b\", label=\"Validation MAE\")\n",
    "plt.title(\"Training and validation MAE\")\n",
    "plt.legend()\n",
    "plt.show()"
   ]
  }
 ],
 "metadata": {
  "interpreter": {
   "hash": "ea54240020e07c96210ab594155946643681c2705be142acda2fae782468806d"
  },
  "kernelspec": {
   "display_name": "Python 3.9.12 ('mml-i7LNY0oE')",
   "language": "python",
   "name": "python3"
  },
  "language_info": {
   "codemirror_mode": {
    "name": "ipython",
    "version": 3
   },
   "file_extension": ".py",
   "mimetype": "text/x-python",
   "name": "python",
   "nbconvert_exporter": "python",
   "pygments_lexer": "ipython3",
   "version": "3.9.12"
  },
  "orig_nbformat": 4
 },
 "nbformat": 4,
 "nbformat_minor": 2
}
