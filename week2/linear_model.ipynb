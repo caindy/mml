{
 "cells": [
  {
   "cell_type": "code",
   "execution_count": 6,
   "metadata": {},
   "outputs": [],
   "source": [
    "import pandas as pd\n",
    "from datetime import datetime, timezone, timedelta\n",
    "# obtain the all_regional_mtlf_after_intg.parquet file from \n",
    "# https://www.kaggle.com/dataset/fa253a48766d3621ee0cd56fa478ed464af7672d22b10cf7e9f294da728063b0\n",
    "file_name = 'all_regional_mtlf_after_intg.parquet'\n",
    "df = pd.read_parquet(f'../data/{file_name}')\n",
    "target_range = df[(df['Market Day'] >= datetime(2015,1,20)) & (df['Market Day'] <= datetime(2021,12,31))]"
   ]
  },
  {
   "cell_type": "code",
   "execution_count": 7,
   "metadata": {},
   "outputs": [],
   "source": [
    "\n",
    "targets = pd.DataFrame()\n",
    "\n",
    "targets['MarketHour'] = target_range.apply(lambda x: x['Market Day'].replace( hour = x['HourEnding'] - 1, tzinfo = timezone(timedelta(hours=-5))), axis=1)\n",
    "targets['Load'] = target_range['MISO ActualLoad (MWh)']\n",
    "targets.set_index('MarketHour', inplace=True)"
   ]
  },
  {
   "cell_type": "code",
   "execution_count": 8,
   "metadata": {},
   "outputs": [],
   "source": [
    "weather = pd.read_parquet('../data/weather/WI_Y51_weather_data.parquet')\n",
    "weather.set_index('valid', inplace=True)"
   ]
  },
  {
   "cell_type": "code",
   "execution_count": 9,
   "metadata": {},
   "outputs": [],
   "source": [
    "from datetime import timezone, timedelta\n",
    "\n",
    "start = datetime(2015,  1, 20,  0, tzinfo=timezone(timedelta(hours=-5)))\n",
    "stop  = datetime(2021, 12, 31, 23, tzinfo=timezone(timedelta(hours=-5)))\n",
    "dates = pd.date_range(start = start, end = stop)\n",
    "hours = [d.replace(hour = h) for d in dates for h in range(0, 23)]\n",
    "hourly_weather = [weather.iloc[weather.index.get_loc(d, method='nearest')] for d in hours]"
   ]
  },
  {
   "cell_type": "code",
   "execution_count": 10,
   "metadata": {},
   "outputs": [],
   "source": [
    "df = targets.merge(weather, left_index=True, right_index=True)"
   ]
  },
  {
   "cell_type": "code",
   "execution_count": 11,
   "metadata": {},
   "outputs": [
    {
     "name": "stderr",
     "output_type": "stream",
     "text": [
      "/home/ca/anaconda3/lib/python3.7/site-packages/ipykernel_launcher.py:2: FutureWarning: `rcond` parameter will change to the default of machine precision times ``max(M, N)`` where M and N are the input matrix dimensions.\n",
      "To use the future default and silence this warning we advise to pass `rcond=None`, to keep using the old, explicitly pass `rcond=-1`.\n",
      "  \n"
     ]
    },
    {
     "data": {
      "text/plain": [
       "(array([ 1.20594423e+17,  5.78177665e+16, -7.20000000e+01]),\n",
       " array([6.34258992e+09]),\n",
       " 3,\n",
       " array([7.16499156e+02, 1.42711601e+02, 1.41979713e-13]))"
      ]
     },
     "execution_count": 11,
     "metadata": {},
     "output_type": "execute_result"
    }
   ],
   "source": [
    "from numpy import linalg\n",
    "linalg.lstsq(df[['lat', 'lon', 'feel']], df['Load'])"
   ]
  },
  {
   "cell_type": "code",
   "execution_count": null,
   "metadata": {},
   "outputs": [],
   "source": []
  }
 ],
 "metadata": {
  "interpreter": {
   "hash": "e76a2b364cc0264c10adfbdfe3b5ba02e67c79fb140c1f3503657a619a8cf93d"
  },
  "kernelspec": {
   "display_name": "Python 3.7.3 64-bit ('base': conda)",
   "language": "python",
   "name": "python3"
  },
  "language_info": {
   "codemirror_mode": {
    "name": "ipython",
    "version": 3
   },
   "file_extension": ".py",
   "mimetype": "text/x-python",
   "name": "python",
   "nbconvert_exporter": "python",
   "pygments_lexer": "ipython3",
   "version": "3.7.3"
  },
  "orig_nbformat": 4
 },
 "nbformat": 4,
 "nbformat_minor": 2
}
