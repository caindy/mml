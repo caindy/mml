{
 "cells": [
  {
   "cell_type": "markdown",
   "metadata": {},
   "source": [
    "### Performance Baseline and Model Validation\n",
    "\n",
    "* Establish a similarity heuristic\n",
    "* Define a simple model that predicts the average load for similar hours\n",
    "* Compare to MTLF using walk-forward validation\n",
    "  * 18 hour windows\n",
    "  * MAE and maximum absolute error"
   ]
  },
  {
   "cell_type": "code",
   "execution_count": null,
   "metadata": {},
   "outputs": [],
   "source": []
  }
 ],
 "metadata": {
  "language_info": {
   "name": "python"
  },
  "orig_nbformat": 4
 },
 "nbformat": 4,
 "nbformat_minor": 2
}
