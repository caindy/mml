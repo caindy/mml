{
 "cells": [
  {
   "cell_type": "markdown",
   "metadata": {},
   "source": [
    "### Random Forest Regression\n",
    "\n",
    "#### Load Data"
   ]
  },
  {
   "cell_type": "code",
   "execution_count": 3,
   "metadata": {},
   "outputs": [],
   "source": [
    "import pandas as pd\n",
    "import numpy as np\n",
    "\n",
    "data = pd.read_parquet('../linear_model/data/harmonized_data.parquet')\n",
    "pd.set_option('mode.chained_assignment',  None)"
   ]
  },
  {
   "cell_type": "code",
   "execution_count": 4,
   "metadata": {},
   "outputs": [],
   "source": [
    "target_name = 'MISO ActualLoad (MWh)'\n",
    "y = data[target_name]\n",
    "feature_names = [col for col in data.columns if not col.endswith('(MWh)') and not col == 'Market Day']\n",
    "X = data[feature_names]\n",
    "X['Day of Year'] = data['Market Day'].dt.day_of_year\n",
    "feature_names.append('Day of Year')"
   ]
  },
  {
   "cell_type": "markdown",
   "metadata": {},
   "source": [
    "#### Features: Prior 36 Hours of Actual Load\n",
    "\n",
    "Here we take the time series problem of predicting Hourly Load and make it into a supervised learning problem."
   ]
  },
  {
   "cell_type": "code",
   "execution_count": 5,
   "metadata": {},
   "outputs": [
    {
     "data": {
      "text/html": [
       "<div>\n",
       "<style scoped>\n",
       "    .dataframe tbody tr th:only-of-type {\n",
       "        vertical-align: middle;\n",
       "    }\n",
       "\n",
       "    .dataframe tbody tr th {\n",
       "        vertical-align: top;\n",
       "    }\n",
       "\n",
       "    .dataframe thead th {\n",
       "        text-align: right;\n",
       "    }\n",
       "</style>\n",
       "<table border=\"1\" class=\"dataframe\">\n",
       "  <thead>\n",
       "    <tr style=\"text-align: right;\">\n",
       "      <th></th>\n",
       "      <th>AEX</th>\n",
       "      <th>ANJ</th>\n",
       "      <th>ARB</th>\n",
       "      <th>ARR</th>\n",
       "      <th>BMI</th>\n",
       "      <th>BTR</th>\n",
       "      <th>CID</th>\n",
       "      <th>CMI</th>\n",
       "      <th>COU</th>\n",
       "      <th>DET</th>\n",
       "      <th>...</th>\n",
       "      <th>Actual Load 9 hours prior</th>\n",
       "      <th>Actual Load 8 hours prior</th>\n",
       "      <th>Actual Load 7 hours prior</th>\n",
       "      <th>Actual Load 6 hours prior</th>\n",
       "      <th>Actual Load 5 hours prior</th>\n",
       "      <th>Actual Load 4 hours prior</th>\n",
       "      <th>Actual Load 3 hours prior</th>\n",
       "      <th>Actual Load 2 hours prior</th>\n",
       "      <th>Actual Load 1 hours prior</th>\n",
       "      <th>MISO ActualLoad (MWh)</th>\n",
       "    </tr>\n",
       "  </thead>\n",
       "  <tbody>\n",
       "    <tr>\n",
       "      <th>2015-02-02 20:00:00+00:00</th>\n",
       "      <td>46.94</td>\n",
       "      <td>8.06</td>\n",
       "      <td>15.08</td>\n",
       "      <td>10.94</td>\n",
       "      <td>16.16</td>\n",
       "      <td>48.92</td>\n",
       "      <td>6.08</td>\n",
       "      <td>17.06</td>\n",
       "      <td>21.92</td>\n",
       "      <td>19.94</td>\n",
       "      <td>...</td>\n",
       "      <td>75223.18</td>\n",
       "      <td>81028.25</td>\n",
       "      <td>88440.97</td>\n",
       "      <td>91096.37</td>\n",
       "      <td>91098.40</td>\n",
       "      <td>90665.01</td>\n",
       "      <td>89534.20</td>\n",
       "      <td>87999.78</td>\n",
       "      <td>86359.75</td>\n",
       "      <td>83605.58</td>\n",
       "    </tr>\n",
       "    <tr>\n",
       "      <th>2015-02-02 21:00:00+00:00</th>\n",
       "      <td>48.02</td>\n",
       "      <td>8.96</td>\n",
       "      <td>15.08</td>\n",
       "      <td>10.04</td>\n",
       "      <td>16.16</td>\n",
       "      <td>51.08</td>\n",
       "      <td>6.98</td>\n",
       "      <td>17.96</td>\n",
       "      <td>21.92</td>\n",
       "      <td>19.94</td>\n",
       "      <td>...</td>\n",
       "      <td>81028.25</td>\n",
       "      <td>88440.97</td>\n",
       "      <td>91096.37</td>\n",
       "      <td>91098.40</td>\n",
       "      <td>90665.01</td>\n",
       "      <td>89534.20</td>\n",
       "      <td>87999.78</td>\n",
       "      <td>86359.75</td>\n",
       "      <td>83605.58</td>\n",
       "      <td>83249.35</td>\n",
       "    </tr>\n",
       "    <tr>\n",
       "      <th>2015-02-02 22:00:00+00:00</th>\n",
       "      <td>48.02</td>\n",
       "      <td>8.96</td>\n",
       "      <td>15.08</td>\n",
       "      <td>8.96</td>\n",
       "      <td>16.16</td>\n",
       "      <td>51.08</td>\n",
       "      <td>8.06</td>\n",
       "      <td>17.06</td>\n",
       "      <td>23.00</td>\n",
       "      <td>17.96</td>\n",
       "      <td>...</td>\n",
       "      <td>88440.97</td>\n",
       "      <td>91096.37</td>\n",
       "      <td>91098.40</td>\n",
       "      <td>90665.01</td>\n",
       "      <td>89534.20</td>\n",
       "      <td>87999.78</td>\n",
       "      <td>86359.75</td>\n",
       "      <td>83605.58</td>\n",
       "      <td>83249.35</td>\n",
       "      <td>84952.09</td>\n",
       "    </tr>\n",
       "    <tr>\n",
       "      <th>2015-02-02 23:00:00+00:00</th>\n",
       "      <td>46.04</td>\n",
       "      <td>10.04</td>\n",
       "      <td>10.94</td>\n",
       "      <td>8.06</td>\n",
       "      <td>14.00</td>\n",
       "      <td>50.00</td>\n",
       "      <td>6.98</td>\n",
       "      <td>15.08</td>\n",
       "      <td>21.92</td>\n",
       "      <td>15.98</td>\n",
       "      <td>...</td>\n",
       "      <td>91096.37</td>\n",
       "      <td>91098.40</td>\n",
       "      <td>90665.01</td>\n",
       "      <td>89534.20</td>\n",
       "      <td>87999.78</td>\n",
       "      <td>86359.75</td>\n",
       "      <td>83605.58</td>\n",
       "      <td>83249.35</td>\n",
       "      <td>84952.09</td>\n",
       "      <td>89921.21</td>\n",
       "    </tr>\n",
       "    <tr>\n",
       "      <th>2015-02-03 00:00:00+00:00</th>\n",
       "      <td>44.06</td>\n",
       "      <td>6.98</td>\n",
       "      <td>-0.04</td>\n",
       "      <td>8.06</td>\n",
       "      <td>13.10</td>\n",
       "      <td>46.04</td>\n",
       "      <td>6.98</td>\n",
       "      <td>12.92</td>\n",
       "      <td>19.94</td>\n",
       "      <td>14.00</td>\n",
       "      <td>...</td>\n",
       "      <td>91098.40</td>\n",
       "      <td>90665.01</td>\n",
       "      <td>89534.20</td>\n",
       "      <td>87999.78</td>\n",
       "      <td>86359.75</td>\n",
       "      <td>83605.58</td>\n",
       "      <td>83249.35</td>\n",
       "      <td>84952.09</td>\n",
       "      <td>89921.21</td>\n",
       "      <td>93178.78</td>\n",
       "    </tr>\n",
       "  </tbody>\n",
       "</table>\n",
       "<p>5 rows × 78 columns</p>\n",
       "</div>"
      ],
      "text/plain": [
       "                             AEX    ANJ    ARB    ARR    BMI    BTR   CID  \\\n",
       "2015-02-02 20:00:00+00:00  46.94   8.06  15.08  10.94  16.16  48.92  6.08   \n",
       "2015-02-02 21:00:00+00:00  48.02   8.96  15.08  10.04  16.16  51.08  6.98   \n",
       "2015-02-02 22:00:00+00:00  48.02   8.96  15.08   8.96  16.16  51.08  8.06   \n",
       "2015-02-02 23:00:00+00:00  46.04  10.04  10.94   8.06  14.00  50.00  6.98   \n",
       "2015-02-03 00:00:00+00:00  44.06   6.98  -0.04   8.06  13.10  46.04  6.98   \n",
       "\n",
       "                             CMI    COU    DET  ...  \\\n",
       "2015-02-02 20:00:00+00:00  17.06  21.92  19.94  ...   \n",
       "2015-02-02 21:00:00+00:00  17.96  21.92  19.94  ...   \n",
       "2015-02-02 22:00:00+00:00  17.06  23.00  17.96  ...   \n",
       "2015-02-02 23:00:00+00:00  15.08  21.92  15.98  ...   \n",
       "2015-02-03 00:00:00+00:00  12.92  19.94  14.00  ...   \n",
       "\n",
       "                           Actual Load 9 hours prior  \\\n",
       "2015-02-02 20:00:00+00:00                   75223.18   \n",
       "2015-02-02 21:00:00+00:00                   81028.25   \n",
       "2015-02-02 22:00:00+00:00                   88440.97   \n",
       "2015-02-02 23:00:00+00:00                   91096.37   \n",
       "2015-02-03 00:00:00+00:00                   91098.40   \n",
       "\n",
       "                           Actual Load 8 hours prior  \\\n",
       "2015-02-02 20:00:00+00:00                   81028.25   \n",
       "2015-02-02 21:00:00+00:00                   88440.97   \n",
       "2015-02-02 22:00:00+00:00                   91096.37   \n",
       "2015-02-02 23:00:00+00:00                   91098.40   \n",
       "2015-02-03 00:00:00+00:00                   90665.01   \n",
       "\n",
       "                           Actual Load 7 hours prior  \\\n",
       "2015-02-02 20:00:00+00:00                   88440.97   \n",
       "2015-02-02 21:00:00+00:00                   91096.37   \n",
       "2015-02-02 22:00:00+00:00                   91098.40   \n",
       "2015-02-02 23:00:00+00:00                   90665.01   \n",
       "2015-02-03 00:00:00+00:00                   89534.20   \n",
       "\n",
       "                           Actual Load 6 hours prior  \\\n",
       "2015-02-02 20:00:00+00:00                   91096.37   \n",
       "2015-02-02 21:00:00+00:00                   91098.40   \n",
       "2015-02-02 22:00:00+00:00                   90665.01   \n",
       "2015-02-02 23:00:00+00:00                   89534.20   \n",
       "2015-02-03 00:00:00+00:00                   87999.78   \n",
       "\n",
       "                           Actual Load 5 hours prior  \\\n",
       "2015-02-02 20:00:00+00:00                   91098.40   \n",
       "2015-02-02 21:00:00+00:00                   90665.01   \n",
       "2015-02-02 22:00:00+00:00                   89534.20   \n",
       "2015-02-02 23:00:00+00:00                   87999.78   \n",
       "2015-02-03 00:00:00+00:00                   86359.75   \n",
       "\n",
       "                           Actual Load 4 hours prior  \\\n",
       "2015-02-02 20:00:00+00:00                   90665.01   \n",
       "2015-02-02 21:00:00+00:00                   89534.20   \n",
       "2015-02-02 22:00:00+00:00                   87999.78   \n",
       "2015-02-02 23:00:00+00:00                   86359.75   \n",
       "2015-02-03 00:00:00+00:00                   83605.58   \n",
       "\n",
       "                           Actual Load 3 hours prior  \\\n",
       "2015-02-02 20:00:00+00:00                   89534.20   \n",
       "2015-02-02 21:00:00+00:00                   87999.78   \n",
       "2015-02-02 22:00:00+00:00                   86359.75   \n",
       "2015-02-02 23:00:00+00:00                   83605.58   \n",
       "2015-02-03 00:00:00+00:00                   83249.35   \n",
       "\n",
       "                           Actual Load 2 hours prior  \\\n",
       "2015-02-02 20:00:00+00:00                   87999.78   \n",
       "2015-02-02 21:00:00+00:00                   86359.75   \n",
       "2015-02-02 22:00:00+00:00                   83605.58   \n",
       "2015-02-02 23:00:00+00:00                   83249.35   \n",
       "2015-02-03 00:00:00+00:00                   84952.09   \n",
       "\n",
       "                           Actual Load 1 hours prior  MISO ActualLoad (MWh)  \n",
       "2015-02-02 20:00:00+00:00                   86359.75               83605.58  \n",
       "2015-02-02 21:00:00+00:00                   83605.58               83249.35  \n",
       "2015-02-02 22:00:00+00:00                   83249.35               84952.09  \n",
       "2015-02-02 23:00:00+00:00                   84952.09               89921.21  \n",
       "2015-02-03 00:00:00+00:00                   89921.21               93178.78  \n",
       "\n",
       "[5 rows x 78 columns]"
      ]
     },
     "execution_count": 5,
     "metadata": {},
     "output_type": "execute_result"
    }
   ],
   "source": [
    "num_hours_prior = 36\n",
    "def prior_load_colname(i : int):\n",
    "    return f\"Actual Load {i} hours prior\"\n",
    "\n",
    "for i in range(num_hours_prior, 0, -1):\n",
    "    col_name = prior_load_colname(i)\n",
    "    X[col_name] = y.shift(i)\n",
    "    feature_names.append(col_name)\n",
    "\n",
    "data = X[num_hours_prior:].join(y[num_hours_prior:])\n",
    "data.head()"
   ]
  },
  {
   "cell_type": "markdown",
   "metadata": {},
   "source": [
    "### Train / Test Split\n",
    "\n",
    "We will evaluate the performance of the model for the entire year of 2021"
   ]
  },
  {
   "cell_type": "code",
   "execution_count": 4,
   "metadata": {},
   "outputs": [],
   "source": [
    "data_train = data[data.index < '2021-1-1']\n",
    "data_test = data.drop(data_train.index)"
   ]
  },
  {
   "cell_type": "markdown",
   "metadata": {},
   "source": [
    "### Model Evaluation\n",
    "\n",
    "We evaluate our model performance against the MISO Medium-term Load Forecast (MTLF). The MTLF is provided 18 hours in advance.\n",
    "\n",
    "We trained on actual weather observations, but the MTLF must use the best 18-hour weather forecast available.\n",
    "\n",
    "Ideally we would compare our performance by using the same forecast used in the MTLF, but this information is not available.\n",
    "\n",
    "We choose to add Gaussian noise to the weather observations in the test set to simulate the uncertainty in the weather forecast."
   ]
  },
  {
   "cell_type": "code",
   "execution_count": null,
   "metadata": {},
   "outputs": [],
   "source": [
    "mtlf = pd.read_parquet('../linear_model/data/actuals_mtlf.parquet')\n",
    "mtlf_col = 'MISO MTLF (MWh)'\n",
    "test_data_with_mtlf = data_test.join(mtlf[[mtlf_col,'time_idx']].set_index('time_idx'), how='inner')\n",
    "\n",
    "weather_stations = data.columns[0:38]"
   ]
  },
  {
   "cell_type": "code",
   "execution_count": 5,
   "metadata": {},
   "outputs": [
    {
     "data": {
      "image/png": "[encoded data removed]",
      "text/plain": [
       "<Figure size 432x288 with 1 Axes>"
      ]
     },
     "metadata": {
      "needs_background": "light"
     },
     "output_type": "display_data"
    }
   ],
   "source": [
    "data_test_forecast_error = data_test.copy()\n",
    "\n",
    "#from scipy.stats import skewnorm\n",
    "#forecast_error = skewnorm.rvs(4, scale = 2.25, size=data_test[weather_stations].shape)\n",
    "#forecast_error = forecast_error * np.random.choice([-1,1], forecast_error.shape, p=[0.5, 0.5])\n",
    "\n",
    "forecast_error = np.random.normal(0, 2.25, data_test[weather_stations].shape)\n",
    "data_test_forecast_error[weather_stations] = data_test[weather_stations] + forecast_error\n",
    "data_test_forecast_error = data_test_forecast_error.drop(target_name, axis=1)\n",
    "\n",
    "\n",
    "from matplotlib import pyplot as plt\n",
    "\n",
    "fig, ax = plt.subplots()\n",
    "ax.hist(forecast_error, density=True, histtype='stepfilled', alpha=0.2)\n",
    "plt.show()\n"
   ]
  },
  {
   "cell_type": "markdown",
   "metadata": {},
   "source": [
    "#### MTLF Performance Baseline"
   ]
  },
  {
   "cell_type": "code",
   "execution_count": 6,
   "metadata": {},
   "outputs": [
    {
     "data": {
      "text/plain": [
       "'MTLF Mean Absolute Error = 1137.353402483565, Max Error = 10105.800000000003, Total Error = 7785184.040000005'"
      ]
     },
     "execution_count": 6,
     "metadata": {},
     "output_type": "execute_result"
    }
   ],
   "source": [
    "from sklearn.metrics import mean_absolute_error, max_error\n",
    "\n",
    "def show_error(y, yhat):\n",
    "    MAE = mean_absolute_error(y, yhat)\n",
    "    m = max_error(y, yhat)\n",
    "    total = sum(abs(y - yhat))\n",
    "    return f\"Mean Absolute Error = {MAE}, Max Error = {m}, Total Error = {total}\"\n",
    "'MTLF ' + show_error(data_test[target_name], test_data_with_mtlf[mtlf_col])"
   ]
  },
  {
   "cell_type": "code",
   "execution_count": 12,
   "metadata": {},
   "outputs": [],
   "source": [
    "from sklearn.ensemble import RandomForestRegressor\n",
    "\n",
    "def train_random_forest(hyper_n = 500, hyper_sample_pct=0.5):\n",
    "    model = RandomForestRegressor(n_estimators=hyper_n, max_samples=hyper_sample_pct, n_jobs=4)\n",
    "    model.fit(data_train.drop(target_name, axis=1), data_train[target_name])\n",
    "    return model\n",
    "\n",
    "def mtlf_predict_window(model, X_test, forecasts = None):\n",
    "    window_size = X_test.shape[0]\n",
    "    assert(window_size > 0)\n",
    "    forecast_index = window_size - 1\n",
    "    if forecasts is None:\n",
    "        forecasts = np.zeros(window_size)\n",
    "    if computed_forecast := forecasts[forecast_index] > 0:\n",
    "        return computed_forecast\n",
    "\n",
    "    if window_size > 1:\n",
    "        # predict the next window size hours, using the first prediction in the second,\n",
    "        # the second in the third, and so on. Return only the last.\n",
    "        for i in range(1, window_size):\n",
    "            col_idx = X_test.columns.get_loc(prior_load_colname(i))\n",
    "            X_test.iloc[-1, col_idx] = mtlf_predict_window(model, X_test[:-i], forecasts)\n",
    "\n",
    "    forecasts[forecast_index] = model.predict(X_test.tail(1))\n",
    "    return forecasts[forecast_index]\n",
    "\n",
    "def mtlf_predict(model, X):\n",
    "    n = X.shape[0]\n",
    "    yhat = np.zeros(n)\n",
    "\n",
    "    # \"cheat\" on first 17 hours\n",
    "    yhat[0:16] = model.predict(X[0:16])\n",
    "\n",
    "    mtlf_window_size = 18\n",
    "    for start in range(0, n - mtlf_window_size + 2):\n",
    "        stop  = mtlf_window_size + start - 1\n",
    "        yhat[stop-1] = mtlf_predict_window(model, X[start:stop].copy())\n",
    "    return yhat"
   ]
  },
  {
   "cell_type": "code",
   "execution_count": 13,
   "metadata": {},
   "outputs": [],
   "source": [
    "model = train_random_forest()"
   ]
  },
  {
   "cell_type": "code",
   "execution_count": 14,
   "metadata": {},
   "outputs": [],
   "source": [
    "contig_start = '2021-1-1 10:00'\n",
    "contig_end = '2021-01-03 10:00'\n",
    "contiguous_test = data_test[(data_test.index >= contig_start) & (data_test.index <= contig_end)]"
   ]
  },
  {
   "cell_type": "code",
   "execution_count": 15,
   "metadata": {},
   "outputs": [
    {
     "data": {
      "text/plain": [
       "'Prediction error: Mean Absolute Error = 3616.7684929166367, Max Error = 11833.475179999827, Total Error = 173604.88765999855'"
      ]
     },
     "execution_count": 15,
     "metadata": {},
     "output_type": "execute_result"
    }
   ],
   "source": [
    "yhat = mtlf_predict(model, contiguous_test.drop(target_name, axis=1))\n",
    "f'Prediction error: {show_error(contiguous_test[target_name], yhat)}'"
   ]
  },
  {
   "cell_type": "code",
   "execution_count": 16,
   "metadata": {},
   "outputs": [
    {
     "data": {
      "text/plain": [
       "'MTLF error same period: Mean Absolute Error = 1441.0556250000009, Max Error = 3073.5099999999948, Total Error = 69170.67000000006'"
      ]
     },
     "execution_count": 16,
     "metadata": {},
     "output_type": "execute_result"
    }
   ],
   "source": [
    "contig_mtlf = test_data_with_mtlf[(test_data_with_mtlf.index >= contig_start) & (test_data_with_mtlf.index <= contig_end)]\n",
    "f'MTLF error same period: {show_error(contiguous_test[target_name], contig_mtlf[mtlf_col])}'"
   ]
  },
  {
   "cell_type": "code",
   "execution_count": 17,
   "metadata": {},
   "outputs": [
    {
     "data": {
      "text/plain": [
       "'Prediction error: Mean Absolute Error = 3711.429818958293, Max Error = 13162.90067999957, Total Error = 178148.63130999805'"
      ]
     },
     "execution_count": 17,
     "metadata": {},
     "output_type": "execute_result"
    }
   ],
   "source": [
    "model2 = train_random_forest(hyper_n=1000, hyper_sample_pct=1.0)\n",
    "yhat2 = mtlf_predict(model2, contiguous_test.drop(target_name, axis=1))\n",
    "f'Prediction error: {show_error(contiguous_test[target_name], yhat2)}'"
   ]
  }
 ],
 "metadata": {
  "interpreter": {
   "hash": "ca75c5a9c1bf31ea1421bff44497c994a38ebbc04761b1a089697bf74e16b1a9"
  },
  "kernelspec": {
   "display_name": "Python 3.9.11 ('mml-4gMQx5WG')",
   "language": "python",
   "name": "python3"
  },
  "language_info": {
   "codemirror_mode": {
    "name": "ipython",
    "version": 3
   },
   "file_extension": ".py",
   "mimetype": "text/x-python",
   "name": "python",
   "nbconvert_exporter": "python",
   "pygments_lexer": "ipython3",
   "version": "3.9.7"
  },
  "orig_nbformat": 4
 },
 "nbformat": 4,
 "nbformat_minor": 2
}
