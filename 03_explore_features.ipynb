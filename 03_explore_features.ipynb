{
 "cells": [
  {
   "cell_type": "markdown",
   "metadata": {},
   "source": [
    "### Feature Exploration\n",
    "\n",
    "Explore the definition of the following features.\n",
    "* Preceding Load: Previous `n` hours of actual load\n",
    "* Temperature Changes: Previous `n` hours of temperature changes\n",
    "* Similar Days Preceding Load\n",
    "* Discomfort level"
   ]
  },
  {
   "cell_type": "markdown",
   "metadata": {},
   "source": [
    "\n",
    "---\n",
    "**How to we the belief that the space of functions is in a neighborhood of the historical functions?**\n",
    "\n",
    "Turn this subjective prior into an empirical one? Load is monotonic on certain\n",
    "intervals, e.g. from overnight low to daily peak.\n",
    "\n",
    "Create a daily cubic spline model for every historical day using hourly actual\n",
    "load as control points. Cluster days according to coefficients in this model. \n",
    "\n",
    "Feature: Empirical probability that the current hours is peak.\n",
    "\n",
    "Feature: Last `n` hours of temperature changes\n",
    "\n",
    "---"
   ]
  },
  {
   "cell_type": "code",
   "execution_count": null,
   "metadata": {},
   "outputs": [],
   "source": []
  }
 ],
 "metadata": {
  "interpreter": {
   "hash": "656d9c9dcfe2faf48f2fd84a8eb7135158c7cca549d2b4648b451fb4e5e38b0f"
  },
  "kernelspec": {
   "display_name": "Python 3.9.7 ('mml-uJPEnftj')",
   "language": "python",
   "name": "python3"
  },
  "language_info": {
   "name": "python",
   "version": "3.9.7"
  },
  "orig_nbformat": 4
 },
 "nbformat": 4,
 "nbformat_minor": 2
}
