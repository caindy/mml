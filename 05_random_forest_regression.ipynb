{
 "cells": [
  {
   "cell_type": "code",
   "execution_count": 7,
   "metadata": {},
   "outputs": [
    {
     "name": "stdout",
     "output_type": "stream",
     "text": [
      "The autoreload extension is already loaded. To reload it, use:\n",
      "  %reload_ext autoreload\n"
     ]
    },
    {
     "ename": "ValueError",
     "evalue": "Found input variables with inconsistent numbers of samples: [8760, 8832]",
     "output_type": "error",
     "traceback": [
      "\u001b[1;31m---------------------------------------------------------------------------\u001b[0m",
      "\u001b[1;31mValueError\u001b[0m                                Traceback (most recent call last)",
      "\u001b[1;32mc:\\Users\\chris\\code\\mml\\05_random_forest_regression.ipynb Cell 1'\u001b[0m in \u001b[0;36m<cell line: 16>\u001b[1;34m()\u001b[0m\n\u001b[0;32m     <a href='vscode-notebook-cell:/c%3A/Users/chris/code/mml/05_random_forest_regression.ipynb#ch0000000?line=11'>12</a>\u001b[0m model \u001b[39m=\u001b[39m RandomForestRegressor(n_estimators\u001b[39m=\u001b[39m\u001b[39m70\u001b[39m, max_samples\u001b[39m=\u001b[39m\u001b[39m0.5\u001b[39m, n_jobs\u001b[39m=\u001b[39m\u001b[39m4\u001b[39m)\n\u001b[0;32m     <a href='vscode-notebook-cell:/c%3A/Users/chris/code/mml/05_random_forest_regression.ipynb#ch0000000?line=12'>13</a>\u001b[0m (predictions, errors) \u001b[39m=\u001b[39m walkforward(model, ds\u001b[39m.\u001b[39mdata, ds\u001b[39m.\u001b[39mdata[ds\u001b[39m.\u001b[39mactual],\n\u001b[0;32m     <a href='vscode-notebook-cell:/c%3A/Users/chris/code/mml/05_random_forest_regression.ipynb#ch0000000?line=13'>14</a>\u001b[0m                                     ds\u001b[39m.\u001b[39mvalidation_start, ds\u001b[39m.\u001b[39mvalidation_end, Zone1\u001b[39m.\u001b[39mnext_hour,\n\u001b[0;32m     <a href='vscode-notebook-cell:/c%3A/Users/chris/code/mml/05_random_forest_regression.ipynb#ch0000000?line=14'>15</a>\u001b[0m                                     ds\u001b[39m.\u001b[39mfeatures)\n\u001b[1;32m---> <a href='vscode-notebook-cell:/c%3A/Users/chris/code/mml/05_random_forest_regression.ipynb#ch0000000?line=15'>16</a>\u001b[0m overall_error \u001b[39m=\u001b[39m Error(ds\u001b[39m.\u001b[39;49mvalidation_data[ds\u001b[39m.\u001b[39;49mactual], np\u001b[39m.\u001b[39;49mconcatenate(predictions))\n",
      "File \u001b[1;32mc:\\Users\\chris\\code\\mml\\validation.py:61\u001b[0m, in \u001b[0;36mError.__init__\u001b[1;34m(self, y, yhat)\u001b[0m\n\u001b[0;32m     <a href='file:///c%3A/Users/chris/code/mml/validation.py?line=59'>60</a>\u001b[0m \u001b[39mdef\u001b[39;00m \u001b[39m__init__\u001b[39m(\u001b[39mself\u001b[39m, y, yhat) \u001b[39m-\u001b[39m\u001b[39m>\u001b[39m \u001b[39mNone\u001b[39;00m:\n\u001b[1;32m---> <a href='file:///c%3A/Users/chris/code/mml/validation.py?line=60'>61</a>\u001b[0m     \u001b[39mself\u001b[39m\u001b[39m.\u001b[39mmae \u001b[39m=\u001b[39m mean_absolute_error(y, yhat)\n\u001b[0;32m     <a href='file:///c%3A/Users/chris/code/mml/validation.py?line=61'>62</a>\u001b[0m     \u001b[39mself\u001b[39m\u001b[39m.\u001b[39mmax \u001b[39m=\u001b[39m max_error(y, yhat)\n\u001b[0;32m     <a href='file:///c%3A/Users/chris/code/mml/validation.py?line=62'>63</a>\u001b[0m     \u001b[39mself\u001b[39m\u001b[39m.\u001b[39mtotal \u001b[39m=\u001b[39m \u001b[39msum\u001b[39m(\u001b[39mabs\u001b[39m(y \u001b[39m-\u001b[39m yhat))\n",
      "File \u001b[1;32m~\\.virtualenvs\\mml-uJPEnftj\\lib\\site-packages\\sklearn\\metrics\\_regression.py:191\u001b[0m, in \u001b[0;36mmean_absolute_error\u001b[1;34m(y_true, y_pred, sample_weight, multioutput)\u001b[0m\n\u001b[0;32m    <a href='file:///c%3A/Users/chris/.virtualenvs/mml-uJPEnftj/lib/site-packages/sklearn/metrics/_regression.py?line=134'>135</a>\u001b[0m \u001b[39mdef\u001b[39;00m \u001b[39mmean_absolute_error\u001b[39m(\n\u001b[0;32m    <a href='file:///c%3A/Users/chris/.virtualenvs/mml-uJPEnftj/lib/site-packages/sklearn/metrics/_regression.py?line=135'>136</a>\u001b[0m     y_true, y_pred, \u001b[39m*\u001b[39m, sample_weight\u001b[39m=\u001b[39m\u001b[39mNone\u001b[39;00m, multioutput\u001b[39m=\u001b[39m\u001b[39m\"\u001b[39m\u001b[39muniform_average\u001b[39m\u001b[39m\"\u001b[39m\n\u001b[0;32m    <a href='file:///c%3A/Users/chris/.virtualenvs/mml-uJPEnftj/lib/site-packages/sklearn/metrics/_regression.py?line=136'>137</a>\u001b[0m ):\n\u001b[0;32m    <a href='file:///c%3A/Users/chris/.virtualenvs/mml-uJPEnftj/lib/site-packages/sklearn/metrics/_regression.py?line=137'>138</a>\u001b[0m     \u001b[39m\"\"\"Mean absolute error regression loss.\u001b[39;00m\n\u001b[0;32m    <a href='file:///c%3A/Users/chris/.virtualenvs/mml-uJPEnftj/lib/site-packages/sklearn/metrics/_regression.py?line=138'>139</a>\u001b[0m \n\u001b[0;32m    <a href='file:///c%3A/Users/chris/.virtualenvs/mml-uJPEnftj/lib/site-packages/sklearn/metrics/_regression.py?line=139'>140</a>\u001b[0m \u001b[39m    Read more in the :ref:`User Guide <mean_absolute_error>`.\u001b[39;00m\n\u001b[1;32m   (...)\u001b[0m\n\u001b[0;32m    <a href='file:///c%3A/Users/chris/.virtualenvs/mml-uJPEnftj/lib/site-packages/sklearn/metrics/_regression.py?line=188'>189</a>\u001b[0m \u001b[39m    0.85...\u001b[39;00m\n\u001b[0;32m    <a href='file:///c%3A/Users/chris/.virtualenvs/mml-uJPEnftj/lib/site-packages/sklearn/metrics/_regression.py?line=189'>190</a>\u001b[0m \u001b[39m    \"\"\"\u001b[39;00m\n\u001b[1;32m--> <a href='file:///c%3A/Users/chris/.virtualenvs/mml-uJPEnftj/lib/site-packages/sklearn/metrics/_regression.py?line=190'>191</a>\u001b[0m     y_type, y_true, y_pred, multioutput \u001b[39m=\u001b[39m _check_reg_targets(\n\u001b[0;32m    <a href='file:///c%3A/Users/chris/.virtualenvs/mml-uJPEnftj/lib/site-packages/sklearn/metrics/_regression.py?line=191'>192</a>\u001b[0m         y_true, y_pred, multioutput\n\u001b[0;32m    <a href='file:///c%3A/Users/chris/.virtualenvs/mml-uJPEnftj/lib/site-packages/sklearn/metrics/_regression.py?line=192'>193</a>\u001b[0m     )\n\u001b[0;32m    <a href='file:///c%3A/Users/chris/.virtualenvs/mml-uJPEnftj/lib/site-packages/sklearn/metrics/_regression.py?line=193'>194</a>\u001b[0m     check_consistent_length(y_true, y_pred, sample_weight)\n\u001b[0;32m    <a href='file:///c%3A/Users/chris/.virtualenvs/mml-uJPEnftj/lib/site-packages/sklearn/metrics/_regression.py?line=194'>195</a>\u001b[0m     output_errors \u001b[39m=\u001b[39m np\u001b[39m.\u001b[39maverage(np\u001b[39m.\u001b[39mabs(y_pred \u001b[39m-\u001b[39m y_true), weights\u001b[39m=\u001b[39msample_weight, axis\u001b[39m=\u001b[39m\u001b[39m0\u001b[39m)\n",
      "File \u001b[1;32m~\\.virtualenvs\\mml-uJPEnftj\\lib\\site-packages\\sklearn\\metrics\\_regression.py:94\u001b[0m, in \u001b[0;36m_check_reg_targets\u001b[1;34m(y_true, y_pred, multioutput, dtype)\u001b[0m\n\u001b[0;32m     <a href='file:///c%3A/Users/chris/.virtualenvs/mml-uJPEnftj/lib/site-packages/sklearn/metrics/_regression.py?line=59'>60</a>\u001b[0m \u001b[39mdef\u001b[39;00m \u001b[39m_check_reg_targets\u001b[39m(y_true, y_pred, multioutput, dtype\u001b[39m=\u001b[39m\u001b[39m\"\u001b[39m\u001b[39mnumeric\u001b[39m\u001b[39m\"\u001b[39m):\n\u001b[0;32m     <a href='file:///c%3A/Users/chris/.virtualenvs/mml-uJPEnftj/lib/site-packages/sklearn/metrics/_regression.py?line=60'>61</a>\u001b[0m     \u001b[39m\"\"\"Check that y_true and y_pred belong to the same regression task.\u001b[39;00m\n\u001b[0;32m     <a href='file:///c%3A/Users/chris/.virtualenvs/mml-uJPEnftj/lib/site-packages/sklearn/metrics/_regression.py?line=61'>62</a>\u001b[0m \n\u001b[0;32m     <a href='file:///c%3A/Users/chris/.virtualenvs/mml-uJPEnftj/lib/site-packages/sklearn/metrics/_regression.py?line=62'>63</a>\u001b[0m \u001b[39m    Parameters\u001b[39;00m\n\u001b[1;32m   (...)\u001b[0m\n\u001b[0;32m     <a href='file:///c%3A/Users/chris/.virtualenvs/mml-uJPEnftj/lib/site-packages/sklearn/metrics/_regression.py?line=91'>92</a>\u001b[0m \u001b[39m        the dtype argument passed to check_array.\u001b[39;00m\n\u001b[0;32m     <a href='file:///c%3A/Users/chris/.virtualenvs/mml-uJPEnftj/lib/site-packages/sklearn/metrics/_regression.py?line=92'>93</a>\u001b[0m \u001b[39m    \"\"\"\u001b[39;00m\n\u001b[1;32m---> <a href='file:///c%3A/Users/chris/.virtualenvs/mml-uJPEnftj/lib/site-packages/sklearn/metrics/_regression.py?line=93'>94</a>\u001b[0m     check_consistent_length(y_true, y_pred)\n\u001b[0;32m     <a href='file:///c%3A/Users/chris/.virtualenvs/mml-uJPEnftj/lib/site-packages/sklearn/metrics/_regression.py?line=94'>95</a>\u001b[0m     y_true \u001b[39m=\u001b[39m check_array(y_true, ensure_2d\u001b[39m=\u001b[39m\u001b[39mFalse\u001b[39;00m, dtype\u001b[39m=\u001b[39mdtype)\n\u001b[0;32m     <a href='file:///c%3A/Users/chris/.virtualenvs/mml-uJPEnftj/lib/site-packages/sklearn/metrics/_regression.py?line=95'>96</a>\u001b[0m     y_pred \u001b[39m=\u001b[39m check_array(y_pred, ensure_2d\u001b[39m=\u001b[39m\u001b[39mFalse\u001b[39;00m, dtype\u001b[39m=\u001b[39mdtype)\n",
      "File \u001b[1;32m~\\.virtualenvs\\mml-uJPEnftj\\lib\\site-packages\\sklearn\\utils\\validation.py:332\u001b[0m, in \u001b[0;36mcheck_consistent_length\u001b[1;34m(*arrays)\u001b[0m\n\u001b[0;32m    <a href='file:///c%3A/Users/chris/.virtualenvs/mml-uJPEnftj/lib/site-packages/sklearn/utils/validation.py?line=329'>330</a>\u001b[0m uniques \u001b[39m=\u001b[39m np\u001b[39m.\u001b[39munique(lengths)\n\u001b[0;32m    <a href='file:///c%3A/Users/chris/.virtualenvs/mml-uJPEnftj/lib/site-packages/sklearn/utils/validation.py?line=330'>331</a>\u001b[0m \u001b[39mif\u001b[39;00m \u001b[39mlen\u001b[39m(uniques) \u001b[39m>\u001b[39m \u001b[39m1\u001b[39m:\n\u001b[1;32m--> <a href='file:///c%3A/Users/chris/.virtualenvs/mml-uJPEnftj/lib/site-packages/sklearn/utils/validation.py?line=331'>332</a>\u001b[0m     \u001b[39mraise\u001b[39;00m \u001b[39mValueError\u001b[39;00m(\n\u001b[0;32m    <a href='file:///c%3A/Users/chris/.virtualenvs/mml-uJPEnftj/lib/site-packages/sklearn/utils/validation.py?line=332'>333</a>\u001b[0m         \u001b[39m\"\u001b[39m\u001b[39mFound input variables with inconsistent numbers of samples: \u001b[39m\u001b[39m%r\u001b[39;00m\u001b[39m\"\u001b[39m\n\u001b[0;32m    <a href='file:///c%3A/Users/chris/.virtualenvs/mml-uJPEnftj/lib/site-packages/sklearn/utils/validation.py?line=333'>334</a>\u001b[0m         \u001b[39m%\u001b[39m [\u001b[39mint\u001b[39m(l) \u001b[39mfor\u001b[39;00m l \u001b[39min\u001b[39;00m lengths]\n\u001b[0;32m    <a href='file:///c%3A/Users/chris/.virtualenvs/mml-uJPEnftj/lib/site-packages/sklearn/utils/validation.py?line=334'>335</a>\u001b[0m     )\n",
      "\u001b[1;31mValueError\u001b[0m: Found input variables with inconsistent numbers of samples: [8760, 8832]"
     ]
    }
   ],
   "source": [
    "%load_ext autoreload\n",
    "%autoreload 2\n",
    "\n",
    "from datasets import Zone1\n",
    "ds = Zone1('data/zone1_prior_load.parquet')\n",
    "ds.data.head()\n",
    "\n",
    "from validation import walkforward, Error\n",
    "from sklearn.ensemble import RandomForestRegressor\n",
    "import numpy as np\n",
    "\n",
    "model = RandomForestRegressor(n_estimators=70, max_samples=0.5, n_jobs=4)\n",
    "(predictions, errors) = walkforward(model, ds.data, ds.data[ds.actual],\n",
    "                                    ds.validation_start, ds.validation_end, Zone1.next_hour,\n",
    "                                    ds.features)\n",
    "overall_error = Error(ds.validation_data[ds.actual], np.concatenate(predictions))\n"
   ]
  },
  {
   "cell_type": "code",
   "execution_count": 2,
   "metadata": {},
   "outputs": [
    {
     "data": {
      "text/plain": [
       "Error(mae=523.8949901141551, max=3336.975000000002, total=4589320.113400012)"
      ]
     },
     "execution_count": 2,
     "metadata": {},
     "output_type": "execute_result"
    }
   ],
   "source": [
    "overall_error"
   ]
  },
  {
   "cell_type": "code",
   "execution_count": 6,
   "metadata": {},
   "outputs": [
    {
     "ename": "KeyboardInterrupt",
     "evalue": "",
     "output_type": "error",
     "traceback": [
      "\u001b[1;31m---------------------------------------------------------------------------\u001b[0m",
      "\u001b[1;31mKeyboardInterrupt\u001b[0m                         Traceback (most recent call last)",
      "\u001b[1;32mc:\\Users\\chris\\code\\mml\\05_random_forest_regression.ipynb Cell 3'\u001b[0m in \u001b[0;36m<cell line: 3>\u001b[1;34m()\u001b[0m\n\u001b[0;32m      <a href='vscode-notebook-cell:/c%3A/Users/chris/code/mml/05_random_forest_regression.ipynb#ch0000002?line=0'>1</a>\u001b[0m cols \u001b[39m=\u001b[39m ds\u001b[39m.\u001b[39mdata\u001b[39m.\u001b[39mcolumns\u001b[39m.\u001b[39mto_series()\n\u001b[0;32m      <a href='vscode-notebook-cell:/c%3A/Users/chris/code/mml/05_random_forest_regression.ipynb#ch0000002?line=1'>2</a>\u001b[0m cols \u001b[39m=\u001b[39m cols\u001b[39m.\u001b[39mdrop([ds\u001b[39m.\u001b[39mactual, ds\u001b[39m.\u001b[39mmtlf])\n\u001b[1;32m----> <a href='vscode-notebook-cell:/c%3A/Users/chris/code/mml/05_random_forest_regression.ipynb#ch0000002?line=2'>3</a>\u001b[0m (predictions, errors) \u001b[39m=\u001b[39m walkforward(model, ds\u001b[39m.\u001b[39;49mdata, ds\u001b[39m.\u001b[39;49mdata[ds\u001b[39m.\u001b[39;49mactual],\n\u001b[0;32m      <a href='vscode-notebook-cell:/c%3A/Users/chris/code/mml/05_random_forest_regression.ipynb#ch0000002?line=3'>4</a>\u001b[0m                                     ds\u001b[39m.\u001b[39;49mvalidation_start, ds\u001b[39m.\u001b[39;49mvalidation_end, Zone1\u001b[39m.\u001b[39;49mnext_hour,\n\u001b[0;32m      <a href='vscode-notebook-cell:/c%3A/Users/chris/code/mml/05_random_forest_regression.ipynb#ch0000002?line=4'>5</a>\u001b[0m                                     cols)\n",
      "File \u001b[1;32mc:\\Users\\chris\\code\\mml\\validation.py:100\u001b[0m, in \u001b[0;36mwalkforward\u001b[1;34m(model, all_X, all_y, start_hour, end_hour, next_hour, active_features)\u001b[0m\n\u001b[0;32m     <a href='file:///c%3A/Users/chris/code/mml/validation.py?line=96'>97</a>\u001b[0m     error \u001b[39m=\u001b[39m Error(y\u001b[39m=\u001b[39mnext_y, yhat\u001b[39m=\u001b[39mprediction)\n\u001b[0;32m     <a href='file:///c%3A/Users/chris/code/mml/validation.py?line=97'>98</a>\u001b[0m     \u001b[39mreturn\u001b[39;00m d, prediction, error \n\u001b[1;32m--> <a href='file:///c%3A/Users/chris/code/mml/validation.py?line=99'>100</a>\u001b[0m results \u001b[39m=\u001b[39m parallel(delayed(step)(d) \u001b[39mfor\u001b[39;49;00m d \u001b[39min\u001b[39;49;00m \u001b[39mrange\u001b[39;49m(\u001b[39m0\u001b[39;49m, strides))\n\u001b[0;32m    <a href='file:///c%3A/Users/chris/code/mml/validation.py?line=100'>101</a>\u001b[0m \u001b[39m#results = [step(d) for d in range(0, strides)]\u001b[39;00m\n\u001b[0;32m    <a href='file:///c%3A/Users/chris/code/mml/validation.py?line=101'>102</a>\u001b[0m results \u001b[39m=\u001b[39m \u001b[39msorted\u001b[39m(results, key\u001b[39m=\u001b[39m\u001b[39mlambda\u001b[39;00m r: r[\u001b[39m0\u001b[39m])\n",
      "File \u001b[1;32m~\\.virtualenvs\\mml-uJPEnftj\\lib\\site-packages\\joblib\\parallel.py:1056\u001b[0m, in \u001b[0;36mParallel.__call__\u001b[1;34m(self, iterable)\u001b[0m\n\u001b[0;32m   <a href='file:///c%3A/Users/chris/.virtualenvs/mml-uJPEnftj/lib/site-packages/joblib/parallel.py?line=1052'>1053</a>\u001b[0m     \u001b[39mself\u001b[39m\u001b[39m.\u001b[39m_iterating \u001b[39m=\u001b[39m \u001b[39mFalse\u001b[39;00m\n\u001b[0;32m   <a href='file:///c%3A/Users/chris/.virtualenvs/mml-uJPEnftj/lib/site-packages/joblib/parallel.py?line=1054'>1055</a>\u001b[0m \u001b[39mwith\u001b[39;00m \u001b[39mself\u001b[39m\u001b[39m.\u001b[39m_backend\u001b[39m.\u001b[39mretrieval_context():\n\u001b[1;32m-> <a href='file:///c%3A/Users/chris/.virtualenvs/mml-uJPEnftj/lib/site-packages/joblib/parallel.py?line=1055'>1056</a>\u001b[0m     \u001b[39mself\u001b[39;49m\u001b[39m.\u001b[39;49mretrieve()\n\u001b[0;32m   <a href='file:///c%3A/Users/chris/.virtualenvs/mml-uJPEnftj/lib/site-packages/joblib/parallel.py?line=1056'>1057</a>\u001b[0m \u001b[39m# Make sure that we get a last message telling us we are done\u001b[39;00m\n\u001b[0;32m   <a href='file:///c%3A/Users/chris/.virtualenvs/mml-uJPEnftj/lib/site-packages/joblib/parallel.py?line=1057'>1058</a>\u001b[0m elapsed_time \u001b[39m=\u001b[39m time\u001b[39m.\u001b[39mtime() \u001b[39m-\u001b[39m \u001b[39mself\u001b[39m\u001b[39m.\u001b[39m_start_time\n",
      "File \u001b[1;32m~\\.virtualenvs\\mml-uJPEnftj\\lib\\site-packages\\joblib\\parallel.py:935\u001b[0m, in \u001b[0;36mParallel.retrieve\u001b[1;34m(self)\u001b[0m\n\u001b[0;32m    <a href='file:///c%3A/Users/chris/.virtualenvs/mml-uJPEnftj/lib/site-packages/joblib/parallel.py?line=932'>933</a>\u001b[0m \u001b[39mtry\u001b[39;00m:\n\u001b[0;32m    <a href='file:///c%3A/Users/chris/.virtualenvs/mml-uJPEnftj/lib/site-packages/joblib/parallel.py?line=933'>934</a>\u001b[0m     \u001b[39mif\u001b[39;00m \u001b[39mgetattr\u001b[39m(\u001b[39mself\u001b[39m\u001b[39m.\u001b[39m_backend, \u001b[39m'\u001b[39m\u001b[39msupports_timeout\u001b[39m\u001b[39m'\u001b[39m, \u001b[39mFalse\u001b[39;00m):\n\u001b[1;32m--> <a href='file:///c%3A/Users/chris/.virtualenvs/mml-uJPEnftj/lib/site-packages/joblib/parallel.py?line=934'>935</a>\u001b[0m         \u001b[39mself\u001b[39m\u001b[39m.\u001b[39m_output\u001b[39m.\u001b[39mextend(job\u001b[39m.\u001b[39;49mget(timeout\u001b[39m=\u001b[39;49m\u001b[39mself\u001b[39;49m\u001b[39m.\u001b[39;49mtimeout))\n\u001b[0;32m    <a href='file:///c%3A/Users/chris/.virtualenvs/mml-uJPEnftj/lib/site-packages/joblib/parallel.py?line=935'>936</a>\u001b[0m     \u001b[39melse\u001b[39;00m:\n\u001b[0;32m    <a href='file:///c%3A/Users/chris/.virtualenvs/mml-uJPEnftj/lib/site-packages/joblib/parallel.py?line=936'>937</a>\u001b[0m         \u001b[39mself\u001b[39m\u001b[39m.\u001b[39m_output\u001b[39m.\u001b[39mextend(job\u001b[39m.\u001b[39mget())\n",
      "File \u001b[1;32m~\\.virtualenvs\\mml-uJPEnftj\\lib\\site-packages\\joblib\\_parallel_backends.py:542\u001b[0m, in \u001b[0;36mLokyBackend.wrap_future_result\u001b[1;34m(future, timeout)\u001b[0m\n\u001b[0;32m    <a href='file:///c%3A/Users/chris/.virtualenvs/mml-uJPEnftj/lib/site-packages/joblib/_parallel_backends.py?line=538'>539</a>\u001b[0m \u001b[39m\"\"\"Wrapper for Future.result to implement the same behaviour as\u001b[39;00m\n\u001b[0;32m    <a href='file:///c%3A/Users/chris/.virtualenvs/mml-uJPEnftj/lib/site-packages/joblib/_parallel_backends.py?line=539'>540</a>\u001b[0m \u001b[39mAsyncResults.get from multiprocessing.\"\"\"\u001b[39;00m\n\u001b[0;32m    <a href='file:///c%3A/Users/chris/.virtualenvs/mml-uJPEnftj/lib/site-packages/joblib/_parallel_backends.py?line=540'>541</a>\u001b[0m \u001b[39mtry\u001b[39;00m:\n\u001b[1;32m--> <a href='file:///c%3A/Users/chris/.virtualenvs/mml-uJPEnftj/lib/site-packages/joblib/_parallel_backends.py?line=541'>542</a>\u001b[0m     \u001b[39mreturn\u001b[39;00m future\u001b[39m.\u001b[39;49mresult(timeout\u001b[39m=\u001b[39;49mtimeout)\n\u001b[0;32m    <a href='file:///c%3A/Users/chris/.virtualenvs/mml-uJPEnftj/lib/site-packages/joblib/_parallel_backends.py?line=542'>543</a>\u001b[0m \u001b[39mexcept\u001b[39;00m CfTimeoutError \u001b[39mas\u001b[39;00m e:\n\u001b[0;32m    <a href='file:///c%3A/Users/chris/.virtualenvs/mml-uJPEnftj/lib/site-packages/joblib/_parallel_backends.py?line=543'>544</a>\u001b[0m     \u001b[39mraise\u001b[39;00m \u001b[39mTimeoutError\u001b[39;00m \u001b[39mfrom\u001b[39;00m \u001b[39me\u001b[39;00m\n",
      "File \u001b[1;32m~\\anaconda3\\lib\\concurrent\\futures\\_base.py:440\u001b[0m, in \u001b[0;36mFuture.result\u001b[1;34m(self, timeout)\u001b[0m\n\u001b[0;32m    <a href='file:///c%3A/Users/chris/anaconda3/lib/concurrent/futures/_base.py?line=436'>437</a>\u001b[0m \u001b[39melif\u001b[39;00m \u001b[39mself\u001b[39m\u001b[39m.\u001b[39m_state \u001b[39m==\u001b[39m FINISHED:\n\u001b[0;32m    <a href='file:///c%3A/Users/chris/anaconda3/lib/concurrent/futures/_base.py?line=437'>438</a>\u001b[0m     \u001b[39mreturn\u001b[39;00m \u001b[39mself\u001b[39m\u001b[39m.\u001b[39m__get_result()\n\u001b[1;32m--> <a href='file:///c%3A/Users/chris/anaconda3/lib/concurrent/futures/_base.py?line=439'>440</a>\u001b[0m \u001b[39mself\u001b[39;49m\u001b[39m.\u001b[39;49m_condition\u001b[39m.\u001b[39;49mwait(timeout)\n\u001b[0;32m    <a href='file:///c%3A/Users/chris/anaconda3/lib/concurrent/futures/_base.py?line=441'>442</a>\u001b[0m \u001b[39mif\u001b[39;00m \u001b[39mself\u001b[39m\u001b[39m.\u001b[39m_state \u001b[39min\u001b[39;00m [CANCELLED, CANCELLED_AND_NOTIFIED]:\n\u001b[0;32m    <a href='file:///c%3A/Users/chris/anaconda3/lib/concurrent/futures/_base.py?line=442'>443</a>\u001b[0m     \u001b[39mraise\u001b[39;00m CancelledError()\n",
      "File \u001b[1;32m~\\anaconda3\\lib\\threading.py:312\u001b[0m, in \u001b[0;36mCondition.wait\u001b[1;34m(self, timeout)\u001b[0m\n\u001b[0;32m    <a href='file:///c%3A/Users/chris/anaconda3/lib/threading.py?line=309'>310</a>\u001b[0m \u001b[39mtry\u001b[39;00m:    \u001b[39m# restore state no matter what (e.g., KeyboardInterrupt)\u001b[39;00m\n\u001b[0;32m    <a href='file:///c%3A/Users/chris/anaconda3/lib/threading.py?line=310'>311</a>\u001b[0m     \u001b[39mif\u001b[39;00m timeout \u001b[39mis\u001b[39;00m \u001b[39mNone\u001b[39;00m:\n\u001b[1;32m--> <a href='file:///c%3A/Users/chris/anaconda3/lib/threading.py?line=311'>312</a>\u001b[0m         waiter\u001b[39m.\u001b[39;49macquire()\n\u001b[0;32m    <a href='file:///c%3A/Users/chris/anaconda3/lib/threading.py?line=312'>313</a>\u001b[0m         gotit \u001b[39m=\u001b[39m \u001b[39mTrue\u001b[39;00m\n\u001b[0;32m    <a href='file:///c%3A/Users/chris/anaconda3/lib/threading.py?line=313'>314</a>\u001b[0m     \u001b[39melse\u001b[39;00m:\n",
      "\u001b[1;31mKeyboardInterrupt\u001b[0m: "
     ]
    }
   ],
   "source": [
    "cols = ds.data.columns.to_series()\n",
    "cols = cols.drop([ds.actual, ds.mtlf])\n",
    "(predictions, errors) = walkforward(model, ds.data, ds.data[ds.actual],\n",
    "                                    ds.validation_start, ds.validation_end, Zone1.next_hour,\n",
    "                                    cols)"
   ]
  }
 ],
 "metadata": {
  "interpreter": {
   "hash": "656d9c9dcfe2faf48f2fd84a8eb7135158c7cca549d2b4648b451fb4e5e38b0f"
  },
  "kernelspec": {
   "display_name": "Python 3.9.7 ('mml-uJPEnftj')",
   "language": "python",
   "name": "python3"
  },
  "language_info": {
   "codemirror_mode": {
    "name": "ipython",
    "version": 3
   },
   "file_extension": ".py",
   "mimetype": "text/x-python",
   "name": "python",
   "nbconvert_exporter": "python",
   "pygments_lexer": "ipython3",
   "version": "3.9.7"
  },
  "orig_nbformat": 4
 },
 "nbformat": 4,
 "nbformat_minor": 2
}
