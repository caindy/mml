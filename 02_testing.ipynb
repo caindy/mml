{
 "cells": [
  {
   "cell_type": "markdown",
   "metadata": {},
   "source": [
    "## Establish Validation and Testing\n",
    "\n",
    "### Naive Baseline Model and \n",
    "\n",
    "* Establish a similarity heuristic\n",
    "* Define a simple model that predicts the average load for similar hours\n",
    "\n",
    "### Model Validation\n",
    "* Compare to MTLF using walk-forward validation\n",
    "  * 24 hour windows\n",
    "  * MAE and maximum absolute error"
   ]
  },
  {
   "cell_type": "code",
   "execution_count": 10,
   "metadata": {},
   "outputs": [
    {
     "data": {
      "text/html": [
       "<div>\n",
       "<style scoped>\n",
       "    .dataframe tbody tr th:only-of-type {\n",
       "        vertical-align: middle;\n",
       "    }\n",
       "\n",
       "    .dataframe tbody tr th {\n",
       "        vertical-align: top;\n",
       "    }\n",
       "\n",
       "    .dataframe thead th {\n",
       "        text-align: right;\n",
       "    }\n",
       "</style>\n",
       "<table border=\"1\" class=\"dataframe\">\n",
       "  <thead>\n",
       "    <tr style=\"text-align: right;\">\n",
       "      <th></th>\n",
       "      <th>MSP</th>\n",
       "      <th>DayOfYear</th>\n",
       "      <th>HourEnding</th>\n",
       "      <th>IsBusinessHour</th>\n",
       "      <th>LRZ1 MTLF (MWh)</th>\n",
       "      <th>LRZ1 ActualLoad (MWh)</th>\n",
       "    </tr>\n",
       "    <tr>\n",
       "      <th>hour</th>\n",
       "      <th></th>\n",
       "      <th></th>\n",
       "      <th></th>\n",
       "      <th></th>\n",
       "      <th></th>\n",
       "      <th></th>\n",
       "    </tr>\n",
       "  </thead>\n",
       "  <tbody>\n",
       "    <tr>\n",
       "      <th>2015-02-01 00:00:00-05:00</th>\n",
       "      <td>23.00</td>\n",
       "      <td>32</td>\n",
       "      <td>1</td>\n",
       "      <td>0</td>\n",
       "      <td>11099</td>\n",
       "      <td>11337.89</td>\n",
       "    </tr>\n",
       "    <tr>\n",
       "      <th>2015-02-01 01:00:00-05:00</th>\n",
       "      <td>21.02</td>\n",
       "      <td>32</td>\n",
       "      <td>2</td>\n",
       "      <td>0</td>\n",
       "      <td>10829</td>\n",
       "      <td>11014.87</td>\n",
       "    </tr>\n",
       "    <tr>\n",
       "      <th>2015-02-01 02:00:00-05:00</th>\n",
       "      <td>19.04</td>\n",
       "      <td>32</td>\n",
       "      <td>3</td>\n",
       "      <td>0</td>\n",
       "      <td>10565</td>\n",
       "      <td>10795.37</td>\n",
       "    </tr>\n",
       "    <tr>\n",
       "      <th>2015-02-01 03:00:00-05:00</th>\n",
       "      <td>19.04</td>\n",
       "      <td>32</td>\n",
       "      <td>4</td>\n",
       "      <td>0</td>\n",
       "      <td>10468</td>\n",
       "      <td>10714.42</td>\n",
       "    </tr>\n",
       "    <tr>\n",
       "      <th>2015-02-01 04:00:00-05:00</th>\n",
       "      <td>17.06</td>\n",
       "      <td>32</td>\n",
       "      <td>5</td>\n",
       "      <td>0</td>\n",
       "      <td>10432</td>\n",
       "      <td>10700.09</td>\n",
       "    </tr>\n",
       "  </tbody>\n",
       "</table>\n",
       "</div>"
      ],
      "text/plain": [
       "                             MSP  DayOfYear  HourEnding  IsBusinessHour  \\\n",
       "hour                                                                      \n",
       "2015-02-01 00:00:00-05:00  23.00         32           1               0   \n",
       "2015-02-01 01:00:00-05:00  21.02         32           2               0   \n",
       "2015-02-01 02:00:00-05:00  19.04         32           3               0   \n",
       "2015-02-01 03:00:00-05:00  19.04         32           4               0   \n",
       "2015-02-01 04:00:00-05:00  17.06         32           5               0   \n",
       "\n",
       "                           LRZ1 MTLF (MWh)  LRZ1 ActualLoad (MWh)  \n",
       "hour                                                               \n",
       "2015-02-01 00:00:00-05:00            11099               11337.89  \n",
       "2015-02-01 01:00:00-05:00            10829               11014.87  \n",
       "2015-02-01 02:00:00-05:00            10565               10795.37  \n",
       "2015-02-01 03:00:00-05:00            10468               10714.42  \n",
       "2015-02-01 04:00:00-05:00            10432               10700.09  "
      ]
     },
     "execution_count": 10,
     "metadata": {},
     "output_type": "execute_result"
    }
   ],
   "source": [
    "import pandas as pd\n",
    "from datetime import timedelta\n",
    "\n",
    "data = pd.read_parquet('data/zone1.parquet')\n",
    "hours = data.index.to_series()\n",
    "first_hour = hours.iloc[0]\n",
    "last_hour = hours.iloc[-1]\n",
    "\n",
    "test_start = last_hour - timedelta(days=364, hours=23)\n",
    "test_end = last_hour\n",
    "validation_start = test_start - timedelta(days=365)\n",
    "validation_end = test_start - timedelta(hours=1)\n",
    "train_start = first_hour\n",
    "train_end = validation_start - timedelta(hours=1)\n",
    "\n",
    "train_data = data[train_start:train_end]\n",
    "validation_data = data[validation_start:validation_end]\n",
    "test_data = data[test_start:test_end]\n",
    "\n",
    "train_data.head()"
   ]
  },
  {
   "cell_type": "markdown",
   "metadata": {},
   "source": [
    "### Similar Days Heuristic\n",
    "\n",
    "A similar hour is a (potentially lagged) historical hour from a similar day. A\n",
    "similar day is determined using similarity characteristics such as:\n",
    "* weather,\n",
    "* day of week,\n",
    "* date,\n",
    "* holidays,\n",
    "* etc.\n",
    "\n",
    "This practice follows the intuition that the shape of a load curve is unlikely\n",
    "to be highly dissimilar from any prior load curve. Using a regression procedure,\n",
    "a number of similar days can be used instead of a single day.\n",
    "\n",
    "### Naive Similarity\n",
    "In our naive baseline model, we will simply use `k`-nearest neighbors from preceding hours."
   ]
  },
  {
   "cell_type": "code",
   "execution_count": 17,
   "metadata": {},
   "outputs": [],
   "source": [
    "mtlf_col = 'LRZ1 MTLF (MWh)'\n",
    "actual_col = 'LRZ1 ActualLoad (MWh)'\n",
    "X = train_data.drop([mtlf_col, actual_col], axis=1)\n",
    "y = train_data[actual_col]\n",
    "Xvalid = validation_data.drop([mtlf_col, actual_col], axis=1)\n",
    "yvalid = validation_data[actual_col]"
   ]
  },
  {
   "cell_type": "code",
   "execution_count": 18,
   "metadata": {},
   "outputs": [],
   "source": [
    "from sklearn.neighbors import KNeighborsRegressor\n",
    "\n",
    "n_neighbors = 8\n",
    "knn = KNeighborsRegressor(n_neighbors, weights='distance')\n",
    "yhat = knn.fit(X, y).predict(Xvalid)"
   ]
  },
  {
   "cell_type": "markdown",
   "metadata": {},
   "source": [
    "### Walk Forward Validation\n",
    "\n",
    "Predict each day, incorporating all previous days in the training set."
   ]
  },
  {
   "cell_type": "code",
   "execution_count": 44,
   "metadata": {},
   "outputs": [
    {
     "data": {
      "text/plain": [
       "'Mean Absolute Error = 694.0462069496332, Max Error = 3627.74177138688, Total Error = 6079844.772878793'"
      ]
     },
     "execution_count": 44,
     "metadata": {},
     "output_type": "execute_result"
    }
   ],
   "source": [
    "from validation import show_error\n",
    "import numpy as np\n",
    "\n",
    "predictions = []\n",
    "for d in range(0,365):\n",
    "    next_Xtrain = pd.concat([X, Xvalid.iloc[:24*d]])\n",
    "    next_ytrain = pd.concat([y, yvalid.iloc[:24*d]])\n",
    "    next_Xpredict = Xvalid.iloc[24*d:24*(d+1)]\n",
    "    #print(f'Predicting {next_Xpredict.index.to_series().iloc[0]}')\n",
    "    #print(f'Predicting {next_Xpredict.index.to_series().iloc[-1]}')\n",
    "    prediction = knn.fit(next_Xtrain, next_ytrain).predict(next_Xpredict)\n",
    "    predictions.append(prediction)\n",
    "yhat = np.concatenate(predictions)\n",
    "show_error(yvalid, yhat)"
   ]
  },
  {
   "cell_type": "code",
   "execution_count": 45,
   "metadata": {},
   "outputs": [
    {
     "data": {
      "text/plain": [
       "'MTLF Mean Absolute Error = 222.98570091324197, Max Error = 2217.33, Total Error = 1953354.7399999993'"
      ]
     },
     "execution_count": 45,
     "metadata": {},
     "output_type": "execute_result"
    }
   ],
   "source": [
    "'MTLF ' + show_error(validation_data[actual_col], validation_data[mtlf_col])"
   ]
  },
  {
   "cell_type": "markdown",
   "metadata": {},
   "source": [
    "## Baseline\n",
    "\n",
    "The MAE of the naive approach is roughly 2.4 times larger than the MTLF and the maximum error is about 2.6 times larger."
   ]
  }
 ],
 "metadata": {
  "interpreter": {
   "hash": "656d9c9dcfe2faf48f2fd84a8eb7135158c7cca549d2b4648b451fb4e5e38b0f"
  },
  "kernelspec": {
   "display_name": "Python 3.9.7 ('mml-uJPEnftj')",
   "language": "python",
   "name": "python3"
  },
  "language_info": {
   "codemirror_mode": {
    "name": "ipython",
    "version": 3
   },
   "file_extension": ".py",
   "mimetype": "text/x-python",
   "name": "python",
   "nbconvert_exporter": "python",
   "pygments_lexer": "ipython3",
   "version": "3.9.7"
  },
  "orig_nbformat": 4
 },
 "nbformat": 4,
 "nbformat_minor": 2
}
