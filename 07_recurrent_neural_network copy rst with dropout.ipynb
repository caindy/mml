{
 "cells": [
  {
   "cell_type": "markdown",
   "metadata": {},
   "source": [
    "### Recurrent Neural Networks\n",
    "\n",
    "Here we return to our original sequence of historical load data without pivot\n",
    "the prior hours' data into features as was needed with the regression\n",
    "techniques.\n",
    "\n",
    "Moreover, we will not immediately employ the walkforward validation technique due to the time cost of daily retraining. Instead we will train the model to always predict 24 hours out. This simplifies our train/validation/test split as well.\n",
    "\n",
    "#### TODO predict 1 to 24 hours out\n",
    "\n",
    "We should train seperate models that predict each of the subsequent 24 hours. These 24 models can be trained independently of each other. This would allow us to train on data that is more recent in the sequence. The hour-ending 24 model will still be trained as above, but the other hours will have a smaller `delay`... but we need the hourly prediction for a particular hour... this approach would just give a \"good at `n` hours out\" model across the entire day. We could train 1-hour-out models, then do walk forward validation as before...feeding the hourly prediction into the sequence "
   ]
  },
  {
   "cell_type": "code",
   "execution_count": 7,
   "metadata": {},
   "outputs": [
    {
     "name": "stdout",
     "output_type": "stream",
     "text": [
      "The autoreload extension is already loaded. To reload it, use:\n",
      "  %reload_ext autoreload\n"
     ]
    },
    {
     "data": {
      "text/html": [
       "<div>\n",
       "<style scoped>\n",
       "    .dataframe tbody tr th:only-of-type {\n",
       "        vertical-align: middle;\n",
       "    }\n",
       "\n",
       "    .dataframe tbody tr th {\n",
       "        vertical-align: top;\n",
       "    }\n",
       "\n",
       "    .dataframe thead th {\n",
       "        text-align: right;\n",
       "    }\n",
       "</style>\n",
       "<table border=\"1\" class=\"dataframe\">\n",
       "  <thead>\n",
       "    <tr style=\"text-align: right;\">\n",
       "      <th></th>\n",
       "      <th>MSP</th>\n",
       "      <th>RST</th>\n",
       "      <th>LRZ1 MTLF (MWh)</th>\n",
       "      <th>LRZ1 ActualLoad (MWh)</th>\n",
       "    </tr>\n",
       "    <tr>\n",
       "      <th>hour</th>\n",
       "      <th></th>\n",
       "      <th></th>\n",
       "      <th></th>\n",
       "      <th></th>\n",
       "    </tr>\n",
       "  </thead>\n",
       "  <tbody>\n",
       "    <tr>\n",
       "      <th>2015-02-01 00:00:00-05:00</th>\n",
       "      <td>23.00</td>\n",
       "      <td>24.08</td>\n",
       "      <td>11099</td>\n",
       "      <td>11337.89</td>\n",
       "    </tr>\n",
       "    <tr>\n",
       "      <th>2015-02-01 01:00:00-05:00</th>\n",
       "      <td>21.02</td>\n",
       "      <td>24.08</td>\n",
       "      <td>10829</td>\n",
       "      <td>11014.87</td>\n",
       "    </tr>\n",
       "    <tr>\n",
       "      <th>2015-02-01 02:00:00-05:00</th>\n",
       "      <td>19.04</td>\n",
       "      <td>23.00</td>\n",
       "      <td>10565</td>\n",
       "      <td>10795.37</td>\n",
       "    </tr>\n",
       "    <tr>\n",
       "      <th>2015-02-01 03:00:00-05:00</th>\n",
       "      <td>19.04</td>\n",
       "      <td>19.94</td>\n",
       "      <td>10468</td>\n",
       "      <td>10714.42</td>\n",
       "    </tr>\n",
       "    <tr>\n",
       "      <th>2015-02-01 04:00:00-05:00</th>\n",
       "      <td>17.06</td>\n",
       "      <td>19.04</td>\n",
       "      <td>10432</td>\n",
       "      <td>10700.09</td>\n",
       "    </tr>\n",
       "  </tbody>\n",
       "</table>\n",
       "</div>"
      ],
      "text/plain": [
       "                             MSP    RST  LRZ1 MTLF (MWh)  \\\n",
       "hour                                                       \n",
       "2015-02-01 00:00:00-05:00  23.00  24.08            11099   \n",
       "2015-02-01 01:00:00-05:00  21.02  24.08            10829   \n",
       "2015-02-01 02:00:00-05:00  19.04  23.00            10565   \n",
       "2015-02-01 03:00:00-05:00  19.04  19.94            10468   \n",
       "2015-02-01 04:00:00-05:00  17.06  19.04            10432   \n",
       "\n",
       "                           LRZ1 ActualLoad (MWh)  \n",
       "hour                                              \n",
       "2015-02-01 00:00:00-05:00               11337.89  \n",
       "2015-02-01 01:00:00-05:00               11014.87  \n",
       "2015-02-01 02:00:00-05:00               10795.37  \n",
       "2015-02-01 03:00:00-05:00               10714.42  \n",
       "2015-02-01 04:00:00-05:00               10700.09  "
      ]
     },
     "execution_count": 7,
     "metadata": {},
     "output_type": "execute_result"
    }
   ],
   "source": [
    "%load_ext autoreload\n",
    "%autoreload 2\n",
    "\n",
    "from datasets import DataSet\n",
    "\n",
    "ds = DataSet('data/zone1_rst.parquet', mtlf='LRZ1 MTLF (MWh)', actual='LRZ1 ActualLoad (MWh)')\n",
    "ds.data.head()"
   ]
  },
  {
   "cell_type": "markdown",
   "metadata": {},
   "source": [
    "Since we are predicting 24 hours out, it is acceptable to incorporate the temperature data again, but we will need to normalize. We also will drop our categoricals for now. Can an RNN learn a good model for predicting tomorrow's load from just prior load and temperature sequences? Should we incorporate more temperature sequences?"
   ]
  },
  {
   "cell_type": "code",
   "execution_count": 8,
   "metadata": {},
   "outputs": [],
   "source": [
    "features = ['MSP', 'RST', ds.actual]\n",
    "df = ds.data[features].copy()\n",
    "load = ds.data[ds.actual].copy().to_numpy()"
   ]
  },
  {
   "cell_type": "code",
   "execution_count": 9,
   "metadata": {},
   "outputs": [
    {
     "data": {
      "image/png": "[encoded data removed]",
      "text/plain": [
       "<Figure size 432x288 with 1 Axes>"
      ]
     },
     "metadata": {
      "needs_background": "light"
     },
     "output_type": "display_data"
    }
   ],
   "source": [
    "import tensorflow as tf\n",
    "import matplotlib.pyplot as plt\n",
    "import numpy as np\n",
    "\n",
    "fft = tf.signal.rfft(load)\n",
    "f_per_dataset = np.arange(0, len(fft))\n",
    "\n",
    "n_samples_h = len(load)\n",
    "hours_per_year = 24*365.2524\n",
    "years_per_dataset = n_samples_h/(hours_per_year)\n",
    "\n",
    "f_per_year = f_per_dataset/years_per_dataset\n",
    "plt.step(f_per_year, np.abs(fft))\n",
    "plt.xscale('log')\n",
    "plt.ylim(0, 40000000)\n",
    "plt.xlim([0.1, max(plt.xlim())])\n",
    "plt.xticks([1, 365.2524], labels=['1/Year', '1/day'])\n",
    "_ = plt.xlabel('Frequency (log scale)')"
   ]
  },
  {
   "cell_type": "code",
   "execution_count": 4,
   "metadata": {},
   "outputs": [
    {
     "data": {
      "text/plain": [
       "array([  0.        ,   1.95471468,   2.09433716,  52.21880642,\n",
       "       364.27504266, 365.2524    , 366.22975734, 730.5048    ])"
      ]
     },
     "execution_count": 4,
     "metadata": {},
     "output_type": "execute_result"
    }
   ],
   "source": [
    "f_per_year[np.argwhere(np.abs(fft) > 1e7).flatten()]"
   ]
  },
  {
   "cell_type": "markdown",
   "metadata": {},
   "source": [
    "Create yearly, weekly, and daily signals."
   ]
  },
  {
   "cell_type": "code",
   "execution_count": 10,
   "metadata": {},
   "outputs": [],
   "source": [
    "import pandas as pd\n",
    "day = 24*60*60\n",
    "year = (365.2425)*day\n",
    "timestamp_s = df.index.to_series().map(pd.Timestamp.timestamp)\n",
    "df['Daily sin'] = np.sin(timestamp_s * (2 * np.pi / day))\n",
    "df['Daily cos'] = np.cos(timestamp_s * (2 * np.pi / day))\n",
    "df['Weekly sin'] = np.sin(timestamp_s * (2 * np.pi / (7*day)))\n",
    "df['Weekly cos'] = np.cos(timestamp_s * (2 * np.pi / (7*day)))\n",
    "df['Yearly sin'] = np.sin(timestamp_s * (2 * np.pi / year))\n",
    "df['Yearly cos'] = np.cos(timestamp_s * (2 * np.pi / year))"
   ]
  },
  {
   "cell_type": "code",
   "execution_count": 6,
   "metadata": {},
   "outputs": [
    {
     "data": {
      "text/plain": [
       "Text(0.5, 1.0, 'Time of day signal')"
      ]
     },
     "execution_count": 6,
     "metadata": {},
     "output_type": "execute_result"
    },
    {
     "data": {
      "image/png": "[encoded data removed]",
      "text/plain": [
       "<Figure size 432x288 with 1 Axes>"
      ]
     },
     "metadata": {
      "needs_background": "light"
     },
     "output_type": "display_data"
    }
   ],
   "source": [
    "plt.plot(np.array(df['Daily sin'])[:25])\n",
    "plt.plot(np.array(df['Daily cos'])[:25])\n",
    "plt.xlabel('Time [h]')\n",
    "plt.title('Time of day signal')"
   ]
  },
  {
   "cell_type": "code",
   "execution_count": 6,
   "metadata": {},
   "outputs": [],
   "source": [
    "raw_data = df.to_numpy()\n",
    "num_test_samples = num_val_samples = 365 * 24\n",
    "num_train_samples = len(raw_data) - num_test_samples - num_val_samples\n",
    "\n",
    "mean = raw_data[:num_train_samples].mean(axis=0)\n",
    "raw_data -= mean\n",
    "std = raw_data[:num_train_samples].std(axis=0)\n",
    "raw_data /= std"
   ]
  },
  {
   "cell_type": "code",
   "execution_count": 13,
   "metadata": {},
   "outputs": [],
   "source": [
    "import numpy as np\n",
    "from tensorflow import keras\n",
    "\n",
    "sampling_rate = 1\n",
    "sequence_length = 24*7\n",
    "delay = sampling_rate * (sequence_length + 24 - 1) \n",
    "\n",
    "batch_size = 16 # hyperparameter\n",
    "should_shuffle = True\n",
    "\n",
    "train_dataset = keras.utils.timeseries_dataset_from_array(\n",
    "    raw_data[:-delay],\n",
    "    targets=load[delay:],\n",
    "    sampling_rate=sampling_rate,\n",
    "    sequence_length=sequence_length,\n",
    "    shuffle=should_shuffle,\n",
    "    batch_size=batch_size,\n",
    "    start_index=0,\n",
    "    end_index=num_train_samples\n",
    ")\n",
    "\n",
    "val_dataset = keras.utils.timeseries_dataset_from_array(\n",
    "    raw_data[:-delay],\n",
    "    targets=load[delay:],\n",
    "    sampling_rate=sampling_rate,\n",
    "    sequence_length=sequence_length,\n",
    "    shuffle=should_shuffle,\n",
    "    batch_size=batch_size,\n",
    "    start_index=num_train_samples,\n",
    "    end_index=num_train_samples + num_val_samples\n",
    ")\n",
    "\n",
    "test_dataset = keras.utils.timeseries_dataset_from_array(\n",
    "    raw_data[:-delay],\n",
    "    targets=load[delay:],\n",
    "    sampling_rate=sampling_rate,\n",
    "    sequence_length=sequence_length,\n",
    "    shuffle=should_shuffle,\n",
    "    batch_size=batch_size,\n",
    "    start_index=num_train_samples + num_val_samples\n",
    ")"
   ]
  },
  {
   "cell_type": "code",
   "execution_count": 14,
   "metadata": {},
   "outputs": [
    {
     "name": "stdout",
     "output_type": "stream",
     "text": [
      "Epoch 1/250\n",
      "2819/2819 [==============================] - 1090s 314ms/step - loss: 78613184.0000 - mae: 8414.9443 - val_loss: 11816600.0000 - val_mae: 3020.7122\n",
      "Epoch 2/250\n",
      "2819/2819 [==============================] - 1074s 381ms/step - loss: 4421194.5000 - mae: 1656.4369 - val_loss: 2996067.7500 - val_mae: 1424.7089\n",
      "Epoch 3/250\n",
      "2819/2819 [==============================] - 1088s 386ms/step - loss: 3193126.2500 - mae: 1433.1832 - val_loss: 2985806.5000 - val_mae: 1421.9149\n",
      "Epoch 4/250\n",
      "2819/2819 [==============================] - 1093s 388ms/step - loss: 3189031.7500 - mae: 1429.7233 - val_loss: 2989571.7500 - val_mae: 1422.9421\n",
      "Epoch 5/250\n",
      "2819/2819 [==============================] - 1108s 393ms/step - loss: 2992467.7500 - mae: 1381.8386 - val_loss: 1954471.7500 - val_mae: 1111.5404\n",
      "Epoch 6/250\n",
      "2819/2819 [==============================] - 1161s 412ms/step - loss: 1620537.5000 - mae: 988.7645 - val_loss: 697076.3125 - val_mae: 637.1161\n",
      "Epoch 7/250\n",
      "2819/2819 [==============================] - 1166s 414ms/step - loss: 1183039.1250 - mae: 852.7599 - val_loss: 590435.6250 - val_mae: 574.6049\n",
      "Epoch 8/250\n",
      "2819/2819 [==============================] - 1183s 420ms/step - loss: 1073345.8750 - mae: 811.7790 - val_loss: 488258.2188 - val_mae: 526.7527\n",
      "Epoch 9/250\n",
      "2819/2819 [==============================] - 1151s 408ms/step - loss: 1009541.8125 - mae: 785.8569 - val_loss: 476765.1250 - val_mae: 518.5099\n",
      "Epoch 10/250\n",
      "2819/2819 [==============================] - 1037s 368ms/step - loss: 978002.9375 - mae: 773.8126 - val_loss: 447123.8438 - val_mae: 501.1758\n",
      "Epoch 11/250\n",
      "2819/2819 [==============================] - 1023s 363ms/step - loss: 947111.3125 - mae: 761.4388 - val_loss: 397660.8750 - val_mae: 466.9694\n",
      "Epoch 12/250\n",
      "2819/2819 [==============================] - 977s 346ms/step - loss: 934378.3750 - mae: 754.5419 - val_loss: 392620.5312 - val_mae: 461.0072\n",
      "Epoch 13/250\n",
      "2819/2819 [==============================] - 1029s 365ms/step - loss: 909902.6250 - mae: 746.6326 - val_loss: 437402.1875 - val_mae: 497.8361\n",
      "Epoch 14/250\n",
      "2819/2819 [==============================] - 967s 343ms/step - loss: 894150.8750 - mae: 741.1323 - val_loss: 393252.8750 - val_mae: 466.3369\n",
      "Epoch 15/250\n",
      "2819/2819 [==============================] - 962s 341ms/step - loss: 880855.3750 - mae: 733.0240 - val_loss: 382283.9375 - val_mae: 457.9972\n",
      "Epoch 16/250\n",
      "2819/2819 [==============================] - 974s 346ms/step - loss: 874455.6875 - mae: 731.7761 - val_loss: 371470.5938 - val_mae: 448.5945\n",
      "Epoch 17/250\n",
      "2819/2819 [==============================] - 965s 342ms/step - loss: 858074.4375 - mae: 725.1502 - val_loss: 363173.6250 - val_mae: 440.5713\n",
      "Epoch 18/250\n",
      "2819/2819 [==============================] - 964s 342ms/step - loss: 862182.6250 - mae: 727.0978 - val_loss: 359479.6562 - val_mae: 440.6248\n",
      "Epoch 19/250\n",
      "2819/2819 [==============================] - 966s 343ms/step - loss: 845067.1875 - mae: 721.3931 - val_loss: 348100.9375 - val_mae: 429.9502\n",
      "Epoch 20/250\n",
      "2819/2819 [==============================] - 972s 345ms/step - loss: 856884.4375 - mae: 724.9030 - val_loss: 382238.3125 - val_mae: 458.7651\n",
      "Epoch 21/250\n",
      "2819/2819 [==============================] - 969s 344ms/step - loss: 838456.0000 - mae: 716.4684 - val_loss: 354901.1250 - val_mae: 437.8083\n",
      "Epoch 22/250\n",
      "2819/2819 [==============================] - 968s 343ms/step - loss: 832024.8750 - mae: 712.2571 - val_loss: 386938.3750 - val_mae: 465.2846\n",
      "526/526 [==============================] - 102s 152ms/step - loss: 433229.0625 - mae: 484.3516\n",
      "Test MAE: 484.351593\n"
     ]
    }
   ],
   "source": [
    "from datetime import datetime\n",
    "from keras import layers\n",
    "\n",
    "def evaluate(model, optimizer=\"adamax\", loss=\"mse\", epochs=10, checkpoint_file=None):\n",
    "    ts = datetime.now().strftime (\"%Y%m%d_%H%M%S\")\n",
    "    checkpoint_file = checkpoint_file or f\"load_prediction_{optimizer}_{loss}_{ts}.keras\"\n",
    "    callbacks = [\n",
    "        keras.callbacks.ModelCheckpoint(checkpoint_file, monitor='val_mae', save_best_only=True),\n",
    "        keras.callbacks.EarlyStopping(monitor='val_mae', patience=3)]\n",
    "    model.compile(optimizer=optimizer, loss=loss, metrics=[\"mae\"])\n",
    "    history = model.fit(train_dataset, epochs=epochs, validation_data=val_dataset, callbacks=callbacks)\n",
    "    model = keras.models.load_model(checkpoint_file)\n",
    "    print(f\"Test MAE: {model.evaluate(test_dataset)[1]:2f}\")\n",
    "    return history, checkpoint_file\n",
    "\n",
    "inputs = keras.Input(shape=(sequence_length, raw_data.shape[-1]))\n",
    "x = layers.Dense(32, activation='leaky_relu')(inputs)\n",
    "x = layers.LSTM(64, unroll=True, recurrent_dropout=0.25, return_sequences=True)(x)\n",
    "x = layers.LSTM(64, unroll=True, recurrent_dropout=0.25, return_sequences=True)(x)\n",
    "x = layers.LSTM(64, unroll=True, recurrent_dropout=0.25, return_sequences=True)(x)\n",
    "x = layers.LSTM(64, unroll=True, recurrent_dropout=0.25)(x)\n",
    "x = layers.Dropout(0.25)(x)\n",
    "x = layers.Dense(32, activation='leaky_relu')(x)\n",
    "\n",
    "outputs = layers.Dense(1)(x)\n",
    "\n",
    "model = keras.Model(inputs, outputs)\n",
    "\n",
    "history, checkpoint_file = evaluate(model, epochs=250)"
   ]
  },
  {
   "cell_type": "code",
   "execution_count": 11,
   "metadata": {},
   "outputs": [
    {
     "name": "stdout",
     "output_type": "stream",
     "text": [
      "Epoch 1/250\n",
      "1409/1409 [==============================] - 397s 172ms/step - loss: 111138584.0000 - mae: 10402.2520 - val_loss: 75863672.0000 - val_mae: 8551.7168\n",
      "Epoch 2/250\n",
      "1409/1409 [==============================] - 414s 294ms/step - loss: 49081228.0000 - mae: 6629.1812 - val_loss: 12722550.0000 - val_mae: 3163.5237\n",
      "Epoch 3/250\n",
      "1409/1409 [==============================] - 405s 288ms/step - loss: 5814383.5000 - mae: 1914.7860 - val_loss: 2934919.5000 - val_mae: 1407.7428\n",
      "Epoch 4/250\n",
      "1409/1409 [==============================] - 413s 293ms/step - loss: 3204364.5000 - mae: 1435.3265 - val_loss: 2963606.0000 - val_mae: 1415.6910\n",
      "Epoch 5/250\n",
      "1409/1409 [==============================] - 417s 296ms/step - loss: 3208495.2500 - mae: 1436.8074 - val_loss: 2975342.0000 - val_mae: 1418.9065\n",
      "Epoch 6/250\n",
      "1409/1409 [==============================] - 418s 297ms/step - loss: 3139615.0000 - mae: 1416.5593 - val_loss: 1628981.0000 - val_mae: 1006.3735\n",
      "Epoch 7/250\n",
      "1409/1409 [==============================] - 420s 298ms/step - loss: 1491044.8750 - mae: 943.8754 - val_loss: 593219.8750 - val_mae: 573.1784\n",
      "Epoch 8/250\n",
      "1409/1409 [==============================] - 422s 300ms/step - loss: 1099932.8750 - mae: 817.9944 - val_loss: 603922.4375 - val_mae: 608.5103\n",
      "Epoch 9/250\n",
      "1409/1409 [==============================] - 423s 300ms/step - loss: 1020701.0000 - mae: 790.3906 - val_loss: 442522.1875 - val_mae: 502.1047\n",
      "Epoch 10/250\n",
      "1409/1409 [==============================] - 425s 302ms/step - loss: 979039.1250 - mae: 773.8234 - val_loss: 401205.6562 - val_mae: 462.7237\n",
      "Epoch 11/250\n",
      "1409/1409 [==============================] - 427s 303ms/step - loss: 948693.9375 - mae: 762.6127 - val_loss: 368535.2812 - val_mae: 445.1241\n",
      "Epoch 12/250\n",
      "1409/1409 [==============================] - 425s 302ms/step - loss: 935662.9375 - mae: 755.5734 - val_loss: 366310.5312 - val_mae: 442.2834\n",
      "Epoch 13/250\n",
      "1409/1409 [==============================] - 426s 302ms/step - loss: 920187.4375 - mae: 749.9636 - val_loss: 378334.1250 - val_mae: 452.0383\n",
      "Epoch 14/250\n",
      "1409/1409 [==============================] - 425s 302ms/step - loss: 893954.6875 - mae: 739.8920 - val_loss: 356345.1250 - val_mae: 430.1809\n",
      "Epoch 15/250\n",
      "1409/1409 [==============================] - 428s 304ms/step - loss: 901557.6250 - mae: 740.5023 - val_loss: 381226.9062 - val_mae: 451.5913\n",
      "Epoch 16/250\n",
      "1409/1409 [==============================] - 431s 306ms/step - loss: 885968.5625 - mae: 735.9078 - val_loss: 350600.3750 - val_mae: 429.3350\n",
      "Epoch 17/250\n",
      "1409/1409 [==============================] - 443s 315ms/step - loss: 877136.4375 - mae: 731.4171 - val_loss: 356787.5625 - val_mae: 437.1860\n",
      "Epoch 18/250\n",
      "1409/1409 [==============================] - 451s 320ms/step - loss: 879388.3125 - mae: 730.8757 - val_loss: 400480.7500 - val_mae: 472.6854\n",
      "Epoch 19/250\n",
      "1409/1409 [==============================] - 461s 327ms/step - loss: 867979.9375 - mae: 728.7702 - val_loss: 372053.1250 - val_mae: 448.5194\n",
      "262/262 [==============================] - 44s 98ms/step - loss: 415279.9688 - mae: 471.4024\n",
      "Test MAE: 471.402435\n"
     ]
    }
   ],
   "source": [
    "\n",
    "inputs = keras.Input(shape=(sequence_length, raw_data.shape[-1]))\n",
    "x = layers.Dense(32, activation='leaky_relu')(inputs)\n",
    "x = layers.LSTM(64, unroll=True, recurrent_dropout=0.25, return_sequences=True)(x)\n",
    "x = layers.LSTM(64, unroll=True, recurrent_dropout=0.25, return_sequences=True)(x)\n",
    "x = layers.LSTM(64, unroll=True, recurrent_dropout=0.25)(x)\n",
    "x = layers.Dropout(0.25)(x)\n",
    "x = layers.Dense(32, activation='leaky_relu')(x)\n",
    "\n",
    "outputs = layers.Dense(1)(x)\n",
    "model = keras.Model(inputs, outputs)\n",
    "\n",
    "history, checkpoint_file = evaluate(model, epochs=250)"
   ]
  },
  {
   "cell_type": "code",
   "execution_count": 12,
   "metadata": {},
   "outputs": [
    {
     "name": "stdout",
     "output_type": "stream",
     "text": [
      "load_prediction_adamax_mse_20220505_175618.keras\n"
     ]
    },
    {
     "data": {
      "image/png": "[encoded data removed]",
      "text/plain": [
       "<Figure size 432x288 with 1 Axes>"
      ]
     },
     "metadata": {
      "needs_background": "light"
     },
     "output_type": "display_data"
    }
   ],
   "source": [
    "print(checkpoint_file)\n",
    "import matplotlib.pyplot as plt\n",
    "loss = history.history[\"mae\"]\n",
    "val_loss = history.history[\"val_mae\"]\n",
    "epochs = range(1, len(loss) + 1)\n",
    "plt.figure()\n",
    "plt.plot(epochs, loss, \"bo\", label=\"Training MAE\")\n",
    "plt.plot(epochs, val_loss, \"b\", label=\"Validation MAE\")\n",
    "plt.title(\"Training and validation MAE\")\n",
    "plt.legend()\n",
    "plt.show()"
   ]
  }
 ],
 "metadata": {
  "interpreter": {
   "hash": "41ef4c49daf04e3233ba6b635c7f25b9198ce21d50a8d96d9f4bcf57386dfab9"
  },
  "kernelspec": {
   "display_name": "Python 3.9.12 ('mml-i7LNY0oE')",
   "language": "python",
   "name": "python3"
  },
  "language_info": {
   "codemirror_mode": {
    "name": "ipython",
    "version": 3
   },
   "file_extension": ".py",
   "mimetype": "text/x-python",
   "name": "python",
   "nbconvert_exporter": "python",
   "pygments_lexer": "ipython3",
   "version": "3.9.12"
  },
  "orig_nbformat": 4
 },
 "nbformat": 4,
 "nbformat_minor": 2
}
