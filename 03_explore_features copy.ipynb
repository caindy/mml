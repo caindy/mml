{
 "cells": [
  {
   "cell_type": "code",
   "execution_count": 1,
   "metadata": {},
   "outputs": [],
   "source": [
    "%load_ext autoreload\n",
    "%autoreload 2\n",
    "\n",
    "from datasets import Zone1\n",
    "ds = Zone1('data/zone1_prior_load.parquet')\n"
   ]
  },
  {
   "cell_type": "code",
   "execution_count": 2,
   "metadata": {},
   "outputs": [],
   "source": [
    "df = ds.data.copy()\n",
    "import pandas as pd\n",
    "import numpy as np\n",
    "day = 24*60*60\n",
    "year = (365.2425)*day\n",
    "timestamp_s = df.index.to_series().map(pd.Timestamp.timestamp)\n",
    "df['Daily sin'] = np.sin(timestamp_s * (2 * np.pi / day))\n",
    "df['Daily cos'] = np.cos(timestamp_s * (2 * np.pi / day))\n",
    "df['Weekly sin'] = np.sin(timestamp_s * (2 * np.pi / (7*day)))\n",
    "df['Weekly cos'] = np.cos(timestamp_s * (2 * np.pi / (7*day)))\n",
    "df['Yearly sin'] = np.sin(timestamp_s * (2 * np.pi / year))\n",
    "df['Yearly cos'] = np.cos(timestamp_s * (2 * np.pi / year))"
   ]
  },
  {
   "cell_type": "code",
   "execution_count": 3,
   "metadata": {},
   "outputs": [],
   "source": [
    "from validation import Error, walkforward\n",
    "import numpy as np\n",
    "from sklearn.neighbors import KNeighborsRegressor"
   ]
  },
  {
   "cell_type": "code",
   "execution_count": 4,
   "metadata": {},
   "outputs": [
    {
     "name": "stdout",
     "output_type": "stream",
     "text": [
      "Error(mae=516.4689863273425, max=3416.3899998856414, total=4524268.320227515)\n"
     ]
    }
   ],
   "source": [
    "knn = KNeighborsRegressor(7, weights='distance')\n",
    "(predictions, errors) = walkforward(knn, df, ds.data[ds.actual],\n",
    "                                    ds.validation_start, ds.validation_end, Zone1.next_hour,\n",
    "                                    ds.correlated_columns +  ['Daily sin', 'Daily cos', 'Weekly sin', 'Weekly cos', 'Yearly sin', 'Yearly cos'])\n",
    "overall_error = Error(ds.validation_data[ds.actual], np.concatenate(predictions))\n",
    "print(overall_error)"
   ]
  },
  {
   "cell_type": "code",
   "execution_count": 16,
   "metadata": {},
   "outputs": [
    {
     "name": "stdout",
     "output_type": "stream",
     "text": [
      "MTLF Error(mae=222.98570091324197, max=2217.33, total=1953354.7399999993)\n"
     ]
    }
   ],
   "source": [
    "mtlf_error = Error(ds.validation_data[ds.actual], ds.validation_data[ds.mtlf])\n",
    "print(f'MTLF {mtlf_error}')"
   ]
  }
 ],
 "metadata": {
  "interpreter": {
   "hash": "41ef4c49daf04e3233ba6b635c7f25b9198ce21d50a8d96d9f4bcf57386dfab9"
  },
  "kernelspec": {
   "display_name": "Python 3.9.12 ('mml-i7LNY0oE')",
   "language": "python",
   "name": "python3"
  },
  "language_info": {
   "codemirror_mode": {
    "name": "ipython",
    "version": 3
   },
   "file_extension": ".py",
   "mimetype": "text/x-python",
   "name": "python",
   "nbconvert_exporter": "python",
   "pygments_lexer": "ipython3",
   "version": "3.9.12"
  },
  "orig_nbformat": 4
 },
 "nbformat": 4,
 "nbformat_minor": 2
}
