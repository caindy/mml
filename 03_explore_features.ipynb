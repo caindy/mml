{
 "cells": [
  {
   "cell_type": "markdown",
   "metadata": {},
   "source": [
    "### Feature Exploration\n",
    "\n",
    "Explore the definition of the following features, showing how they can be used to augment the raw dataset.\n",
    "* Preceding Load: Previous `n` hours of actual load\n",
    "* Is Business Hour\n",
    "* Day of Year\n",
    "* Discomfort level\n",
    "* Temperature change (vs absolute temperature)\n",
    "* Similar Hour Preceding Load\n",
    "\n",
    "Explore the use of dataset wrapper class:\n",
    "* Demonstrate feature selection\n",
    "* Updating with recent data"
   ]
  },
  {
   "cell_type": "code",
   "execution_count": null,
   "metadata": {},
   "outputs": [],
   "source": []
  }
 ],
 "metadata": {
  "language_info": {
   "name": "python"
  },
  "orig_nbformat": 4
 },
 "nbformat": 4,
 "nbformat_minor": 2
}
