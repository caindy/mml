{
 "cells": [
  {
   "cell_type": "code",
   "execution_count": 10,
   "metadata": {},
   "outputs": [
    {
     "name": "stdout",
     "output_type": "stream",
     "text": [
      "The autoreload extension is already loaded. To reload it, use:\n",
      "  %reload_ext autoreload\n"
     ]
    },
    {
     "ename": "ValueError",
     "evalue": "Found input variables with inconsistent numbers of samples: [8760, 8880]",
     "output_type": "error",
     "traceback": [
      "\u001b[1;31m---------------------------------------------------------------------------\u001b[0m",
      "\u001b[1;31mValueError\u001b[0m                                Traceback (most recent call last)",
      "\u001b[1;32mc:\\Users\\chris\\OneDrive\\Documents\\GitHub\\mml\\05_random_forest_regression.ipynb Cell 1'\u001b[0m in \u001b[0;36m<cell line: 13>\u001b[1;34m()\u001b[0m\n\u001b[0;32m     <a href='vscode-notebook-cell:/c%3A/Users/chris/OneDrive/Documents/GitHub/mml/05_random_forest_regression.ipynb#ch0000000?line=13'>14</a>\u001b[0m model \u001b[39m=\u001b[39m RandomForestRegressor(n_estimators\u001b[39m=\u001b[39mn, max_samples\u001b[39m=\u001b[39ms, n_jobs\u001b[39m=\u001b[39m\u001b[39m4\u001b[39m)\n\u001b[0;32m     <a href='vscode-notebook-cell:/c%3A/Users/chris/OneDrive/Documents/GitHub/mml/05_random_forest_regression.ipynb#ch0000000?line=14'>15</a>\u001b[0m (predictions, errors) \u001b[39m=\u001b[39m walkforward(model, ds\u001b[39m.\u001b[39mdata, ds\u001b[39m.\u001b[39mdata[ds\u001b[39m.\u001b[39mactual],\n\u001b[0;32m     <a href='vscode-notebook-cell:/c%3A/Users/chris/OneDrive/Documents/GitHub/mml/05_random_forest_regression.ipynb#ch0000000?line=15'>16</a>\u001b[0m                                     ds\u001b[39m.\u001b[39mvalidation_start, ds\u001b[39m.\u001b[39mvalidation_end, Zone1\u001b[39m.\u001b[39mnext_hour,\n\u001b[0;32m     <a href='vscode-notebook-cell:/c%3A/Users/chris/OneDrive/Documents/GitHub/mml/05_random_forest_regression.ipynb#ch0000000?line=16'>17</a>\u001b[0m                                     ds\u001b[39m.\u001b[39mfeatures)\n\u001b[1;32m---> <a href='vscode-notebook-cell:/c%3A/Users/chris/OneDrive/Documents/GitHub/mml/05_random_forest_regression.ipynb#ch0000000?line=17'>18</a>\u001b[0m overall_error \u001b[39m=\u001b[39m Error(ds\u001b[39m.\u001b[39;49mvalidation_data[ds\u001b[39m.\u001b[39;49mactual], np\u001b[39m.\u001b[39;49mconcatenate(predictions))\n\u001b[0;32m     <a href='vscode-notebook-cell:/c%3A/Users/chris/OneDrive/Documents/GitHub/mml/05_random_forest_regression.ipynb#ch0000000?line=18'>19</a>\u001b[0m \u001b[39mprint\u001b[39m(overall_error)\n",
      "File \u001b[1;32mc:\\Users\\chris\\OneDrive\\Documents\\GitHub\\mml\\validation.py:64\u001b[0m, in \u001b[0;36mError.__init__\u001b[1;34m(self, y, yhat)\u001b[0m\n\u001b[0;32m     <a href='file:///c%3A/Users/chris/OneDrive/Documents/GitHub/mml/validation.py?line=62'>63</a>\u001b[0m \u001b[39mdef\u001b[39;00m \u001b[39m__init__\u001b[39m(\u001b[39mself\u001b[39m, y, yhat) \u001b[39m-\u001b[39m\u001b[39m>\u001b[39m \u001b[39mNone\u001b[39;00m:\n\u001b[1;32m---> <a href='file:///c%3A/Users/chris/OneDrive/Documents/GitHub/mml/validation.py?line=63'>64</a>\u001b[0m     \u001b[39mself\u001b[39m\u001b[39m.\u001b[39mmae \u001b[39m=\u001b[39m mean_absolute_error(y, yhat)\n\u001b[0;32m     <a href='file:///c%3A/Users/chris/OneDrive/Documents/GitHub/mml/validation.py?line=64'>65</a>\u001b[0m     \u001b[39mself\u001b[39m\u001b[39m.\u001b[39mmax \u001b[39m=\u001b[39m max_error(y, yhat)\n\u001b[0;32m     <a href='file:///c%3A/Users/chris/OneDrive/Documents/GitHub/mml/validation.py?line=65'>66</a>\u001b[0m     \u001b[39mself\u001b[39m\u001b[39m.\u001b[39mtotal \u001b[39m=\u001b[39m \u001b[39msum\u001b[39m(\u001b[39mabs\u001b[39m(y \u001b[39m-\u001b[39m yhat))\n",
      "File \u001b[1;32m~\\.virtualenvs\\mml-i7LNY0oE\\lib\\site-packages\\sklearn\\metrics\\_regression.py:191\u001b[0m, in \u001b[0;36mmean_absolute_error\u001b[1;34m(y_true, y_pred, sample_weight, multioutput)\u001b[0m\n\u001b[0;32m    <a href='file:///c%3A/Users/chris/.virtualenvs/mml-i7LNY0oE/lib/site-packages/sklearn/metrics/_regression.py?line=134'>135</a>\u001b[0m \u001b[39mdef\u001b[39;00m \u001b[39mmean_absolute_error\u001b[39m(\n\u001b[0;32m    <a href='file:///c%3A/Users/chris/.virtualenvs/mml-i7LNY0oE/lib/site-packages/sklearn/metrics/_regression.py?line=135'>136</a>\u001b[0m     y_true, y_pred, \u001b[39m*\u001b[39m, sample_weight\u001b[39m=\u001b[39m\u001b[39mNone\u001b[39;00m, multioutput\u001b[39m=\u001b[39m\u001b[39m\"\u001b[39m\u001b[39muniform_average\u001b[39m\u001b[39m\"\u001b[39m\n\u001b[0;32m    <a href='file:///c%3A/Users/chris/.virtualenvs/mml-i7LNY0oE/lib/site-packages/sklearn/metrics/_regression.py?line=136'>137</a>\u001b[0m ):\n\u001b[0;32m    <a href='file:///c%3A/Users/chris/.virtualenvs/mml-i7LNY0oE/lib/site-packages/sklearn/metrics/_regression.py?line=137'>138</a>\u001b[0m     \u001b[39m\"\"\"Mean absolute error regression loss.\u001b[39;00m\n\u001b[0;32m    <a href='file:///c%3A/Users/chris/.virtualenvs/mml-i7LNY0oE/lib/site-packages/sklearn/metrics/_regression.py?line=138'>139</a>\u001b[0m \n\u001b[0;32m    <a href='file:///c%3A/Users/chris/.virtualenvs/mml-i7LNY0oE/lib/site-packages/sklearn/metrics/_regression.py?line=139'>140</a>\u001b[0m \u001b[39m    Read more in the :ref:`User Guide <mean_absolute_error>`.\u001b[39;00m\n\u001b[1;32m   (...)\u001b[0m\n\u001b[0;32m    <a href='file:///c%3A/Users/chris/.virtualenvs/mml-i7LNY0oE/lib/site-packages/sklearn/metrics/_regression.py?line=188'>189</a>\u001b[0m \u001b[39m    0.85...\u001b[39;00m\n\u001b[0;32m    <a href='file:///c%3A/Users/chris/.virtualenvs/mml-i7LNY0oE/lib/site-packages/sklearn/metrics/_regression.py?line=189'>190</a>\u001b[0m \u001b[39m    \"\"\"\u001b[39;00m\n\u001b[1;32m--> <a href='file:///c%3A/Users/chris/.virtualenvs/mml-i7LNY0oE/lib/site-packages/sklearn/metrics/_regression.py?line=190'>191</a>\u001b[0m     y_type, y_true, y_pred, multioutput \u001b[39m=\u001b[39m _check_reg_targets(\n\u001b[0;32m    <a href='file:///c%3A/Users/chris/.virtualenvs/mml-i7LNY0oE/lib/site-packages/sklearn/metrics/_regression.py?line=191'>192</a>\u001b[0m         y_true, y_pred, multioutput\n\u001b[0;32m    <a href='file:///c%3A/Users/chris/.virtualenvs/mml-i7LNY0oE/lib/site-packages/sklearn/metrics/_regression.py?line=192'>193</a>\u001b[0m     )\n\u001b[0;32m    <a href='file:///c%3A/Users/chris/.virtualenvs/mml-i7LNY0oE/lib/site-packages/sklearn/metrics/_regression.py?line=193'>194</a>\u001b[0m     check_consistent_length(y_true, y_pred, sample_weight)\n\u001b[0;32m    <a href='file:///c%3A/Users/chris/.virtualenvs/mml-i7LNY0oE/lib/site-packages/sklearn/metrics/_regression.py?line=194'>195</a>\u001b[0m     output_errors \u001b[39m=\u001b[39m np\u001b[39m.\u001b[39maverage(np\u001b[39m.\u001b[39mabs(y_pred \u001b[39m-\u001b[39m y_true), weights\u001b[39m=\u001b[39msample_weight, axis\u001b[39m=\u001b[39m\u001b[39m0\u001b[39m)\n",
      "File \u001b[1;32m~\\.virtualenvs\\mml-i7LNY0oE\\lib\\site-packages\\sklearn\\metrics\\_regression.py:94\u001b[0m, in \u001b[0;36m_check_reg_targets\u001b[1;34m(y_true, y_pred, multioutput, dtype)\u001b[0m\n\u001b[0;32m     <a href='file:///c%3A/Users/chris/.virtualenvs/mml-i7LNY0oE/lib/site-packages/sklearn/metrics/_regression.py?line=59'>60</a>\u001b[0m \u001b[39mdef\u001b[39;00m \u001b[39m_check_reg_targets\u001b[39m(y_true, y_pred, multioutput, dtype\u001b[39m=\u001b[39m\u001b[39m\"\u001b[39m\u001b[39mnumeric\u001b[39m\u001b[39m\"\u001b[39m):\n\u001b[0;32m     <a href='file:///c%3A/Users/chris/.virtualenvs/mml-i7LNY0oE/lib/site-packages/sklearn/metrics/_regression.py?line=60'>61</a>\u001b[0m     \u001b[39m\"\"\"Check that y_true and y_pred belong to the same regression task.\u001b[39;00m\n\u001b[0;32m     <a href='file:///c%3A/Users/chris/.virtualenvs/mml-i7LNY0oE/lib/site-packages/sklearn/metrics/_regression.py?line=61'>62</a>\u001b[0m \n\u001b[0;32m     <a href='file:///c%3A/Users/chris/.virtualenvs/mml-i7LNY0oE/lib/site-packages/sklearn/metrics/_regression.py?line=62'>63</a>\u001b[0m \u001b[39m    Parameters\u001b[39;00m\n\u001b[1;32m   (...)\u001b[0m\n\u001b[0;32m     <a href='file:///c%3A/Users/chris/.virtualenvs/mml-i7LNY0oE/lib/site-packages/sklearn/metrics/_regression.py?line=91'>92</a>\u001b[0m \u001b[39m        the dtype argument passed to check_array.\u001b[39;00m\n\u001b[0;32m     <a href='file:///c%3A/Users/chris/.virtualenvs/mml-i7LNY0oE/lib/site-packages/sklearn/metrics/_regression.py?line=92'>93</a>\u001b[0m \u001b[39m    \"\"\"\u001b[39;00m\n\u001b[1;32m---> <a href='file:///c%3A/Users/chris/.virtualenvs/mml-i7LNY0oE/lib/site-packages/sklearn/metrics/_regression.py?line=93'>94</a>\u001b[0m     check_consistent_length(y_true, y_pred)\n\u001b[0;32m     <a href='file:///c%3A/Users/chris/.virtualenvs/mml-i7LNY0oE/lib/site-packages/sklearn/metrics/_regression.py?line=94'>95</a>\u001b[0m     y_true \u001b[39m=\u001b[39m check_array(y_true, ensure_2d\u001b[39m=\u001b[39m\u001b[39mFalse\u001b[39;00m, dtype\u001b[39m=\u001b[39mdtype)\n\u001b[0;32m     <a href='file:///c%3A/Users/chris/.virtualenvs/mml-i7LNY0oE/lib/site-packages/sklearn/metrics/_regression.py?line=95'>96</a>\u001b[0m     y_pred \u001b[39m=\u001b[39m check_array(y_pred, ensure_2d\u001b[39m=\u001b[39m\u001b[39mFalse\u001b[39;00m, dtype\u001b[39m=\u001b[39mdtype)\n",
      "File \u001b[1;32m~\\.virtualenvs\\mml-i7LNY0oE\\lib\\site-packages\\sklearn\\utils\\validation.py:332\u001b[0m, in \u001b[0;36mcheck_consistent_length\u001b[1;34m(*arrays)\u001b[0m\n\u001b[0;32m    <a href='file:///c%3A/Users/chris/.virtualenvs/mml-i7LNY0oE/lib/site-packages/sklearn/utils/validation.py?line=329'>330</a>\u001b[0m uniques \u001b[39m=\u001b[39m np\u001b[39m.\u001b[39munique(lengths)\n\u001b[0;32m    <a href='file:///c%3A/Users/chris/.virtualenvs/mml-i7LNY0oE/lib/site-packages/sklearn/utils/validation.py?line=330'>331</a>\u001b[0m \u001b[39mif\u001b[39;00m \u001b[39mlen\u001b[39m(uniques) \u001b[39m>\u001b[39m \u001b[39m1\u001b[39m:\n\u001b[1;32m--> <a href='file:///c%3A/Users/chris/.virtualenvs/mml-i7LNY0oE/lib/site-packages/sklearn/utils/validation.py?line=331'>332</a>\u001b[0m     \u001b[39mraise\u001b[39;00m \u001b[39mValueError\u001b[39;00m(\n\u001b[0;32m    <a href='file:///c%3A/Users/chris/.virtualenvs/mml-i7LNY0oE/lib/site-packages/sklearn/utils/validation.py?line=332'>333</a>\u001b[0m         \u001b[39m\"\u001b[39m\u001b[39mFound input variables with inconsistent numbers of samples: \u001b[39m\u001b[39m%r\u001b[39;00m\u001b[39m\"\u001b[39m\n\u001b[0;32m    <a href='file:///c%3A/Users/chris/.virtualenvs/mml-i7LNY0oE/lib/site-packages/sklearn/utils/validation.py?line=333'>334</a>\u001b[0m         \u001b[39m%\u001b[39m [\u001b[39mint\u001b[39m(l) \u001b[39mfor\u001b[39;00m l \u001b[39min\u001b[39;00m lengths]\n\u001b[0;32m    <a href='file:///c%3A/Users/chris/.virtualenvs/mml-i7LNY0oE/lib/site-packages/sklearn/utils/validation.py?line=334'>335</a>\u001b[0m     )\n",
      "\u001b[1;31mValueError\u001b[0m: Found input variables with inconsistent numbers of samples: [8760, 8880]"
     ]
    }
   ],
   "source": [
    "%load_ext autoreload\n",
    "%autoreload 2\n",
    "\n",
    "from datasets import Zone1\n",
    "ds = Zone1('data/zone1_prior_load.parquet')\n",
    "ds.data.head()\n",
    "\n",
    "from validation import walkforward, Error\n",
    "from sklearn.ensemble import RandomForestRegressor\n",
    "import numpy as np\n",
    "\n",
    "n = 50\n",
    "for s in [0.5, 0.75, 1.0]:\n",
    "    model = RandomForestRegressor(n_estimators=n, max_samples=s, n_jobs=4)\n",
    "    (predictions, errors) = walkforward(model, ds.data, ds.data[ds.actual],\n",
    "                                        ds.validation_start, ds.validation_end, Zone1.next_hour,\n",
    "                                        ds.features)\n",
    "    overall_error = Error(ds.validation_data[ds.actual], np.concatenate(predictions))\n",
    "    print(overall_error)\n"
   ]
  },
  {
   "cell_type": "code",
   "execution_count": 2,
   "metadata": {},
   "outputs": [
    {
     "data": {
      "text/plain": [
       "Error(mae=525.7232836431832, max=3594.14957142857, total=4605335.9647143185)"
      ]
     },
     "execution_count": 2,
     "metadata": {},
     "output_type": "execute_result"
    }
   ],
   "source": [
    "overall_error"
   ]
  },
  {
   "cell_type": "code",
   "execution_count": 3,
   "metadata": {},
   "outputs": [],
   "source": [
    "cols = ds.data.columns.to_series()\n",
    "cols = cols.drop([ds.actual, ds.mtlf])\n",
    "(predictions, errors) = walkforward(model, ds.data, ds.data[ds.actual],\n",
    "                                    ds.validation_start, ds.validation_end, Zone1.next_hour,\n",
    "                                    cols)"
   ]
  },
  {
   "cell_type": "code",
   "execution_count": 5,
   "metadata": {},
   "outputs": [
    {
     "name": "stdout",
     "output_type": "stream",
     "text": [
      "Error(mae=558.0673640247879, max=3854.812285714286, total=4888670.108857114)\n"
     ]
    }
   ],
   "source": [
    "overall_error = Error(ds.validation_data[ds.actual], np.concatenate(predictions))\n",
    "print(overall_error)"
   ]
  }
 ],
 "metadata": {
  "interpreter": {
   "hash": "656d9c9dcfe2faf48f2fd84a8eb7135158c7cca549d2b4648b451fb4e5e38b0f"
  },
  "kernelspec": {
   "display_name": "Python 3.9.7 ('mml-uJPEnftj')",
   "language": "python",
   "name": "python3"
  },
  "language_info": {
   "codemirror_mode": {
    "name": "ipython",
    "version": 3
   },
   "file_extension": ".py",
   "mimetype": "text/x-python",
   "name": "python",
   "nbconvert_exporter": "python",
   "pygments_lexer": "ipython3",
   "version": "3.9.12"
  },
  "orig_nbformat": 4
 },
 "nbformat": 4,
 "nbformat_minor": 2
}
