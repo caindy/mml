{
 "cells": [
  {
   "cell_type": "markdown",
   "metadata": {},
   "source": [
    "\n",
    "### Alternative Approaches\n",
    "\n",
    "#### Mean Hourly Load Baseline\n",
    "\n",
    "Create another naive baseline that averages the current hour load from the prior week.\n",
    "\n",
    "#### Categorical Features\n",
    "\n",
    "* Major holidays in lieu of \"day of year\"\n",
    "* Is Work Day *instead of* Is Business Hour\n",
    "* Extreme temp: std dev for that hour historically\n",
    "* Similar Days Model: Create a model that that predicts \n",
    "  a k-NN cluster membership for a particular day then \n",
    "  one-hot encode that into the training set for other models\n",
    "\n",
    "#### Temperature Observation\n",
    "\n",
    "* Include more stations despite bad data\n",
    "* Include `feel` instead of `tmpf`\n",
    "* Any need for normalization?\n",
    "* Create simple weather forecasting model and add to ensemble that predicts load\n",
    "\n",
    "#### Per Hour Model\n",
    "\n",
    "Estimate the hourly load by fitting 24 different hourly models.\n",
    "\n",
    "A really good hour-ending 1 model would then statically produce a feature for\n",
    "the hour-ending 2 model, and so on, giving 24 datasets. This also allows for\n",
    "different feature engineering per hour. For example, does the overnight low\n",
    "probably does not correlate with the \"is work day\"\n",
    "\n",
    "* Prior n hours\n",
    "* Previous day peak hour / load\n",
    "* Previous day lowest hour / load\n",
    "* Previous day same hour\n",
    "* Categoricals\n",
    "\n"
   ]
  }
 ],
 "metadata": {
  "interpreter": {
   "hash": "ea54240020e07c96210ab594155946643681c2705be142acda2fae782468806d"
  },
  "kernelspec": {
   "display_name": "Python 3.9.12 ('mml-i7LNY0oE')",
   "language": "python",
   "name": "python3"
  },
  "language_info": {
   "name": "python",
   "version": "3.9.12"
  },
  "orig_nbformat": 4
 },
 "nbformat": 4,
 "nbformat_minor": 2
}
